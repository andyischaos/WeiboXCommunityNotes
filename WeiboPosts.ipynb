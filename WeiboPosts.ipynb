{
 "cells": [
  {
   "cell_type": "code",
   "execution_count": 1,
   "metadata": {},
   "outputs": [],
   "source": [
    "import pandas as pd\n",
    "from selenium import webdriver\n",
    "from selenium.webdriver.chrome.service import Service\n",
    "from bs4 import BeautifulSoup\n",
    "from selenium.webdriver.common.by import By\n",
    "import requests\n",
    "import numpy as np\n",
    "import time\n",
    "# Specify the path to ChromeDriver\n",
    "chrome_driver_path ='chromedriver-mac-x64/chromedriver'\n",
    "CommunityNotes=pd.read_csv(\"CommunityNotes.csv\")\n"
   ]
  },
  {
   "cell_type": "code",
   "execution_count": 26,
   "metadata": {},
   "outputs": [],
   "source": [
    "service = Service(chrome_driver_path)\n",
    "driver = webdriver.Chrome(service=service)\n"
   ]
  },
  {
   "cell_type": "code",
   "execution_count": 23,
   "metadata": {},
   "outputs": [],
   "source": [
    "#target_weibos=pd.DataFrame(columns=['target','user_id','user_name','post_time','post','note_author','note_type','note_content'])\n",
    "\n",
    "target_weibos=pd.read_csv(\"TargetWeibos.csv\")"
   ]
  },
  {
   "cell_type": "code",
   "execution_count": 24,
   "metadata": {},
   "outputs": [],
   "source": [
    "CommunityNotes_targets=list(set(CommunityNotes.target.unique()).difference(set(target_weibos.target.unique())))"
   ]
  },
  {
   "cell_type": "code",
   "execution_count": 28,
   "metadata": {},
   "outputs": [
    {
     "data": {
      "text/plain": [
       "46"
      ]
     },
     "execution_count": 28,
     "metadata": {},
     "output_type": "execute_result"
    }
   ],
   "source": [
    "len(CommunityNotes_targets)"
   ]
  },
  {
   "cell_type": "code",
   "execution_count": 17,
   "metadata": {},
   "outputs": [
    {
     "data": {
      "text/plain": [
       "3015"
      ]
     },
     "execution_count": 17,
     "metadata": {},
     "output_type": "execute_result"
    }
   ],
   "source": [
    "CommunityNotes_targets.index('http://t.cn/A6HXoEkn')"
   ]
  },
  {
   "cell_type": "code",
   "execution_count": 27,
   "metadata": {
    "scrolled": true
   },
   "outputs": [],
   "source": [
    "for i in range(len(CommunityNotes_targets)):\n",
    "    if CommunityNotes_targets[i].startswith('http://t.cn'):\n",
    "        driver.get(CommunityNotes_targets[i])\n",
    "        time.sleep(10)\n",
    "        print(CommunityNotes_targets[i])\n",
    "        soup = BeautifulSoup(driver.page_source, 'html.parser')\n",
    "        user=soup.find('a',{'class':'ALink_default_2ibt1 head_cut_2Zcft head_name_24eEB'})\n",
    "        if user:\n",
    "            user_id=user.get('usercard')\n",
    "            user_name=user.find('span').get_text()\n",
    "            post=soup.find('div',{'class':'detail_wbtext_4CRf9'})\n",
    "            post_time=soup.find('a',{'class':'head-info_time_6sFQg'}).get_text(strip=True)\n",
    "            notes=soup.find_all('div',{'class':'community-note-detail_item_2kRdt'})\n",
    "            if len(notes)!=0:\n",
    "                for note in notes:\n",
    "                    note_author=note.find('div',{'class':'community-note-detail_t11_14-ls community-note-detail_pointer_3Ro0s'}).get_text(strip=True)\n",
    "                    note_type=note.find('div',{'class':'community-note-detail_t12_2O51m'}).get_text(strip=True)\n",
    "                    note_content=note.find('div',{'class':'community-note-detail_t2_NIKuE community-note-detail_es_1U-kA community-note-detail_pointer_3Ro0s'}).get_text(strip=True)\n",
    "                    new_row = {'target':CommunityNotes_targets[i],'user_id':user_id,'user_name':user_name,'post_time':post_time,'post':post,'note_author':note_author,'note_type':note_type,'note_content':note_content}\n",
    "                    target_weibos = target_weibos.append(new_row, ignore_index=True)\n",
    "            else:\n",
    "                new_row = {'target':CommunityNotes_targets[i],'user_id':user_id,'user_name':user_name,'post_time':post_time,'post':post,'note_author':None,'note_type':None,'note_content':None}\n",
    "                target_weibos = target_weibos.append(new_row, ignore_index=True)\n",
    "\n",
    "        else:\n",
    "            new_row = {'target':CommunityNotes_targets[i],'user_id':None,'user_name':None,'post_time':None,'post':None,'note_author':None,'note_type':None,'note_content':None}\n",
    "            target_weibos = target_weibos.append(new_row, ignore_index=True)\n",
    "        target_weibos.to_csv(\"TargetWeibos.csv\",index=False)\n"
   ]
  },
  {
   "cell_type": "code",
   "execution_count": null,
   "metadata": {},
   "outputs": [],
   "source": []
  }
 ],
 "metadata": {
  "kernelspec": {
   "display_name": "Python 3 (ipykernel)",
   "language": "python",
   "name": "python3"
  },
  "language_info": {
   "codemirror_mode": {
    "name": "ipython",
    "version": 3
   },
   "file_extension": ".py",
   "mimetype": "text/x-python",
   "name": "python",
   "nbconvert_exporter": "python",
   "pygments_lexer": "ipython3",
   "version": "3.11.2"
  }
 },
 "nbformat": 4,
 "nbformat_minor": 2
}
