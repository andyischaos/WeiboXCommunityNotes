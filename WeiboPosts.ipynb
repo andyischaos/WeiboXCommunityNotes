{
 "cells": [
  {
   "cell_type": "code",
   "execution_count": 1,
   "metadata": {},
   "outputs": [],
   "source": [
    "import pandas as pd\n",
    "from selenium import webdriver\n",
    "from selenium.webdriver.chrome.service import Service\n",
    "from bs4 import BeautifulSoup\n",
    "from selenium.webdriver.common.by import By\n",
    "import requests\n",
    "import numpy as np\n",
    "import time\n",
    "# Specify the path to ChromeDriver\n",
    "chrome_driver_path ='chromedriver-mac-x64/chromedriver'\n",
    "CommunityNotes=pd.read_csv(\"CommunityNotes.csv\")\n"
   ]
  },
  {
   "cell_type": "code",
   "execution_count": 11,
   "metadata": {
    "scrolled": true
   },
   "outputs": [
    {
     "data": {
      "text/html": [
       "<div>\n",
       "<style scoped>\n",
       "    .dataframe tbody tr th:only-of-type {\n",
       "        vertical-align: middle;\n",
       "    }\n",
       "\n",
       "    .dataframe tbody tr th {\n",
       "        vertical-align: top;\n",
       "    }\n",
       "\n",
       "    .dataframe thead th {\n",
       "        text-align: right;\n",
       "    }\n",
       "</style>\n",
       "<table border=\"1\" class=\"dataframe\">\n",
       "  <thead>\n",
       "    <tr style=\"text-align: right;\">\n",
       "      <th></th>\n",
       "      <th>post_id</th>\n",
       "      <th>post_link</th>\n",
       "      <th>user_name</th>\n",
       "      <th>user_link</th>\n",
       "      <th>time</th>\n",
       "      <th>target</th>\n",
       "      <th>post_content</th>\n",
       "      <th>like</th>\n",
       "    </tr>\n",
       "  </thead>\n",
       "  <tbody>\n",
       "    <tr>\n",
       "      <th>8329</th>\n",
       "      <td>4984456108573057</td>\n",
       "      <td>//weibo.com/2012489170/Nzr5wzYf7?refer_flag=10...</td>\n",
       "      <td>天朝老铁</td>\n",
       "      <td>//weibo.com/2012489170?refer_flag=1001030103_</td>\n",
       "      <td>2023年12月30日 01:20</td>\n",
       "      <td>http://t.cn/A6l8dLUG</td>\n",
       "      <td>&lt;a href=\"https://s.weibo.com/weibo?q=%23%E5%BE...</td>\n",
       "      <td>3</td>\n",
       "    </tr>\n",
       "    <tr>\n",
       "      <th>8330</th>\n",
       "      <td>4973905250618715</td>\n",
       "      <td>//weibo.com/1832222514/Nv0C12AXh?refer_flag=10...</td>\n",
       "      <td>莫斯_古月家的妖女</td>\n",
       "      <td>//weibo.com/1832222514?refer_flag=1001030103_</td>\n",
       "      <td>2023年11月30日 22:34</td>\n",
       "      <td>http://t.cn/A6lPl7IO</td>\n",
       "      <td>&lt;a href=\"https://s.weibo.com/weibo?q=%23%E5%BE...</td>\n",
       "      <td>赞</td>\n",
       "    </tr>\n",
       "    <tr>\n",
       "      <th>8331</th>\n",
       "      <td>4973903229223374</td>\n",
       "      <td>//weibo.com/7795708836/Nv0yKCHq6?refer_flag=10...</td>\n",
       "      <td>一天三顿博博鸡</td>\n",
       "      <td>//weibo.com/7795708836?refer_flag=1001030103_</td>\n",
       "      <td>2023年11月30日 22:26</td>\n",
       "      <td>http://t.cn/A6lPmUFD</td>\n",
       "      <td>&lt;a href=\"https://s.weibo.com/weibo?q=%23%E5%BE...</td>\n",
       "      <td>赞</td>\n",
       "    </tr>\n",
       "    <tr>\n",
       "      <th>8332</th>\n",
       "      <td>4973896543507060</td>\n",
       "      <td>//weibo.com/5542782271/Nv0nYeIlu?refer_flag=10...</td>\n",
       "      <td>一条欣鱼儿</td>\n",
       "      <td>//weibo.com/5542782271?refer_flag=1001030103_</td>\n",
       "      <td>2023年11月30日 22:00</td>\n",
       "      <td>http://t.cn/A6lPEO16</td>\n",
       "      <td>&lt;a href=\"https://s.weibo.com/weibo?q=%23%E5%BE...</td>\n",
       "      <td>赞</td>\n",
       "    </tr>\n",
       "    <tr>\n",
       "      <th>8333</th>\n",
       "      <td>4973893809341789</td>\n",
       "      <td>//weibo.com/1746044560/Nv0jyDce1?refer_flag=10...</td>\n",
       "      <td>鹅卵石戴戒指</td>\n",
       "      <td>//weibo.com/1746044560?refer_flag=1001030103_</td>\n",
       "      <td>2023年11月30日 21:49</td>\n",
       "      <td>http://t.cn/A6lPRsaE</td>\n",
       "      <td>&lt;a href=\"https://s.weibo.com/weibo?q=%23%E5%BE...</td>\n",
       "      <td>赞</td>\n",
       "    </tr>\n",
       "    <tr>\n",
       "      <th>...</th>\n",
       "      <td>...</td>\n",
       "      <td>...</td>\n",
       "      <td>...</td>\n",
       "      <td>...</td>\n",
       "      <td>...</td>\n",
       "      <td>...</td>\n",
       "      <td>...</td>\n",
       "      <td>...</td>\n",
       "    </tr>\n",
       "    <tr>\n",
       "      <th>8571</th>\n",
       "      <td>4984803387248512</td>\n",
       "      <td>//weibo.com/2722603007/NzA7EupFu?refer_flag=10...</td>\n",
       "      <td>爱吐舌头的大熊猫还有超超</td>\n",
       "      <td>//weibo.com/2722603007?refer_flag=1001030103_</td>\n",
       "      <td>2023年12月31日 00:20</td>\n",
       "      <td>http://t.cn/A6lQDR3I</td>\n",
       "      <td>&lt;a href=\"https://s.weibo.com/weibo?q=%23%E5%BE...</td>\n",
       "      <td>赞</td>\n",
       "    </tr>\n",
       "    <tr>\n",
       "      <th>8572</th>\n",
       "      <td>4984802971748489</td>\n",
       "      <td>//weibo.com/2722603007/NzA6Z7kRr?refer_flag=10...</td>\n",
       "      <td>爱吐舌头的大熊猫还有超超</td>\n",
       "      <td>//weibo.com/2722603007?refer_flag=1001030103_</td>\n",
       "      <td>2023年12月31日 00:18</td>\n",
       "      <td>http://t.cn/A6lR2ZqN</td>\n",
       "      <td>&lt;a href=\"https://s.weibo.com/weibo?q=%23%E5%BE...</td>\n",
       "      <td>赞</td>\n",
       "    </tr>\n",
       "    <tr>\n",
       "      <th>8573</th>\n",
       "      <td>4984802715372699</td>\n",
       "      <td>//weibo.com/2722603007/NzA6zmxGr?refer_flag=10...</td>\n",
       "      <td>爱吐舌头的大熊猫还有超超</td>\n",
       "      <td>//weibo.com/2722603007?refer_flag=1001030103_</td>\n",
       "      <td>2023年12月31日 00:17</td>\n",
       "      <td>http://t.cn/A6lEoJod</td>\n",
       "      <td>&lt;a href=\"https://s.weibo.com/weibo?q=%23%E5%BE...</td>\n",
       "      <td>赞</td>\n",
       "    </tr>\n",
       "    <tr>\n",
       "      <th>8574</th>\n",
       "      <td>4984802306692053</td>\n",
       "      <td>//weibo.com/2722603007/NzA5Us4Ul?refer_flag=10...</td>\n",
       "      <td>爱吐舌头的大熊猫还有超超</td>\n",
       "      <td>//weibo.com/2722603007?refer_flag=1001030103_</td>\n",
       "      <td>2023年12月31日 00:15</td>\n",
       "      <td>http://t.cn/A6lEGInL</td>\n",
       "      <td>&lt;a href=\"https://s.weibo.com/weibo?q=%23%E5%BE...</td>\n",
       "      <td>赞</td>\n",
       "    </tr>\n",
       "    <tr>\n",
       "      <th>8575</th>\n",
       "      <td>4984801629310342</td>\n",
       "      <td>//weibo.com/2722603007/NzA4OD42O?refer_flag=10...</td>\n",
       "      <td>爱吐舌头的大熊猫还有超超</td>\n",
       "      <td>//weibo.com/2722603007?refer_flag=1001030103_</td>\n",
       "      <td>2023年12月31日 00:13</td>\n",
       "      <td>http://t.cn/A6l8GLal</td>\n",
       "      <td>&lt;a href=\"https://s.weibo.com/weibo?q=%23%E5%BE...</td>\n",
       "      <td>赞</td>\n",
       "    </tr>\n",
       "  </tbody>\n",
       "</table>\n",
       "<p>247 rows × 8 columns</p>\n",
       "</div>"
      ],
      "text/plain": [
       "               post_id                                          post_link  \\\n",
       "8329  4984456108573057  //weibo.com/2012489170/Nzr5wzYf7?refer_flag=10...   \n",
       "8330  4973905250618715  //weibo.com/1832222514/Nv0C12AXh?refer_flag=10...   \n",
       "8331  4973903229223374  //weibo.com/7795708836/Nv0yKCHq6?refer_flag=10...   \n",
       "8332  4973896543507060  //weibo.com/5542782271/Nv0nYeIlu?refer_flag=10...   \n",
       "8333  4973893809341789  //weibo.com/1746044560/Nv0jyDce1?refer_flag=10...   \n",
       "...                ...                                                ...   \n",
       "8571  4984803387248512  //weibo.com/2722603007/NzA7EupFu?refer_flag=10...   \n",
       "8572  4984802971748489  //weibo.com/2722603007/NzA6Z7kRr?refer_flag=10...   \n",
       "8573  4984802715372699  //weibo.com/2722603007/NzA6zmxGr?refer_flag=10...   \n",
       "8574  4984802306692053  //weibo.com/2722603007/NzA5Us4Ul?refer_flag=10...   \n",
       "8575  4984801629310342  //weibo.com/2722603007/NzA4OD42O?refer_flag=10...   \n",
       "\n",
       "         user_name                                      user_link  \\\n",
       "8329          天朝老铁  //weibo.com/2012489170?refer_flag=1001030103_   \n",
       "8330     莫斯_古月家的妖女  //weibo.com/1832222514?refer_flag=1001030103_   \n",
       "8331       一天三顿博博鸡  //weibo.com/7795708836?refer_flag=1001030103_   \n",
       "8332         一条欣鱼儿  //weibo.com/5542782271?refer_flag=1001030103_   \n",
       "8333        鹅卵石戴戒指  //weibo.com/1746044560?refer_flag=1001030103_   \n",
       "...            ...                                            ...   \n",
       "8571  爱吐舌头的大熊猫还有超超  //weibo.com/2722603007?refer_flag=1001030103_   \n",
       "8572  爱吐舌头的大熊猫还有超超  //weibo.com/2722603007?refer_flag=1001030103_   \n",
       "8573  爱吐舌头的大熊猫还有超超  //weibo.com/2722603007?refer_flag=1001030103_   \n",
       "8574  爱吐舌头的大熊猫还有超超  //weibo.com/2722603007?refer_flag=1001030103_   \n",
       "8575  爱吐舌头的大熊猫还有超超  //weibo.com/2722603007?refer_flag=1001030103_   \n",
       "\n",
       "                   time                target  \\\n",
       "8329  2023年12月30日 01:20  http://t.cn/A6l8dLUG   \n",
       "8330  2023年11月30日 22:34  http://t.cn/A6lPl7IO   \n",
       "8331  2023年11月30日 22:26  http://t.cn/A6lPmUFD   \n",
       "8332  2023年11月30日 22:00  http://t.cn/A6lPEO16   \n",
       "8333  2023年11月30日 21:49  http://t.cn/A6lPRsaE   \n",
       "...                 ...                   ...   \n",
       "8571  2023年12月31日 00:20  http://t.cn/A6lQDR3I   \n",
       "8572  2023年12月31日 00:18  http://t.cn/A6lR2ZqN   \n",
       "8573  2023年12月31日 00:17  http://t.cn/A6lEoJod   \n",
       "8574  2023年12月31日 00:15  http://t.cn/A6lEGInL   \n",
       "8575  2023年12月31日 00:13  http://t.cn/A6l8GLal   \n",
       "\n",
       "                                           post_content like  \n",
       "8329  <a href=\"https://s.weibo.com/weibo?q=%23%E5%BE...    3  \n",
       "8330  <a href=\"https://s.weibo.com/weibo?q=%23%E5%BE...    赞  \n",
       "8331  <a href=\"https://s.weibo.com/weibo?q=%23%E5%BE...    赞  \n",
       "8332  <a href=\"https://s.weibo.com/weibo?q=%23%E5%BE...    赞  \n",
       "8333  <a href=\"https://s.weibo.com/weibo?q=%23%E5%BE...    赞  \n",
       "...                                                 ...  ...  \n",
       "8571  <a href=\"https://s.weibo.com/weibo?q=%23%E5%BE...    赞  \n",
       "8572  <a href=\"https://s.weibo.com/weibo?q=%23%E5%BE...    赞  \n",
       "8573  <a href=\"https://s.weibo.com/weibo?q=%23%E5%BE...    赞  \n",
       "8574  <a href=\"https://s.weibo.com/weibo?q=%23%E5%BE...    赞  \n",
       "8575  <a href=\"https://s.weibo.com/weibo?q=%23%E5%BE...    赞  \n",
       "\n",
       "[247 rows x 8 columns]"
      ]
     },
     "execution_count": 11,
     "metadata": {},
     "output_type": "execute_result"
    }
   ],
   "source": [
    "CommunityNotes[8329:]"
   ]
  },
  {
   "cell_type": "code",
   "execution_count": 12,
   "metadata": {},
   "outputs": [],
   "source": [
    "CommunityNotes_targets=list(set(CommunityNotes[8330:].target))"
   ]
  },
  {
   "cell_type": "code",
   "execution_count": 13,
   "metadata": {},
   "outputs": [],
   "source": [
    "service = Service(chrome_driver_path)\n",
    "driver = webdriver.Chrome(service=service)\n"
   ]
  },
  {
   "cell_type": "code",
   "execution_count": 14,
   "metadata": {},
   "outputs": [],
   "source": [
    "#target_weibos=pd.DataFrame(columns=['target','user_id','user_name','post_time','post','note_author','note_type','note_content'])\n",
    "\n",
    "target_weibos=pd.read_csv(\"TargetWeibos.csv\")"
   ]
  },
  {
   "cell_type": "code",
   "execution_count": 15,
   "metadata": {},
   "outputs": [
    {
     "name": "stdout",
     "output_type": "stream",
     "text": [
      "http://t.cn/A6lPHI2Q\n"
     ]
    },
    {
     "name": "stderr",
     "output_type": "stream",
     "text": [
      "/var/folders/4h/zm_bwfv11ql5dx0d71rhbxqc0000gn/T/ipykernel_46878/2356110029.py:23: FutureWarning: The frame.append method is deprecated and will be removed from pandas in a future version. Use pandas.concat instead.\n",
      "  target_weibos = target_weibos.append(new_row, ignore_index=True)\n"
     ]
    },
    {
     "name": "stdout",
     "output_type": "stream",
     "text": [
      "http://t.cn/A6lPlWhE\n"
     ]
    },
    {
     "name": "stderr",
     "output_type": "stream",
     "text": [
      "/var/folders/4h/zm_bwfv11ql5dx0d71rhbxqc0000gn/T/ipykernel_46878/2356110029.py:27: FutureWarning: The frame.append method is deprecated and will be removed from pandas in a future version. Use pandas.concat instead.\n",
      "  target_weibos = target_weibos.append(new_row, ignore_index=True)\n"
     ]
    },
    {
     "name": "stdout",
     "output_type": "stream",
     "text": [
      "http://t.cn/A6lR2ZqN\n"
     ]
    },
    {
     "name": "stderr",
     "output_type": "stream",
     "text": [
      "/var/folders/4h/zm_bwfv11ql5dx0d71rhbxqc0000gn/T/ipykernel_46878/2356110029.py:23: FutureWarning: The frame.append method is deprecated and will be removed from pandas in a future version. Use pandas.concat instead.\n",
      "  target_weibos = target_weibos.append(new_row, ignore_index=True)\n"
     ]
    },
    {
     "name": "stdout",
     "output_type": "stream",
     "text": [
      "http://t.cn/A6lPZiea\n"
     ]
    },
    {
     "name": "stderr",
     "output_type": "stream",
     "text": [
      "/var/folders/4h/zm_bwfv11ql5dx0d71rhbxqc0000gn/T/ipykernel_46878/2356110029.py:23: FutureWarning: The frame.append method is deprecated and will be removed from pandas in a future version. Use pandas.concat instead.\n",
      "  target_weibos = target_weibos.append(new_row, ignore_index=True)\n"
     ]
    },
    {
     "name": "stdout",
     "output_type": "stream",
     "text": [
      "http://t.cn/A6lh4vyZ\n"
     ]
    },
    {
     "name": "stderr",
     "output_type": "stream",
     "text": [
      "/var/folders/4h/zm_bwfv11ql5dx0d71rhbxqc0000gn/T/ipykernel_46878/2356110029.py:27: FutureWarning: The frame.append method is deprecated and will be removed from pandas in a future version. Use pandas.concat instead.\n",
      "  target_weibos = target_weibos.append(new_row, ignore_index=True)\n"
     ]
    },
    {
     "name": "stdout",
     "output_type": "stream",
     "text": [
      "http://t.cn/A6lvk7FO\n"
     ]
    },
    {
     "name": "stderr",
     "output_type": "stream",
     "text": [
      "/var/folders/4h/zm_bwfv11ql5dx0d71rhbxqc0000gn/T/ipykernel_46878/2356110029.py:27: FutureWarning: The frame.append method is deprecated and will be removed from pandas in a future version. Use pandas.concat instead.\n",
      "  target_weibos = target_weibos.append(new_row, ignore_index=True)\n"
     ]
    },
    {
     "name": "stdout",
     "output_type": "stream",
     "text": [
      "http://t.cn/A6lPmUFD\n"
     ]
    },
    {
     "name": "stderr",
     "output_type": "stream",
     "text": [
      "/var/folders/4h/zm_bwfv11ql5dx0d71rhbxqc0000gn/T/ipykernel_46878/2356110029.py:23: FutureWarning: The frame.append method is deprecated and will be removed from pandas in a future version. Use pandas.concat instead.\n",
      "  target_weibos = target_weibos.append(new_row, ignore_index=True)\n"
     ]
    },
    {
     "name": "stdout",
     "output_type": "stream",
     "text": [
      "http://t.cn/A6l7zvTx\n"
     ]
    },
    {
     "name": "stderr",
     "output_type": "stream",
     "text": [
      "/var/folders/4h/zm_bwfv11ql5dx0d71rhbxqc0000gn/T/ipykernel_46878/2356110029.py:23: FutureWarning: The frame.append method is deprecated and will be removed from pandas in a future version. Use pandas.concat instead.\n",
      "  target_weibos = target_weibos.append(new_row, ignore_index=True)\n"
     ]
    },
    {
     "name": "stdout",
     "output_type": "stream",
     "text": [
      "http://t.cn/A6lvg2l9\n"
     ]
    },
    {
     "name": "stderr",
     "output_type": "stream",
     "text": [
      "/var/folders/4h/zm_bwfv11ql5dx0d71rhbxqc0000gn/T/ipykernel_46878/2356110029.py:23: FutureWarning: The frame.append method is deprecated and will be removed from pandas in a future version. Use pandas.concat instead.\n",
      "  target_weibos = target_weibos.append(new_row, ignore_index=True)\n"
     ]
    },
    {
     "name": "stdout",
     "output_type": "stream",
     "text": [
      "http://t.cn/A6NhdI7J\n"
     ]
    },
    {
     "name": "stderr",
     "output_type": "stream",
     "text": [
      "/var/folders/4h/zm_bwfv11ql5dx0d71rhbxqc0000gn/T/ipykernel_46878/2356110029.py:23: FutureWarning: The frame.append method is deprecated and will be removed from pandas in a future version. Use pandas.concat instead.\n",
      "  target_weibos = target_weibos.append(new_row, ignore_index=True)\n"
     ]
    },
    {
     "name": "stdout",
     "output_type": "stream",
     "text": [
      "http://t.cn/A6lEccYZ\n"
     ]
    },
    {
     "name": "stderr",
     "output_type": "stream",
     "text": [
      "/var/folders/4h/zm_bwfv11ql5dx0d71rhbxqc0000gn/T/ipykernel_46878/2356110029.py:27: FutureWarning: The frame.append method is deprecated and will be removed from pandas in a future version. Use pandas.concat instead.\n",
      "  target_weibos = target_weibos.append(new_row, ignore_index=True)\n"
     ]
    },
    {
     "name": "stdout",
     "output_type": "stream",
     "text": [
      "http://t.cn/A6lEo3cv\n"
     ]
    },
    {
     "name": "stderr",
     "output_type": "stream",
     "text": [
      "/var/folders/4h/zm_bwfv11ql5dx0d71rhbxqc0000gn/T/ipykernel_46878/2356110029.py:23: FutureWarning: The frame.append method is deprecated and will be removed from pandas in a future version. Use pandas.concat instead.\n",
      "  target_weibos = target_weibos.append(new_row, ignore_index=True)\n"
     ]
    },
    {
     "name": "stdout",
     "output_type": "stream",
     "text": [
      "http://t.cn/A6lPC0YZ\n"
     ]
    },
    {
     "name": "stderr",
     "output_type": "stream",
     "text": [
      "/var/folders/4h/zm_bwfv11ql5dx0d71rhbxqc0000gn/T/ipykernel_46878/2356110029.py:20: FutureWarning: The frame.append method is deprecated and will be removed from pandas in a future version. Use pandas.concat instead.\n",
      "  target_weibos = target_weibos.append(new_row, ignore_index=True)\n"
     ]
    },
    {
     "name": "stdout",
     "output_type": "stream",
     "text": [
      "http://t.cn/A6lvtAEP\n"
     ]
    },
    {
     "name": "stderr",
     "output_type": "stream",
     "text": [
      "/var/folders/4h/zm_bwfv11ql5dx0d71rhbxqc0000gn/T/ipykernel_46878/2356110029.py:23: FutureWarning: The frame.append method is deprecated and will be removed from pandas in a future version. Use pandas.concat instead.\n",
      "  target_weibos = target_weibos.append(new_row, ignore_index=True)\n"
     ]
    },
    {
     "name": "stdout",
     "output_type": "stream",
     "text": [
      "http://t.cn/A6lhLQAm\n"
     ]
    },
    {
     "name": "stderr",
     "output_type": "stream",
     "text": [
      "/var/folders/4h/zm_bwfv11ql5dx0d71rhbxqc0000gn/T/ipykernel_46878/2356110029.py:27: FutureWarning: The frame.append method is deprecated and will be removed from pandas in a future version. Use pandas.concat instead.\n",
      "  target_weibos = target_weibos.append(new_row, ignore_index=True)\n"
     ]
    },
    {
     "name": "stdout",
     "output_type": "stream",
     "text": [
      "http://t.cn/A6pb1bJT\n"
     ]
    },
    {
     "name": "stderr",
     "output_type": "stream",
     "text": [
      "/var/folders/4h/zm_bwfv11ql5dx0d71rhbxqc0000gn/T/ipykernel_46878/2356110029.py:27: FutureWarning: The frame.append method is deprecated and will be removed from pandas in a future version. Use pandas.concat instead.\n",
      "  target_weibos = target_weibos.append(new_row, ignore_index=True)\n"
     ]
    },
    {
     "name": "stdout",
     "output_type": "stream",
     "text": [
      "http://t.cn/A6lPph9G\n"
     ]
    },
    {
     "name": "stderr",
     "output_type": "stream",
     "text": [
      "/var/folders/4h/zm_bwfv11ql5dx0d71rhbxqc0000gn/T/ipykernel_46878/2356110029.py:20: FutureWarning: The frame.append method is deprecated and will be removed from pandas in a future version. Use pandas.concat instead.\n",
      "  target_weibos = target_weibos.append(new_row, ignore_index=True)\n"
     ]
    },
    {
     "name": "stdout",
     "output_type": "stream",
     "text": [
      "http://t.cn/A6lnnotr\n"
     ]
    },
    {
     "name": "stderr",
     "output_type": "stream",
     "text": [
      "/var/folders/4h/zm_bwfv11ql5dx0d71rhbxqc0000gn/T/ipykernel_46878/2356110029.py:23: FutureWarning: The frame.append method is deprecated and will be removed from pandas in a future version. Use pandas.concat instead.\n",
      "  target_weibos = target_weibos.append(new_row, ignore_index=True)\n"
     ]
    },
    {
     "name": "stdout",
     "output_type": "stream",
     "text": [
      "http://t.cn/A6l7zOPV\n"
     ]
    },
    {
     "name": "stderr",
     "output_type": "stream",
     "text": [
      "/var/folders/4h/zm_bwfv11ql5dx0d71rhbxqc0000gn/T/ipykernel_46878/2356110029.py:23: FutureWarning: The frame.append method is deprecated and will be removed from pandas in a future version. Use pandas.concat instead.\n",
      "  target_weibos = target_weibos.append(new_row, ignore_index=True)\n"
     ]
    },
    {
     "name": "stdout",
     "output_type": "stream",
     "text": [
      "http://t.cn/A6lnbely\n"
     ]
    },
    {
     "name": "stderr",
     "output_type": "stream",
     "text": [
      "/var/folders/4h/zm_bwfv11ql5dx0d71rhbxqc0000gn/T/ipykernel_46878/2356110029.py:23: FutureWarning: The frame.append method is deprecated and will be removed from pandas in a future version. Use pandas.concat instead.\n",
      "  target_weibos = target_weibos.append(new_row, ignore_index=True)\n"
     ]
    },
    {
     "name": "stdout",
     "output_type": "stream",
     "text": [
      "http://t.cn/A6lPSBW7\n"
     ]
    },
    {
     "name": "stderr",
     "output_type": "stream",
     "text": [
      "/var/folders/4h/zm_bwfv11ql5dx0d71rhbxqc0000gn/T/ipykernel_46878/2356110029.py:27: FutureWarning: The frame.append method is deprecated and will be removed from pandas in a future version. Use pandas.concat instead.\n",
      "  target_weibos = target_weibos.append(new_row, ignore_index=True)\n"
     ]
    },
    {
     "name": "stdout",
     "output_type": "stream",
     "text": [
      "http://t.cn/A6lhqmvI\n"
     ]
    },
    {
     "name": "stderr",
     "output_type": "stream",
     "text": [
      "/var/folders/4h/zm_bwfv11ql5dx0d71rhbxqc0000gn/T/ipykernel_46878/2356110029.py:27: FutureWarning: The frame.append method is deprecated and will be removed from pandas in a future version. Use pandas.concat instead.\n",
      "  target_weibos = target_weibos.append(new_row, ignore_index=True)\n"
     ]
    },
    {
     "name": "stdout",
     "output_type": "stream",
     "text": [
      "http://t.cn/A6lm20hI\n"
     ]
    },
    {
     "name": "stderr",
     "output_type": "stream",
     "text": [
      "/var/folders/4h/zm_bwfv11ql5dx0d71rhbxqc0000gn/T/ipykernel_46878/2356110029.py:23: FutureWarning: The frame.append method is deprecated and will be removed from pandas in a future version. Use pandas.concat instead.\n",
      "  target_weibos = target_weibos.append(new_row, ignore_index=True)\n"
     ]
    },
    {
     "name": "stdout",
     "output_type": "stream",
     "text": [
      "http://t.cn/A6lEoEoJ\n"
     ]
    },
    {
     "name": "stderr",
     "output_type": "stream",
     "text": [
      "/var/folders/4h/zm_bwfv11ql5dx0d71rhbxqc0000gn/T/ipykernel_46878/2356110029.py:23: FutureWarning: The frame.append method is deprecated and will be removed from pandas in a future version. Use pandas.concat instead.\n",
      "  target_weibos = target_weibos.append(new_row, ignore_index=True)\n"
     ]
    },
    {
     "name": "stdout",
     "output_type": "stream",
     "text": [
      "http://t.cn/A6lhxXo6\n"
     ]
    },
    {
     "name": "stderr",
     "output_type": "stream",
     "text": [
      "/var/folders/4h/zm_bwfv11ql5dx0d71rhbxqc0000gn/T/ipykernel_46878/2356110029.py:23: FutureWarning: The frame.append method is deprecated and will be removed from pandas in a future version. Use pandas.concat instead.\n",
      "  target_weibos = target_weibos.append(new_row, ignore_index=True)\n"
     ]
    },
    {
     "name": "stdout",
     "output_type": "stream",
     "text": [
      "http://t.cn/A6lEj0pe\n"
     ]
    },
    {
     "name": "stderr",
     "output_type": "stream",
     "text": [
      "/var/folders/4h/zm_bwfv11ql5dx0d71rhbxqc0000gn/T/ipykernel_46878/2356110029.py:27: FutureWarning: The frame.append method is deprecated and will be removed from pandas in a future version. Use pandas.concat instead.\n",
      "  target_weibos = target_weibos.append(new_row, ignore_index=True)\n"
     ]
    },
    {
     "name": "stdout",
     "output_type": "stream",
     "text": [
      "http://t.cn/A6lnrIZ6\n"
     ]
    },
    {
     "name": "stderr",
     "output_type": "stream",
     "text": [
      "/var/folders/4h/zm_bwfv11ql5dx0d71rhbxqc0000gn/T/ipykernel_46878/2356110029.py:27: FutureWarning: The frame.append method is deprecated and will be removed from pandas in a future version. Use pandas.concat instead.\n",
      "  target_weibos = target_weibos.append(new_row, ignore_index=True)\n"
     ]
    },
    {
     "name": "stdout",
     "output_type": "stream",
     "text": [
      "http://t.cn/A6lh3V93\n"
     ]
    },
    {
     "name": "stderr",
     "output_type": "stream",
     "text": [
      "/var/folders/4h/zm_bwfv11ql5dx0d71rhbxqc0000gn/T/ipykernel_46878/2356110029.py:27: FutureWarning: The frame.append method is deprecated and will be removed from pandas in a future version. Use pandas.concat instead.\n",
      "  target_weibos = target_weibos.append(new_row, ignore_index=True)\n"
     ]
    },
    {
     "name": "stdout",
     "output_type": "stream",
     "text": [
      "http://t.cn/A6lvXGGt\n"
     ]
    },
    {
     "name": "stderr",
     "output_type": "stream",
     "text": [
      "/var/folders/4h/zm_bwfv11ql5dx0d71rhbxqc0000gn/T/ipykernel_46878/2356110029.py:27: FutureWarning: The frame.append method is deprecated and will be removed from pandas in a future version. Use pandas.concat instead.\n",
      "  target_weibos = target_weibos.append(new_row, ignore_index=True)\n"
     ]
    },
    {
     "name": "stdout",
     "output_type": "stream",
     "text": [
      "http://t.cn/A6lPHkad\n"
     ]
    },
    {
     "name": "stderr",
     "output_type": "stream",
     "text": [
      "/var/folders/4h/zm_bwfv11ql5dx0d71rhbxqc0000gn/T/ipykernel_46878/2356110029.py:23: FutureWarning: The frame.append method is deprecated and will be removed from pandas in a future version. Use pandas.concat instead.\n",
      "  target_weibos = target_weibos.append(new_row, ignore_index=True)\n"
     ]
    },
    {
     "name": "stdout",
     "output_type": "stream",
     "text": [
      "http://t.cn/A6lmIQ9C\n"
     ]
    },
    {
     "name": "stderr",
     "output_type": "stream",
     "text": [
      "/var/folders/4h/zm_bwfv11ql5dx0d71rhbxqc0000gn/T/ipykernel_46878/2356110029.py:23: FutureWarning: The frame.append method is deprecated and will be removed from pandas in a future version. Use pandas.concat instead.\n",
      "  target_weibos = target_weibos.append(new_row, ignore_index=True)\n"
     ]
    },
    {
     "name": "stdout",
     "output_type": "stream",
     "text": [
      "http://t.cn/A6lPtjjQ\n"
     ]
    },
    {
     "name": "stderr",
     "output_type": "stream",
     "text": [
      "/var/folders/4h/zm_bwfv11ql5dx0d71rhbxqc0000gn/T/ipykernel_46878/2356110029.py:23: FutureWarning: The frame.append method is deprecated and will be removed from pandas in a future version. Use pandas.concat instead.\n",
      "  target_weibos = target_weibos.append(new_row, ignore_index=True)\n"
     ]
    },
    {
     "name": "stdout",
     "output_type": "stream",
     "text": [
      "http://t.cn/A6lhypdU\n"
     ]
    },
    {
     "name": "stderr",
     "output_type": "stream",
     "text": [
      "/var/folders/4h/zm_bwfv11ql5dx0d71rhbxqc0000gn/T/ipykernel_46878/2356110029.py:23: FutureWarning: The frame.append method is deprecated and will be removed from pandas in a future version. Use pandas.concat instead.\n",
      "  target_weibos = target_weibos.append(new_row, ignore_index=True)\n"
     ]
    },
    {
     "name": "stdout",
     "output_type": "stream",
     "text": [
      "http://t.cn/A6lP4HTR\n"
     ]
    },
    {
     "name": "stderr",
     "output_type": "stream",
     "text": [
      "/var/folders/4h/zm_bwfv11ql5dx0d71rhbxqc0000gn/T/ipykernel_46878/2356110029.py:27: FutureWarning: The frame.append method is deprecated and will be removed from pandas in a future version. Use pandas.concat instead.\n",
      "  target_weibos = target_weibos.append(new_row, ignore_index=True)\n"
     ]
    },
    {
     "name": "stdout",
     "output_type": "stream",
     "text": [
      "http://t.cn/A6lnHO5V\n"
     ]
    },
    {
     "name": "stderr",
     "output_type": "stream",
     "text": [
      "/var/folders/4h/zm_bwfv11ql5dx0d71rhbxqc0000gn/T/ipykernel_46878/2356110029.py:23: FutureWarning: The frame.append method is deprecated and will be removed from pandas in a future version. Use pandas.concat instead.\n",
      "  target_weibos = target_weibos.append(new_row, ignore_index=True)\n"
     ]
    },
    {
     "name": "stdout",
     "output_type": "stream",
     "text": [
      "http://t.cn/A6lTQet5\n"
     ]
    },
    {
     "name": "stderr",
     "output_type": "stream",
     "text": [
      "/var/folders/4h/zm_bwfv11ql5dx0d71rhbxqc0000gn/T/ipykernel_46878/2356110029.py:23: FutureWarning: The frame.append method is deprecated and will be removed from pandas in a future version. Use pandas.concat instead.\n",
      "  target_weibos = target_weibos.append(new_row, ignore_index=True)\n"
     ]
    },
    {
     "name": "stdout",
     "output_type": "stream",
     "text": [
      "http://t.cn/A6lPYD6i\n"
     ]
    },
    {
     "name": "stderr",
     "output_type": "stream",
     "text": [
      "/var/folders/4h/zm_bwfv11ql5dx0d71rhbxqc0000gn/T/ipykernel_46878/2356110029.py:27: FutureWarning: The frame.append method is deprecated and will be removed from pandas in a future version. Use pandas.concat instead.\n",
      "  target_weibos = target_weibos.append(new_row, ignore_index=True)\n"
     ]
    },
    {
     "name": "stdout",
     "output_type": "stream",
     "text": [
      "http://t.cn/A6lv1EpP\n"
     ]
    },
    {
     "name": "stderr",
     "output_type": "stream",
     "text": [
      "/var/folders/4h/zm_bwfv11ql5dx0d71rhbxqc0000gn/T/ipykernel_46878/2356110029.py:23: FutureWarning: The frame.append method is deprecated and will be removed from pandas in a future version. Use pandas.concat instead.\n",
      "  target_weibos = target_weibos.append(new_row, ignore_index=True)\n"
     ]
    },
    {
     "name": "stdout",
     "output_type": "stream",
     "text": [
      "http://t.cn/A6lPpEZz\n"
     ]
    },
    {
     "name": "stderr",
     "output_type": "stream",
     "text": [
      "/var/folders/4h/zm_bwfv11ql5dx0d71rhbxqc0000gn/T/ipykernel_46878/2356110029.py:27: FutureWarning: The frame.append method is deprecated and will be removed from pandas in a future version. Use pandas.concat instead.\n",
      "  target_weibos = target_weibos.append(new_row, ignore_index=True)\n"
     ]
    },
    {
     "name": "stdout",
     "output_type": "stream",
     "text": [
      "http://t.cn/A6lnuoSj\n"
     ]
    },
    {
     "name": "stderr",
     "output_type": "stream",
     "text": [
      "/var/folders/4h/zm_bwfv11ql5dx0d71rhbxqc0000gn/T/ipykernel_46878/2356110029.py:23: FutureWarning: The frame.append method is deprecated and will be removed from pandas in a future version. Use pandas.concat instead.\n",
      "  target_weibos = target_weibos.append(new_row, ignore_index=True)\n"
     ]
    },
    {
     "name": "stdout",
     "output_type": "stream",
     "text": [
      "http://t.cn/A6lnRCfL\n"
     ]
    },
    {
     "name": "stderr",
     "output_type": "stream",
     "text": [
      "/var/folders/4h/zm_bwfv11ql5dx0d71rhbxqc0000gn/T/ipykernel_46878/2356110029.py:27: FutureWarning: The frame.append method is deprecated and will be removed from pandas in a future version. Use pandas.concat instead.\n",
      "  target_weibos = target_weibos.append(new_row, ignore_index=True)\n"
     ]
    },
    {
     "name": "stdout",
     "output_type": "stream",
     "text": [
      "http://t.cn/A6l7Aw0w\n"
     ]
    },
    {
     "name": "stderr",
     "output_type": "stream",
     "text": [
      "/var/folders/4h/zm_bwfv11ql5dx0d71rhbxqc0000gn/T/ipykernel_46878/2356110029.py:23: FutureWarning: The frame.append method is deprecated and will be removed from pandas in a future version. Use pandas.concat instead.\n",
      "  target_weibos = target_weibos.append(new_row, ignore_index=True)\n"
     ]
    },
    {
     "name": "stdout",
     "output_type": "stream",
     "text": [
      "http://t.cn/A6l7wwWp\n"
     ]
    },
    {
     "name": "stderr",
     "output_type": "stream",
     "text": [
      "/var/folders/4h/zm_bwfv11ql5dx0d71rhbxqc0000gn/T/ipykernel_46878/2356110029.py:23: FutureWarning: The frame.append method is deprecated and will be removed from pandas in a future version. Use pandas.concat instead.\n",
      "  target_weibos = target_weibos.append(new_row, ignore_index=True)\n"
     ]
    },
    {
     "name": "stdout",
     "output_type": "stream",
     "text": [
      "http://t.cn/A6lEiSVr\n"
     ]
    },
    {
     "name": "stderr",
     "output_type": "stream",
     "text": [
      "/var/folders/4h/zm_bwfv11ql5dx0d71rhbxqc0000gn/T/ipykernel_46878/2356110029.py:23: FutureWarning: The frame.append method is deprecated and will be removed from pandas in a future version. Use pandas.concat instead.\n",
      "  target_weibos = target_weibos.append(new_row, ignore_index=True)\n"
     ]
    },
    {
     "name": "stdout",
     "output_type": "stream",
     "text": [
      "http://t.cn/A6lvoaee\n"
     ]
    },
    {
     "name": "stderr",
     "output_type": "stream",
     "text": [
      "/var/folders/4h/zm_bwfv11ql5dx0d71rhbxqc0000gn/T/ipykernel_46878/2356110029.py:20: FutureWarning: The frame.append method is deprecated and will be removed from pandas in a future version. Use pandas.concat instead.\n",
      "  target_weibos = target_weibos.append(new_row, ignore_index=True)\n",
      "/var/folders/4h/zm_bwfv11ql5dx0d71rhbxqc0000gn/T/ipykernel_46878/2356110029.py:20: FutureWarning: The frame.append method is deprecated and will be removed from pandas in a future version. Use pandas.concat instead.\n",
      "  target_weibos = target_weibos.append(new_row, ignore_index=True)\n"
     ]
    },
    {
     "name": "stdout",
     "output_type": "stream",
     "text": [
      "http://t.cn/A6lhtnlP\n"
     ]
    },
    {
     "name": "stderr",
     "output_type": "stream",
     "text": [
      "/var/folders/4h/zm_bwfv11ql5dx0d71rhbxqc0000gn/T/ipykernel_46878/2356110029.py:27: FutureWarning: The frame.append method is deprecated and will be removed from pandas in a future version. Use pandas.concat instead.\n",
      "  target_weibos = target_weibos.append(new_row, ignore_index=True)\n"
     ]
    },
    {
     "name": "stdout",
     "output_type": "stream",
     "text": [
      "http://t.cn/A6lPxOyB\n"
     ]
    },
    {
     "name": "stderr",
     "output_type": "stream",
     "text": [
      "/var/folders/4h/zm_bwfv11ql5dx0d71rhbxqc0000gn/T/ipykernel_46878/2356110029.py:23: FutureWarning: The frame.append method is deprecated and will be removed from pandas in a future version. Use pandas.concat instead.\n",
      "  target_weibos = target_weibos.append(new_row, ignore_index=True)\n"
     ]
    },
    {
     "name": "stdout",
     "output_type": "stream",
     "text": [
      "http://t.cn/A6lP6J2x\n"
     ]
    },
    {
     "name": "stderr",
     "output_type": "stream",
     "text": [
      "/var/folders/4h/zm_bwfv11ql5dx0d71rhbxqc0000gn/T/ipykernel_46878/2356110029.py:20: FutureWarning: The frame.append method is deprecated and will be removed from pandas in a future version. Use pandas.concat instead.\n",
      "  target_weibos = target_weibos.append(new_row, ignore_index=True)\n"
     ]
    },
    {
     "name": "stdout",
     "output_type": "stream",
     "text": [
      "http://t.cn/A6lhDWIp\n"
     ]
    },
    {
     "name": "stderr",
     "output_type": "stream",
     "text": [
      "/var/folders/4h/zm_bwfv11ql5dx0d71rhbxqc0000gn/T/ipykernel_46878/2356110029.py:23: FutureWarning: The frame.append method is deprecated and will be removed from pandas in a future version. Use pandas.concat instead.\n",
      "  target_weibos = target_weibos.append(new_row, ignore_index=True)\n"
     ]
    },
    {
     "name": "stdout",
     "output_type": "stream",
     "text": [
      "http://t.cn/A6lhiM1O\n"
     ]
    },
    {
     "name": "stderr",
     "output_type": "stream",
     "text": [
      "/var/folders/4h/zm_bwfv11ql5dx0d71rhbxqc0000gn/T/ipykernel_46878/2356110029.py:23: FutureWarning: The frame.append method is deprecated and will be removed from pandas in a future version. Use pandas.concat instead.\n",
      "  target_weibos = target_weibos.append(new_row, ignore_index=True)\n"
     ]
    },
    {
     "name": "stdout",
     "output_type": "stream",
     "text": [
      "http://t.cn/A6lPQtQo\n"
     ]
    },
    {
     "name": "stderr",
     "output_type": "stream",
     "text": [
      "/var/folders/4h/zm_bwfv11ql5dx0d71rhbxqc0000gn/T/ipykernel_46878/2356110029.py:23: FutureWarning: The frame.append method is deprecated and will be removed from pandas in a future version. Use pandas.concat instead.\n",
      "  target_weibos = target_weibos.append(new_row, ignore_index=True)\n"
     ]
    },
    {
     "name": "stdout",
     "output_type": "stream",
     "text": [
      "http://t.cn/A6lhVr61\n"
     ]
    },
    {
     "name": "stderr",
     "output_type": "stream",
     "text": [
      "/var/folders/4h/zm_bwfv11ql5dx0d71rhbxqc0000gn/T/ipykernel_46878/2356110029.py:27: FutureWarning: The frame.append method is deprecated and will be removed from pandas in a future version. Use pandas.concat instead.\n",
      "  target_weibos = target_weibos.append(new_row, ignore_index=True)\n"
     ]
    },
    {
     "name": "stdout",
     "output_type": "stream",
     "text": [
      "http://t.cn/A6WkMFpp\n"
     ]
    },
    {
     "name": "stderr",
     "output_type": "stream",
     "text": [
      "/var/folders/4h/zm_bwfv11ql5dx0d71rhbxqc0000gn/T/ipykernel_46878/2356110029.py:27: FutureWarning: The frame.append method is deprecated and will be removed from pandas in a future version. Use pandas.concat instead.\n",
      "  target_weibos = target_weibos.append(new_row, ignore_index=True)\n"
     ]
    },
    {
     "name": "stdout",
     "output_type": "stream",
     "text": [
      "http://t.cn/A6lhernq\n"
     ]
    },
    {
     "name": "stderr",
     "output_type": "stream",
     "text": [
      "/var/folders/4h/zm_bwfv11ql5dx0d71rhbxqc0000gn/T/ipykernel_46878/2356110029.py:27: FutureWarning: The frame.append method is deprecated and will be removed from pandas in a future version. Use pandas.concat instead.\n",
      "  target_weibos = target_weibos.append(new_row, ignore_index=True)\n"
     ]
    },
    {
     "name": "stdout",
     "output_type": "stream",
     "text": [
      "http://t.cn/A6lPaxDc\n"
     ]
    },
    {
     "name": "stderr",
     "output_type": "stream",
     "text": [
      "/var/folders/4h/zm_bwfv11ql5dx0d71rhbxqc0000gn/T/ipykernel_46878/2356110029.py:27: FutureWarning: The frame.append method is deprecated and will be removed from pandas in a future version. Use pandas.concat instead.\n",
      "  target_weibos = target_weibos.append(new_row, ignore_index=True)\n"
     ]
    },
    {
     "name": "stdout",
     "output_type": "stream",
     "text": [
      "http://t.cn/A6lnRuhD\n"
     ]
    },
    {
     "name": "stderr",
     "output_type": "stream",
     "text": [
      "/var/folders/4h/zm_bwfv11ql5dx0d71rhbxqc0000gn/T/ipykernel_46878/2356110029.py:27: FutureWarning: The frame.append method is deprecated and will be removed from pandas in a future version. Use pandas.concat instead.\n",
      "  target_weibos = target_weibos.append(new_row, ignore_index=True)\n"
     ]
    },
    {
     "name": "stdout",
     "output_type": "stream",
     "text": [
      "http://t.cn/A6lh34RI\n"
     ]
    },
    {
     "name": "stderr",
     "output_type": "stream",
     "text": [
      "/var/folders/4h/zm_bwfv11ql5dx0d71rhbxqc0000gn/T/ipykernel_46878/2356110029.py:27: FutureWarning: The frame.append method is deprecated and will be removed from pandas in a future version. Use pandas.concat instead.\n",
      "  target_weibos = target_weibos.append(new_row, ignore_index=True)\n"
     ]
    },
    {
     "name": "stdout",
     "output_type": "stream",
     "text": [
      "http://t.cn/A6lP0DQC\n"
     ]
    },
    {
     "name": "stderr",
     "output_type": "stream",
     "text": [
      "/var/folders/4h/zm_bwfv11ql5dx0d71rhbxqc0000gn/T/ipykernel_46878/2356110029.py:27: FutureWarning: The frame.append method is deprecated and will be removed from pandas in a future version. Use pandas.concat instead.\n",
      "  target_weibos = target_weibos.append(new_row, ignore_index=True)\n"
     ]
    },
    {
     "name": "stdout",
     "output_type": "stream",
     "text": [
      "http://t.cn/A6lPNPig\n"
     ]
    },
    {
     "name": "stderr",
     "output_type": "stream",
     "text": [
      "/var/folders/4h/zm_bwfv11ql5dx0d71rhbxqc0000gn/T/ipykernel_46878/2356110029.py:27: FutureWarning: The frame.append method is deprecated and will be removed from pandas in a future version. Use pandas.concat instead.\n",
      "  target_weibos = target_weibos.append(new_row, ignore_index=True)\n"
     ]
    },
    {
     "name": "stdout",
     "output_type": "stream",
     "text": [
      "http://t.cn/A6lEoJod\n"
     ]
    },
    {
     "name": "stderr",
     "output_type": "stream",
     "text": [
      "/var/folders/4h/zm_bwfv11ql5dx0d71rhbxqc0000gn/T/ipykernel_46878/2356110029.py:27: FutureWarning: The frame.append method is deprecated and will be removed from pandas in a future version. Use pandas.concat instead.\n",
      "  target_weibos = target_weibos.append(new_row, ignore_index=True)\n"
     ]
    },
    {
     "name": "stdout",
     "output_type": "stream",
     "text": [
      "http://t.cn/A6lhxO5y\n"
     ]
    },
    {
     "name": "stderr",
     "output_type": "stream",
     "text": [
      "/var/folders/4h/zm_bwfv11ql5dx0d71rhbxqc0000gn/T/ipykernel_46878/2356110029.py:27: FutureWarning: The frame.append method is deprecated and will be removed from pandas in a future version. Use pandas.concat instead.\n",
      "  target_weibos = target_weibos.append(new_row, ignore_index=True)\n"
     ]
    },
    {
     "name": "stdout",
     "output_type": "stream",
     "text": [
      "http://t.cn/A6lhcq2V\n"
     ]
    },
    {
     "name": "stderr",
     "output_type": "stream",
     "text": [
      "/var/folders/4h/zm_bwfv11ql5dx0d71rhbxqc0000gn/T/ipykernel_46878/2356110029.py:27: FutureWarning: The frame.append method is deprecated and will be removed from pandas in a future version. Use pandas.concat instead.\n",
      "  target_weibos = target_weibos.append(new_row, ignore_index=True)\n"
     ]
    },
    {
     "name": "stdout",
     "output_type": "stream",
     "text": [
      "http://t.cn/A6lnPXya\n"
     ]
    },
    {
     "name": "stderr",
     "output_type": "stream",
     "text": [
      "/var/folders/4h/zm_bwfv11ql5dx0d71rhbxqc0000gn/T/ipykernel_46878/2356110029.py:27: FutureWarning: The frame.append method is deprecated and will be removed from pandas in a future version. Use pandas.concat instead.\n",
      "  target_weibos = target_weibos.append(new_row, ignore_index=True)\n"
     ]
    },
    {
     "name": "stdout",
     "output_type": "stream",
     "text": [
      "http://t.cn/A6WFU6Ge\n"
     ]
    },
    {
     "name": "stderr",
     "output_type": "stream",
     "text": [
      "/var/folders/4h/zm_bwfv11ql5dx0d71rhbxqc0000gn/T/ipykernel_46878/2356110029.py:27: FutureWarning: The frame.append method is deprecated and will be removed from pandas in a future version. Use pandas.concat instead.\n",
      "  target_weibos = target_weibos.append(new_row, ignore_index=True)\n"
     ]
    },
    {
     "name": "stdout",
     "output_type": "stream",
     "text": [
      "http://t.cn/A6lP6ULb\n"
     ]
    },
    {
     "name": "stderr",
     "output_type": "stream",
     "text": [
      "/var/folders/4h/zm_bwfv11ql5dx0d71rhbxqc0000gn/T/ipykernel_46878/2356110029.py:27: FutureWarning: The frame.append method is deprecated and will be removed from pandas in a future version. Use pandas.concat instead.\n",
      "  target_weibos = target_weibos.append(new_row, ignore_index=True)\n"
     ]
    },
    {
     "name": "stdout",
     "output_type": "stream",
     "text": [
      "http://t.cn/A6lhAdBm\n"
     ]
    },
    {
     "name": "stderr",
     "output_type": "stream",
     "text": [
      "/var/folders/4h/zm_bwfv11ql5dx0d71rhbxqc0000gn/T/ipykernel_46878/2356110029.py:27: FutureWarning: The frame.append method is deprecated and will be removed from pandas in a future version. Use pandas.concat instead.\n",
      "  target_weibos = target_weibos.append(new_row, ignore_index=True)\n"
     ]
    },
    {
     "name": "stdout",
     "output_type": "stream",
     "text": [
      "http://t.cn/A6lhCUtQ\n"
     ]
    },
    {
     "name": "stderr",
     "output_type": "stream",
     "text": [
      "/var/folders/4h/zm_bwfv11ql5dx0d71rhbxqc0000gn/T/ipykernel_46878/2356110029.py:27: FutureWarning: The frame.append method is deprecated and will be removed from pandas in a future version. Use pandas.concat instead.\n",
      "  target_weibos = target_weibos.append(new_row, ignore_index=True)\n"
     ]
    },
    {
     "name": "stdout",
     "output_type": "stream",
     "text": [
      "http://t.cn/A6lR36q3\n"
     ]
    },
    {
     "name": "stderr",
     "output_type": "stream",
     "text": [
      "/var/folders/4h/zm_bwfv11ql5dx0d71rhbxqc0000gn/T/ipykernel_46878/2356110029.py:23: FutureWarning: The frame.append method is deprecated and will be removed from pandas in a future version. Use pandas.concat instead.\n",
      "  target_weibos = target_weibos.append(new_row, ignore_index=True)\n"
     ]
    },
    {
     "name": "stdout",
     "output_type": "stream",
     "text": [
      "http://t.cn/A6lPCdv9\n"
     ]
    },
    {
     "name": "stderr",
     "output_type": "stream",
     "text": [
      "/var/folders/4h/zm_bwfv11ql5dx0d71rhbxqc0000gn/T/ipykernel_46878/2356110029.py:27: FutureWarning: The frame.append method is deprecated and will be removed from pandas in a future version. Use pandas.concat instead.\n",
      "  target_weibos = target_weibos.append(new_row, ignore_index=True)\n"
     ]
    },
    {
     "name": "stdout",
     "output_type": "stream",
     "text": [
      "http://t.cn/A6l7vxs8\n"
     ]
    },
    {
     "name": "stderr",
     "output_type": "stream",
     "text": [
      "/var/folders/4h/zm_bwfv11ql5dx0d71rhbxqc0000gn/T/ipykernel_46878/2356110029.py:23: FutureWarning: The frame.append method is deprecated and will be removed from pandas in a future version. Use pandas.concat instead.\n",
      "  target_weibos = target_weibos.append(new_row, ignore_index=True)\n"
     ]
    },
    {
     "name": "stdout",
     "output_type": "stream",
     "text": [
      "http://t.cn/A6lnEPxR\n"
     ]
    },
    {
     "name": "stderr",
     "output_type": "stream",
     "text": [
      "/var/folders/4h/zm_bwfv11ql5dx0d71rhbxqc0000gn/T/ipykernel_46878/2356110029.py:23: FutureWarning: The frame.append method is deprecated and will be removed from pandas in a future version. Use pandas.concat instead.\n",
      "  target_weibos = target_weibos.append(new_row, ignore_index=True)\n"
     ]
    },
    {
     "name": "stdout",
     "output_type": "stream",
     "text": [
      "http://t.cn/A6lPZiAv\n"
     ]
    },
    {
     "name": "stderr",
     "output_type": "stream",
     "text": [
      "/var/folders/4h/zm_bwfv11ql5dx0d71rhbxqc0000gn/T/ipykernel_46878/2356110029.py:23: FutureWarning: The frame.append method is deprecated and will be removed from pandas in a future version. Use pandas.concat instead.\n",
      "  target_weibos = target_weibos.append(new_row, ignore_index=True)\n"
     ]
    },
    {
     "name": "stdout",
     "output_type": "stream",
     "text": [
      "http://t.cn/A6WFPygb\n"
     ]
    },
    {
     "name": "stderr",
     "output_type": "stream",
     "text": [
      "/var/folders/4h/zm_bwfv11ql5dx0d71rhbxqc0000gn/T/ipykernel_46878/2356110029.py:23: FutureWarning: The frame.append method is deprecated and will be removed from pandas in a future version. Use pandas.concat instead.\n",
      "  target_weibos = target_weibos.append(new_row, ignore_index=True)\n"
     ]
    },
    {
     "name": "stdout",
     "output_type": "stream",
     "text": [
      "http://t.cn/A6lnECw2\n"
     ]
    },
    {
     "name": "stderr",
     "output_type": "stream",
     "text": [
      "/var/folders/4h/zm_bwfv11ql5dx0d71rhbxqc0000gn/T/ipykernel_46878/2356110029.py:23: FutureWarning: The frame.append method is deprecated and will be removed from pandas in a future version. Use pandas.concat instead.\n",
      "  target_weibos = target_weibos.append(new_row, ignore_index=True)\n"
     ]
    },
    {
     "name": "stdout",
     "output_type": "stream",
     "text": [
      "http://t.cn/A6lP1nJA\n"
     ]
    },
    {
     "name": "stderr",
     "output_type": "stream",
     "text": [
      "/var/folders/4h/zm_bwfv11ql5dx0d71rhbxqc0000gn/T/ipykernel_46878/2356110029.py:23: FutureWarning: The frame.append method is deprecated and will be removed from pandas in a future version. Use pandas.concat instead.\n",
      "  target_weibos = target_weibos.append(new_row, ignore_index=True)\n"
     ]
    },
    {
     "name": "stdout",
     "output_type": "stream",
     "text": [
      "http://t.cn/A6lhaJ4J\n"
     ]
    },
    {
     "name": "stderr",
     "output_type": "stream",
     "text": [
      "/var/folders/4h/zm_bwfv11ql5dx0d71rhbxqc0000gn/T/ipykernel_46878/2356110029.py:23: FutureWarning: The frame.append method is deprecated and will be removed from pandas in a future version. Use pandas.concat instead.\n",
      "  target_weibos = target_weibos.append(new_row, ignore_index=True)\n"
     ]
    },
    {
     "name": "stdout",
     "output_type": "stream",
     "text": [
      "http://t.cn/A6lPWXxv\n"
     ]
    },
    {
     "name": "stderr",
     "output_type": "stream",
     "text": [
      "/var/folders/4h/zm_bwfv11ql5dx0d71rhbxqc0000gn/T/ipykernel_46878/2356110029.py:23: FutureWarning: The frame.append method is deprecated and will be removed from pandas in a future version. Use pandas.concat instead.\n",
      "  target_weibos = target_weibos.append(new_row, ignore_index=True)\n"
     ]
    },
    {
     "name": "stdout",
     "output_type": "stream",
     "text": [
      "http://t.cn/A6lEz4Bs\n"
     ]
    },
    {
     "name": "stderr",
     "output_type": "stream",
     "text": [
      "/var/folders/4h/zm_bwfv11ql5dx0d71rhbxqc0000gn/T/ipykernel_46878/2356110029.py:23: FutureWarning: The frame.append method is deprecated and will be removed from pandas in a future version. Use pandas.concat instead.\n",
      "  target_weibos = target_weibos.append(new_row, ignore_index=True)\n"
     ]
    },
    {
     "name": "stdout",
     "output_type": "stream",
     "text": [
      "http://t.cn/A6lvMlht\n"
     ]
    },
    {
     "name": "stderr",
     "output_type": "stream",
     "text": [
      "/var/folders/4h/zm_bwfv11ql5dx0d71rhbxqc0000gn/T/ipykernel_46878/2356110029.py:23: FutureWarning: The frame.append method is deprecated and will be removed from pandas in a future version. Use pandas.concat instead.\n",
      "  target_weibos = target_weibos.append(new_row, ignore_index=True)\n"
     ]
    },
    {
     "name": "stdout",
     "output_type": "stream",
     "text": [
      "http://t.cn/A6lEX0cW\n"
     ]
    },
    {
     "name": "stderr",
     "output_type": "stream",
     "text": [
      "/var/folders/4h/zm_bwfv11ql5dx0d71rhbxqc0000gn/T/ipykernel_46878/2356110029.py:23: FutureWarning: The frame.append method is deprecated and will be removed from pandas in a future version. Use pandas.concat instead.\n",
      "  target_weibos = target_weibos.append(new_row, ignore_index=True)\n"
     ]
    },
    {
     "name": "stdout",
     "output_type": "stream",
     "text": [
      "http://t.cn/A6lPwmx6\n"
     ]
    },
    {
     "name": "stderr",
     "output_type": "stream",
     "text": [
      "/var/folders/4h/zm_bwfv11ql5dx0d71rhbxqc0000gn/T/ipykernel_46878/2356110029.py:23: FutureWarning: The frame.append method is deprecated and will be removed from pandas in a future version. Use pandas.concat instead.\n",
      "  target_weibos = target_weibos.append(new_row, ignore_index=True)\n"
     ]
    },
    {
     "name": "stdout",
     "output_type": "stream",
     "text": [
      "http://t.cn/A6lEuXBO\n"
     ]
    },
    {
     "name": "stderr",
     "output_type": "stream",
     "text": [
      "/var/folders/4h/zm_bwfv11ql5dx0d71rhbxqc0000gn/T/ipykernel_46878/2356110029.py:20: FutureWarning: The frame.append method is deprecated and will be removed from pandas in a future version. Use pandas.concat instead.\n",
      "  target_weibos = target_weibos.append(new_row, ignore_index=True)\n"
     ]
    },
    {
     "name": "stdout",
     "output_type": "stream",
     "text": [
      "http://t.cn/A6lEdNxm\n"
     ]
    },
    {
     "name": "stderr",
     "output_type": "stream",
     "text": [
      "/var/folders/4h/zm_bwfv11ql5dx0d71rhbxqc0000gn/T/ipykernel_46878/2356110029.py:27: FutureWarning: The frame.append method is deprecated and will be removed from pandas in a future version. Use pandas.concat instead.\n",
      "  target_weibos = target_weibos.append(new_row, ignore_index=True)\n"
     ]
    },
    {
     "name": "stdout",
     "output_type": "stream",
     "text": [
      "http://t.cn/A6lh38Zy\n"
     ]
    },
    {
     "name": "stderr",
     "output_type": "stream",
     "text": [
      "/var/folders/4h/zm_bwfv11ql5dx0d71rhbxqc0000gn/T/ipykernel_46878/2356110029.py:27: FutureWarning: The frame.append method is deprecated and will be removed from pandas in a future version. Use pandas.concat instead.\n",
      "  target_weibos = target_weibos.append(new_row, ignore_index=True)\n"
     ]
    },
    {
     "name": "stdout",
     "output_type": "stream",
     "text": [
      "http://t.cn/A60OgJCQ\n"
     ]
    },
    {
     "name": "stderr",
     "output_type": "stream",
     "text": [
      "/var/folders/4h/zm_bwfv11ql5dx0d71rhbxqc0000gn/T/ipykernel_46878/2356110029.py:23: FutureWarning: The frame.append method is deprecated and will be removed from pandas in a future version. Use pandas.concat instead.\n",
      "  target_weibos = target_weibos.append(new_row, ignore_index=True)\n"
     ]
    },
    {
     "name": "stdout",
     "output_type": "stream",
     "text": [
      "http://t.cn/A6lhM2xK\n"
     ]
    },
    {
     "name": "stderr",
     "output_type": "stream",
     "text": [
      "/var/folders/4h/zm_bwfv11ql5dx0d71rhbxqc0000gn/T/ipykernel_46878/2356110029.py:27: FutureWarning: The frame.append method is deprecated and will be removed from pandas in a future version. Use pandas.concat instead.\n",
      "  target_weibos = target_weibos.append(new_row, ignore_index=True)\n"
     ]
    },
    {
     "name": "stdout",
     "output_type": "stream",
     "text": [
      "http://t.cn/A6Wst4NY\n"
     ]
    },
    {
     "name": "stderr",
     "output_type": "stream",
     "text": [
      "/var/folders/4h/zm_bwfv11ql5dx0d71rhbxqc0000gn/T/ipykernel_46878/2356110029.py:23: FutureWarning: The frame.append method is deprecated and will be removed from pandas in a future version. Use pandas.concat instead.\n",
      "  target_weibos = target_weibos.append(new_row, ignore_index=True)\n"
     ]
    },
    {
     "name": "stdout",
     "output_type": "stream",
     "text": [
      "http://t.cn/A6lhu1Cf\n"
     ]
    },
    {
     "name": "stderr",
     "output_type": "stream",
     "text": [
      "/var/folders/4h/zm_bwfv11ql5dx0d71rhbxqc0000gn/T/ipykernel_46878/2356110029.py:20: FutureWarning: The frame.append method is deprecated and will be removed from pandas in a future version. Use pandas.concat instead.\n",
      "  target_weibos = target_weibos.append(new_row, ignore_index=True)\n"
     ]
    },
    {
     "name": "stdout",
     "output_type": "stream",
     "text": [
      "http://t.cn/A6lEjUMB\n"
     ]
    },
    {
     "name": "stderr",
     "output_type": "stream",
     "text": [
      "/var/folders/4h/zm_bwfv11ql5dx0d71rhbxqc0000gn/T/ipykernel_46878/2356110029.py:23: FutureWarning: The frame.append method is deprecated and will be removed from pandas in a future version. Use pandas.concat instead.\n",
      "  target_weibos = target_weibos.append(new_row, ignore_index=True)\n"
     ]
    },
    {
     "name": "stdout",
     "output_type": "stream",
     "text": [
      "http://t.cn/A6lR6YuU\n"
     ]
    },
    {
     "name": "stderr",
     "output_type": "stream",
     "text": [
      "/var/folders/4h/zm_bwfv11ql5dx0d71rhbxqc0000gn/T/ipykernel_46878/2356110029.py:27: FutureWarning: The frame.append method is deprecated and will be removed from pandas in a future version. Use pandas.concat instead.\n",
      "  target_weibos = target_weibos.append(new_row, ignore_index=True)\n"
     ]
    },
    {
     "name": "stdout",
     "output_type": "stream",
     "text": [
      "http://t.cn/A6l7v8id\n"
     ]
    },
    {
     "name": "stderr",
     "output_type": "stream",
     "text": [
      "/var/folders/4h/zm_bwfv11ql5dx0d71rhbxqc0000gn/T/ipykernel_46878/2356110029.py:23: FutureWarning: The frame.append method is deprecated and will be removed from pandas in a future version. Use pandas.concat instead.\n",
      "  target_weibos = target_weibos.append(new_row, ignore_index=True)\n"
     ]
    },
    {
     "name": "stdout",
     "output_type": "stream",
     "text": [
      "http://t.cn/A6lPyjXT\n"
     ]
    },
    {
     "name": "stderr",
     "output_type": "stream",
     "text": [
      "/var/folders/4h/zm_bwfv11ql5dx0d71rhbxqc0000gn/T/ipykernel_46878/2356110029.py:27: FutureWarning: The frame.append method is deprecated and will be removed from pandas in a future version. Use pandas.concat instead.\n",
      "  target_weibos = target_weibos.append(new_row, ignore_index=True)\n"
     ]
    },
    {
     "name": "stdout",
     "output_type": "stream",
     "text": [
      "http://t.cn/A6lv5aSP\n"
     ]
    },
    {
     "name": "stderr",
     "output_type": "stream",
     "text": [
      "/var/folders/4h/zm_bwfv11ql5dx0d71rhbxqc0000gn/T/ipykernel_46878/2356110029.py:23: FutureWarning: The frame.append method is deprecated and will be removed from pandas in a future version. Use pandas.concat instead.\n",
      "  target_weibos = target_weibos.append(new_row, ignore_index=True)\n"
     ]
    },
    {
     "name": "stdout",
     "output_type": "stream",
     "text": [
      "http://t.cn/A6WFk7Iy\n"
     ]
    },
    {
     "name": "stderr",
     "output_type": "stream",
     "text": [
      "/var/folders/4h/zm_bwfv11ql5dx0d71rhbxqc0000gn/T/ipykernel_46878/2356110029.py:23: FutureWarning: The frame.append method is deprecated and will be removed from pandas in a future version. Use pandas.concat instead.\n",
      "  target_weibos = target_weibos.append(new_row, ignore_index=True)\n"
     ]
    },
    {
     "name": "stdout",
     "output_type": "stream",
     "text": [
      "http://t.cn/A6lPCt1N\n"
     ]
    },
    {
     "name": "stderr",
     "output_type": "stream",
     "text": [
      "/var/folders/4h/zm_bwfv11ql5dx0d71rhbxqc0000gn/T/ipykernel_46878/2356110029.py:23: FutureWarning: The frame.append method is deprecated and will be removed from pandas in a future version. Use pandas.concat instead.\n",
      "  target_weibos = target_weibos.append(new_row, ignore_index=True)\n"
     ]
    },
    {
     "name": "stdout",
     "output_type": "stream",
     "text": [
      "http://t.cn/A6lPKOYD\n"
     ]
    },
    {
     "name": "stderr",
     "output_type": "stream",
     "text": [
      "/var/folders/4h/zm_bwfv11ql5dx0d71rhbxqc0000gn/T/ipykernel_46878/2356110029.py:23: FutureWarning: The frame.append method is deprecated and will be removed from pandas in a future version. Use pandas.concat instead.\n",
      "  target_weibos = target_weibos.append(new_row, ignore_index=True)\n"
     ]
    },
    {
     "name": "stdout",
     "output_type": "stream",
     "text": [
      "http://t.cn/A6lvknQJ\n"
     ]
    },
    {
     "name": "stderr",
     "output_type": "stream",
     "text": [
      "/var/folders/4h/zm_bwfv11ql5dx0d71rhbxqc0000gn/T/ipykernel_46878/2356110029.py:27: FutureWarning: The frame.append method is deprecated and will be removed from pandas in a future version. Use pandas.concat instead.\n",
      "  target_weibos = target_weibos.append(new_row, ignore_index=True)\n"
     ]
    },
    {
     "name": "stdout",
     "output_type": "stream",
     "text": [
      "http://t.cn/A6lvjTyv\n"
     ]
    },
    {
     "name": "stderr",
     "output_type": "stream",
     "text": [
      "/var/folders/4h/zm_bwfv11ql5dx0d71rhbxqc0000gn/T/ipykernel_46878/2356110029.py:20: FutureWarning: The frame.append method is deprecated and will be removed from pandas in a future version. Use pandas.concat instead.\n",
      "  target_weibos = target_weibos.append(new_row, ignore_index=True)\n",
      "/var/folders/4h/zm_bwfv11ql5dx0d71rhbxqc0000gn/T/ipykernel_46878/2356110029.py:20: FutureWarning: The frame.append method is deprecated and will be removed from pandas in a future version. Use pandas.concat instead.\n",
      "  target_weibos = target_weibos.append(new_row, ignore_index=True)\n"
     ]
    },
    {
     "name": "stdout",
     "output_type": "stream",
     "text": [
      "http://t.cn/A6lhd5wp\n"
     ]
    },
    {
     "name": "stderr",
     "output_type": "stream",
     "text": [
      "/var/folders/4h/zm_bwfv11ql5dx0d71rhbxqc0000gn/T/ipykernel_46878/2356110029.py:23: FutureWarning: The frame.append method is deprecated and will be removed from pandas in a future version. Use pandas.concat instead.\n",
      "  target_weibos = target_weibos.append(new_row, ignore_index=True)\n"
     ]
    },
    {
     "name": "stdout",
     "output_type": "stream",
     "text": [
      "http://t.cn/A6lhtVdt\n"
     ]
    },
    {
     "name": "stderr",
     "output_type": "stream",
     "text": [
      "/var/folders/4h/zm_bwfv11ql5dx0d71rhbxqc0000gn/T/ipykernel_46878/2356110029.py:20: FutureWarning: The frame.append method is deprecated and will be removed from pandas in a future version. Use pandas.concat instead.\n",
      "  target_weibos = target_weibos.append(new_row, ignore_index=True)\n"
     ]
    },
    {
     "name": "stdout",
     "output_type": "stream",
     "text": [
      "http://t.cn/A6lhVN9o\n"
     ]
    },
    {
     "name": "stderr",
     "output_type": "stream",
     "text": [
      "/var/folders/4h/zm_bwfv11ql5dx0d71rhbxqc0000gn/T/ipykernel_46878/2356110029.py:23: FutureWarning: The frame.append method is deprecated and will be removed from pandas in a future version. Use pandas.concat instead.\n",
      "  target_weibos = target_weibos.append(new_row, ignore_index=True)\n"
     ]
    },
    {
     "name": "stdout",
     "output_type": "stream",
     "text": [
      "http://t.cn/A6l7v4T1\n"
     ]
    },
    {
     "name": "stderr",
     "output_type": "stream",
     "text": [
      "/var/folders/4h/zm_bwfv11ql5dx0d71rhbxqc0000gn/T/ipykernel_46878/2356110029.py:27: FutureWarning: The frame.append method is deprecated and will be removed from pandas in a future version. Use pandas.concat instead.\n",
      "  target_weibos = target_weibos.append(new_row, ignore_index=True)\n"
     ]
    },
    {
     "name": "stdout",
     "output_type": "stream",
     "text": [
      "http://t.cn/A6lP26Sy\n"
     ]
    },
    {
     "name": "stderr",
     "output_type": "stream",
     "text": [
      "/var/folders/4h/zm_bwfv11ql5dx0d71rhbxqc0000gn/T/ipykernel_46878/2356110029.py:23: FutureWarning: The frame.append method is deprecated and will be removed from pandas in a future version. Use pandas.concat instead.\n",
      "  target_weibos = target_weibos.append(new_row, ignore_index=True)\n"
     ]
    },
    {
     "name": "stdout",
     "output_type": "stream",
     "text": [
      "http://t.cn/A6lPzEQJ\n"
     ]
    },
    {
     "name": "stderr",
     "output_type": "stream",
     "text": [
      "/var/folders/4h/zm_bwfv11ql5dx0d71rhbxqc0000gn/T/ipykernel_46878/2356110029.py:27: FutureWarning: The frame.append method is deprecated and will be removed from pandas in a future version. Use pandas.concat instead.\n",
      "  target_weibos = target_weibos.append(new_row, ignore_index=True)\n"
     ]
    },
    {
     "name": "stdout",
     "output_type": "stream",
     "text": [
      "http://t.cn/A6lPlj8k\n"
     ]
    },
    {
     "name": "stderr",
     "output_type": "stream",
     "text": [
      "/var/folders/4h/zm_bwfv11ql5dx0d71rhbxqc0000gn/T/ipykernel_46878/2356110029.py:23: FutureWarning: The frame.append method is deprecated and will be removed from pandas in a future version. Use pandas.concat instead.\n",
      "  target_weibos = target_weibos.append(new_row, ignore_index=True)\n"
     ]
    },
    {
     "name": "stdout",
     "output_type": "stream",
     "text": [
      "http://t.cn/A6lmU5w8\n"
     ]
    },
    {
     "name": "stderr",
     "output_type": "stream",
     "text": [
      "/var/folders/4h/zm_bwfv11ql5dx0d71rhbxqc0000gn/T/ipykernel_46878/2356110029.py:23: FutureWarning: The frame.append method is deprecated and will be removed from pandas in a future version. Use pandas.concat instead.\n",
      "  target_weibos = target_weibos.append(new_row, ignore_index=True)\n"
     ]
    },
    {
     "name": "stdout",
     "output_type": "stream",
     "text": [
      "http://t.cn/A6lhzOO4\n"
     ]
    },
    {
     "name": "stderr",
     "output_type": "stream",
     "text": [
      "/var/folders/4h/zm_bwfv11ql5dx0d71rhbxqc0000gn/T/ipykernel_46878/2356110029.py:23: FutureWarning: The frame.append method is deprecated and will be removed from pandas in a future version. Use pandas.concat instead.\n",
      "  target_weibos = target_weibos.append(new_row, ignore_index=True)\n"
     ]
    },
    {
     "name": "stdout",
     "output_type": "stream",
     "text": [
      "http://t.cn/A6lP2QWm\n"
     ]
    },
    {
     "name": "stderr",
     "output_type": "stream",
     "text": [
      "/var/folders/4h/zm_bwfv11ql5dx0d71rhbxqc0000gn/T/ipykernel_46878/2356110029.py:27: FutureWarning: The frame.append method is deprecated and will be removed from pandas in a future version. Use pandas.concat instead.\n",
      "  target_weibos = target_weibos.append(new_row, ignore_index=True)\n"
     ]
    },
    {
     "name": "stdout",
     "output_type": "stream",
     "text": [
      "http://t.cn/A6lhrmdc\n"
     ]
    },
    {
     "name": "stderr",
     "output_type": "stream",
     "text": [
      "/var/folders/4h/zm_bwfv11ql5dx0d71rhbxqc0000gn/T/ipykernel_46878/2356110029.py:23: FutureWarning: The frame.append method is deprecated and will be removed from pandas in a future version. Use pandas.concat instead.\n",
      "  target_weibos = target_weibos.append(new_row, ignore_index=True)\n"
     ]
    },
    {
     "name": "stdout",
     "output_type": "stream",
     "text": [
      "http://t.cn/A6lPMexZ\n"
     ]
    },
    {
     "name": "stderr",
     "output_type": "stream",
     "text": [
      "/var/folders/4h/zm_bwfv11ql5dx0d71rhbxqc0000gn/T/ipykernel_46878/2356110029.py:23: FutureWarning: The frame.append method is deprecated and will be removed from pandas in a future version. Use pandas.concat instead.\n",
      "  target_weibos = target_weibos.append(new_row, ignore_index=True)\n"
     ]
    },
    {
     "name": "stdout",
     "output_type": "stream",
     "text": [
      "http://t.cn/A6lhbNjT\n"
     ]
    },
    {
     "name": "stderr",
     "output_type": "stream",
     "text": [
      "/var/folders/4h/zm_bwfv11ql5dx0d71rhbxqc0000gn/T/ipykernel_46878/2356110029.py:23: FutureWarning: The frame.append method is deprecated and will be removed from pandas in a future version. Use pandas.concat instead.\n",
      "  target_weibos = target_weibos.append(new_row, ignore_index=True)\n"
     ]
    },
    {
     "name": "stdout",
     "output_type": "stream",
     "text": [
      "http://t.cn/A6lPLoLs\n"
     ]
    },
    {
     "name": "stderr",
     "output_type": "stream",
     "text": [
      "/var/folders/4h/zm_bwfv11ql5dx0d71rhbxqc0000gn/T/ipykernel_46878/2356110029.py:27: FutureWarning: The frame.append method is deprecated and will be removed from pandas in a future version. Use pandas.concat instead.\n",
      "  target_weibos = target_weibos.append(new_row, ignore_index=True)\n"
     ]
    },
    {
     "name": "stdout",
     "output_type": "stream",
     "text": [
      "http://t.cn/A6ln8Bwp\n"
     ]
    },
    {
     "name": "stderr",
     "output_type": "stream",
     "text": [
      "/var/folders/4h/zm_bwfv11ql5dx0d71rhbxqc0000gn/T/ipykernel_46878/2356110029.py:23: FutureWarning: The frame.append method is deprecated and will be removed from pandas in a future version. Use pandas.concat instead.\n",
      "  target_weibos = target_weibos.append(new_row, ignore_index=True)\n"
     ]
    },
    {
     "name": "stdout",
     "output_type": "stream",
     "text": [
      "http://t.cn/A6lhdoDG\n"
     ]
    },
    {
     "name": "stderr",
     "output_type": "stream",
     "text": [
      "/var/folders/4h/zm_bwfv11ql5dx0d71rhbxqc0000gn/T/ipykernel_46878/2356110029.py:23: FutureWarning: The frame.append method is deprecated and will be removed from pandas in a future version. Use pandas.concat instead.\n",
      "  target_weibos = target_weibos.append(new_row, ignore_index=True)\n"
     ]
    },
    {
     "name": "stdout",
     "output_type": "stream",
     "text": [
      "http://t.cn/A6lmqJBG\n"
     ]
    },
    {
     "name": "stderr",
     "output_type": "stream",
     "text": [
      "/var/folders/4h/zm_bwfv11ql5dx0d71rhbxqc0000gn/T/ipykernel_46878/2356110029.py:23: FutureWarning: The frame.append method is deprecated and will be removed from pandas in a future version. Use pandas.concat instead.\n",
      "  target_weibos = target_weibos.append(new_row, ignore_index=True)\n"
     ]
    },
    {
     "name": "stdout",
     "output_type": "stream",
     "text": [
      "http://t.cn/A6lhMou9\n"
     ]
    },
    {
     "name": "stderr",
     "output_type": "stream",
     "text": [
      "/var/folders/4h/zm_bwfv11ql5dx0d71rhbxqc0000gn/T/ipykernel_46878/2356110029.py:27: FutureWarning: The frame.append method is deprecated and will be removed from pandas in a future version. Use pandas.concat instead.\n",
      "  target_weibos = target_weibos.append(new_row, ignore_index=True)\n"
     ]
    },
    {
     "name": "stdout",
     "output_type": "stream",
     "text": [
      "http://t.cn/A6lh89nF\n"
     ]
    },
    {
     "name": "stderr",
     "output_type": "stream",
     "text": [
      "/var/folders/4h/zm_bwfv11ql5dx0d71rhbxqc0000gn/T/ipykernel_46878/2356110029.py:20: FutureWarning: The frame.append method is deprecated and will be removed from pandas in a future version. Use pandas.concat instead.\n",
      "  target_weibos = target_weibos.append(new_row, ignore_index=True)\n"
     ]
    },
    {
     "name": "stdout",
     "output_type": "stream",
     "text": [
      "http://t.cn/A6lEkigF\n"
     ]
    },
    {
     "name": "stderr",
     "output_type": "stream",
     "text": [
      "/var/folders/4h/zm_bwfv11ql5dx0d71rhbxqc0000gn/T/ipykernel_46878/2356110029.py:23: FutureWarning: The frame.append method is deprecated and will be removed from pandas in a future version. Use pandas.concat instead.\n",
      "  target_weibos = target_weibos.append(new_row, ignore_index=True)\n"
     ]
    },
    {
     "name": "stdout",
     "output_type": "stream",
     "text": [
      "http://t.cn/A6lhGNO6\n"
     ]
    },
    {
     "name": "stderr",
     "output_type": "stream",
     "text": [
      "/var/folders/4h/zm_bwfv11ql5dx0d71rhbxqc0000gn/T/ipykernel_46878/2356110029.py:23: FutureWarning: The frame.append method is deprecated and will be removed from pandas in a future version. Use pandas.concat instead.\n",
      "  target_weibos = target_weibos.append(new_row, ignore_index=True)\n"
     ]
    },
    {
     "name": "stdout",
     "output_type": "stream",
     "text": [
      "http://t.cn/A6l7LqON\n"
     ]
    },
    {
     "name": "stderr",
     "output_type": "stream",
     "text": [
      "/var/folders/4h/zm_bwfv11ql5dx0d71rhbxqc0000gn/T/ipykernel_46878/2356110029.py:23: FutureWarning: The frame.append method is deprecated and will be removed from pandas in a future version. Use pandas.concat instead.\n",
      "  target_weibos = target_weibos.append(new_row, ignore_index=True)\n"
     ]
    },
    {
     "name": "stdout",
     "output_type": "stream",
     "text": [
      "http://t.cn/A6lnV6N3\n"
     ]
    },
    {
     "name": "stderr",
     "output_type": "stream",
     "text": [
      "/var/folders/4h/zm_bwfv11ql5dx0d71rhbxqc0000gn/T/ipykernel_46878/2356110029.py:23: FutureWarning: The frame.append method is deprecated and will be removed from pandas in a future version. Use pandas.concat instead.\n",
      "  target_weibos = target_weibos.append(new_row, ignore_index=True)\n"
     ]
    },
    {
     "name": "stdout",
     "output_type": "stream",
     "text": [
      "http://t.cn/A6lEP7IF\n"
     ]
    },
    {
     "name": "stderr",
     "output_type": "stream",
     "text": [
      "/var/folders/4h/zm_bwfv11ql5dx0d71rhbxqc0000gn/T/ipykernel_46878/2356110029.py:20: FutureWarning: The frame.append method is deprecated and will be removed from pandas in a future version. Use pandas.concat instead.\n",
      "  target_weibos = target_weibos.append(new_row, ignore_index=True)\n"
     ]
    },
    {
     "name": "stdout",
     "output_type": "stream",
     "text": [
      "http://t.cn/A6lPZ3kG\n"
     ]
    },
    {
     "name": "stderr",
     "output_type": "stream",
     "text": [
      "/var/folders/4h/zm_bwfv11ql5dx0d71rhbxqc0000gn/T/ipykernel_46878/2356110029.py:27: FutureWarning: The frame.append method is deprecated and will be removed from pandas in a future version. Use pandas.concat instead.\n",
      "  target_weibos = target_weibos.append(new_row, ignore_index=True)\n"
     ]
    },
    {
     "name": "stdout",
     "output_type": "stream",
     "text": [
      "http://t.cn/A6lhA4Oc\n"
     ]
    },
    {
     "name": "stderr",
     "output_type": "stream",
     "text": [
      "/var/folders/4h/zm_bwfv11ql5dx0d71rhbxqc0000gn/T/ipykernel_46878/2356110029.py:23: FutureWarning: The frame.append method is deprecated and will be removed from pandas in a future version. Use pandas.concat instead.\n",
      "  target_weibos = target_weibos.append(new_row, ignore_index=True)\n"
     ]
    },
    {
     "name": "stdout",
     "output_type": "stream",
     "text": [
      "http://t.cn/A6lhcwiE\n"
     ]
    },
    {
     "name": "stderr",
     "output_type": "stream",
     "text": [
      "/var/folders/4h/zm_bwfv11ql5dx0d71rhbxqc0000gn/T/ipykernel_46878/2356110029.py:27: FutureWarning: The frame.append method is deprecated and will be removed from pandas in a future version. Use pandas.concat instead.\n",
      "  target_weibos = target_weibos.append(new_row, ignore_index=True)\n"
     ]
    },
    {
     "name": "stdout",
     "output_type": "stream",
     "text": [
      "http://t.cn/A6lh6Fuj\n"
     ]
    },
    {
     "name": "stderr",
     "output_type": "stream",
     "text": [
      "/var/folders/4h/zm_bwfv11ql5dx0d71rhbxqc0000gn/T/ipykernel_46878/2356110029.py:23: FutureWarning: The frame.append method is deprecated and will be removed from pandas in a future version. Use pandas.concat instead.\n",
      "  target_weibos = target_weibos.append(new_row, ignore_index=True)\n"
     ]
    },
    {
     "name": "stdout",
     "output_type": "stream",
     "text": [
      "http://t.cn/A6lPp9KV\n"
     ]
    },
    {
     "name": "stderr",
     "output_type": "stream",
     "text": [
      "/var/folders/4h/zm_bwfv11ql5dx0d71rhbxqc0000gn/T/ipykernel_46878/2356110029.py:27: FutureWarning: The frame.append method is deprecated and will be removed from pandas in a future version. Use pandas.concat instead.\n",
      "  target_weibos = target_weibos.append(new_row, ignore_index=True)\n"
     ]
    },
    {
     "name": "stdout",
     "output_type": "stream",
     "text": [
      "http://t.cn/A6lEGInL\n"
     ]
    },
    {
     "name": "stderr",
     "output_type": "stream",
     "text": [
      "/var/folders/4h/zm_bwfv11ql5dx0d71rhbxqc0000gn/T/ipykernel_46878/2356110029.py:23: FutureWarning: The frame.append method is deprecated and will be removed from pandas in a future version. Use pandas.concat instead.\n",
      "  target_weibos = target_weibos.append(new_row, ignore_index=True)\n"
     ]
    },
    {
     "name": "stdout",
     "output_type": "stream",
     "text": [
      "http://t.cn/A6lh3gLH\n"
     ]
    },
    {
     "name": "stderr",
     "output_type": "stream",
     "text": [
      "/var/folders/4h/zm_bwfv11ql5dx0d71rhbxqc0000gn/T/ipykernel_46878/2356110029.py:27: FutureWarning: The frame.append method is deprecated and will be removed from pandas in a future version. Use pandas.concat instead.\n",
      "  target_weibos = target_weibos.append(new_row, ignore_index=True)\n"
     ]
    },
    {
     "name": "stdout",
     "output_type": "stream",
     "text": [
      "http://t.cn/A6lhMBUp\n"
     ]
    },
    {
     "name": "stderr",
     "output_type": "stream",
     "text": [
      "/var/folders/4h/zm_bwfv11ql5dx0d71rhbxqc0000gn/T/ipykernel_46878/2356110029.py:23: FutureWarning: The frame.append method is deprecated and will be removed from pandas in a future version. Use pandas.concat instead.\n",
      "  target_weibos = target_weibos.append(new_row, ignore_index=True)\n"
     ]
    },
    {
     "name": "stdout",
     "output_type": "stream",
     "text": [
      "http://t.cn/A6lPDMQQ\n"
     ]
    },
    {
     "name": "stderr",
     "output_type": "stream",
     "text": [
      "/var/folders/4h/zm_bwfv11ql5dx0d71rhbxqc0000gn/T/ipykernel_46878/2356110029.py:20: FutureWarning: The frame.append method is deprecated and will be removed from pandas in a future version. Use pandas.concat instead.\n",
      "  target_weibos = target_weibos.append(new_row, ignore_index=True)\n"
     ]
    },
    {
     "name": "stdout",
     "output_type": "stream",
     "text": [
      "http://t.cn/A6lPVFgz\n"
     ]
    },
    {
     "name": "stderr",
     "output_type": "stream",
     "text": [
      "/var/folders/4h/zm_bwfv11ql5dx0d71rhbxqc0000gn/T/ipykernel_46878/2356110029.py:23: FutureWarning: The frame.append method is deprecated and will be removed from pandas in a future version. Use pandas.concat instead.\n",
      "  target_weibos = target_weibos.append(new_row, ignore_index=True)\n"
     ]
    },
    {
     "name": "stdout",
     "output_type": "stream",
     "text": [
      "http://t.cn/A6l72DsJ\n"
     ]
    },
    {
     "name": "stderr",
     "output_type": "stream",
     "text": [
      "/var/folders/4h/zm_bwfv11ql5dx0d71rhbxqc0000gn/T/ipykernel_46878/2356110029.py:23: FutureWarning: The frame.append method is deprecated and will be removed from pandas in a future version. Use pandas.concat instead.\n",
      "  target_weibos = target_weibos.append(new_row, ignore_index=True)\n"
     ]
    },
    {
     "name": "stdout",
     "output_type": "stream",
     "text": [
      "http://t.cn/A6lPRsaE\n"
     ]
    },
    {
     "name": "stderr",
     "output_type": "stream",
     "text": [
      "/var/folders/4h/zm_bwfv11ql5dx0d71rhbxqc0000gn/T/ipykernel_46878/2356110029.py:23: FutureWarning: The frame.append method is deprecated and will be removed from pandas in a future version. Use pandas.concat instead.\n",
      "  target_weibos = target_weibos.append(new_row, ignore_index=True)\n"
     ]
    },
    {
     "name": "stdout",
     "output_type": "stream",
     "text": [
      "http://t.cn/A6lvEC83\n"
     ]
    },
    {
     "name": "stderr",
     "output_type": "stream",
     "text": [
      "/var/folders/4h/zm_bwfv11ql5dx0d71rhbxqc0000gn/T/ipykernel_46878/2356110029.py:23: FutureWarning: The frame.append method is deprecated and will be removed from pandas in a future version. Use pandas.concat instead.\n",
      "  target_weibos = target_weibos.append(new_row, ignore_index=True)\n"
     ]
    },
    {
     "name": "stdout",
     "output_type": "stream",
     "text": [
      "http://t.cn/A6lPXY1V\n"
     ]
    },
    {
     "name": "stderr",
     "output_type": "stream",
     "text": [
      "/var/folders/4h/zm_bwfv11ql5dx0d71rhbxqc0000gn/T/ipykernel_46878/2356110029.py:27: FutureWarning: The frame.append method is deprecated and will be removed from pandas in a future version. Use pandas.concat instead.\n",
      "  target_weibos = target_weibos.append(new_row, ignore_index=True)\n"
     ]
    },
    {
     "name": "stdout",
     "output_type": "stream",
     "text": [
      "http://t.cn/A6lhQgZC\n"
     ]
    },
    {
     "name": "stderr",
     "output_type": "stream",
     "text": [
      "/var/folders/4h/zm_bwfv11ql5dx0d71rhbxqc0000gn/T/ipykernel_46878/2356110029.py:23: FutureWarning: The frame.append method is deprecated and will be removed from pandas in a future version. Use pandas.concat instead.\n",
      "  target_weibos = target_weibos.append(new_row, ignore_index=True)\n"
     ]
    },
    {
     "name": "stdout",
     "output_type": "stream",
     "text": [
      "http://t.cn/A6lhfGkt\n"
     ]
    },
    {
     "name": "stderr",
     "output_type": "stream",
     "text": [
      "/var/folders/4h/zm_bwfv11ql5dx0d71rhbxqc0000gn/T/ipykernel_46878/2356110029.py:23: FutureWarning: The frame.append method is deprecated and will be removed from pandas in a future version. Use pandas.concat instead.\n",
      "  target_weibos = target_weibos.append(new_row, ignore_index=True)\n"
     ]
    },
    {
     "name": "stdout",
     "output_type": "stream",
     "text": [
      "http://t.cn/A6lPSgmo\n"
     ]
    },
    {
     "name": "stderr",
     "output_type": "stream",
     "text": [
      "/var/folders/4h/zm_bwfv11ql5dx0d71rhbxqc0000gn/T/ipykernel_46878/2356110029.py:23: FutureWarning: The frame.append method is deprecated and will be removed from pandas in a future version. Use pandas.concat instead.\n",
      "  target_weibos = target_weibos.append(new_row, ignore_index=True)\n"
     ]
    },
    {
     "name": "stdout",
     "output_type": "stream",
     "text": [
      "http://t.cn/A6lPzJzu\n"
     ]
    },
    {
     "name": "stderr",
     "output_type": "stream",
     "text": [
      "/var/folders/4h/zm_bwfv11ql5dx0d71rhbxqc0000gn/T/ipykernel_46878/2356110029.py:27: FutureWarning: The frame.append method is deprecated and will be removed from pandas in a future version. Use pandas.concat instead.\n",
      "  target_weibos = target_weibos.append(new_row, ignore_index=True)\n"
     ]
    },
    {
     "name": "stdout",
     "output_type": "stream",
     "text": [
      "http://t.cn/A6lhJvcZ\n"
     ]
    },
    {
     "name": "stderr",
     "output_type": "stream",
     "text": [
      "/var/folders/4h/zm_bwfv11ql5dx0d71rhbxqc0000gn/T/ipykernel_46878/2356110029.py:20: FutureWarning: The frame.append method is deprecated and will be removed from pandas in a future version. Use pandas.concat instead.\n",
      "  target_weibos = target_weibos.append(new_row, ignore_index=True)\n"
     ]
    },
    {
     "name": "stdout",
     "output_type": "stream",
     "text": [
      "http://t.cn/A6lEW3sf\n"
     ]
    },
    {
     "name": "stderr",
     "output_type": "stream",
     "text": [
      "/var/folders/4h/zm_bwfv11ql5dx0d71rhbxqc0000gn/T/ipykernel_46878/2356110029.py:20: FutureWarning: The frame.append method is deprecated and will be removed from pandas in a future version. Use pandas.concat instead.\n",
      "  target_weibos = target_weibos.append(new_row, ignore_index=True)\n"
     ]
    },
    {
     "name": "stdout",
     "output_type": "stream",
     "text": [
      "http://t.cn/A6l8GLal\n"
     ]
    },
    {
     "name": "stderr",
     "output_type": "stream",
     "text": [
      "/var/folders/4h/zm_bwfv11ql5dx0d71rhbxqc0000gn/T/ipykernel_46878/2356110029.py:23: FutureWarning: The frame.append method is deprecated and will be removed from pandas in a future version. Use pandas.concat instead.\n",
      "  target_weibos = target_weibos.append(new_row, ignore_index=True)\n"
     ]
    },
    {
     "name": "stdout",
     "output_type": "stream",
     "text": [
      "http://t.cn/A6lPxJV7\n"
     ]
    },
    {
     "name": "stderr",
     "output_type": "stream",
     "text": [
      "/var/folders/4h/zm_bwfv11ql5dx0d71rhbxqc0000gn/T/ipykernel_46878/2356110029.py:23: FutureWarning: The frame.append method is deprecated and will be removed from pandas in a future version. Use pandas.concat instead.\n",
      "  target_weibos = target_weibos.append(new_row, ignore_index=True)\n"
     ]
    },
    {
     "name": "stdout",
     "output_type": "stream",
     "text": [
      "http://t.cn/A6lv03R4\n"
     ]
    },
    {
     "name": "stderr",
     "output_type": "stream",
     "text": [
      "/var/folders/4h/zm_bwfv11ql5dx0d71rhbxqc0000gn/T/ipykernel_46878/2356110029.py:27: FutureWarning: The frame.append method is deprecated and will be removed from pandas in a future version. Use pandas.concat instead.\n",
      "  target_weibos = target_weibos.append(new_row, ignore_index=True)\n"
     ]
    },
    {
     "name": "stdout",
     "output_type": "stream",
     "text": [
      "http://t.cn/A6lhOFHH\n"
     ]
    },
    {
     "name": "stderr",
     "output_type": "stream",
     "text": [
      "/var/folders/4h/zm_bwfv11ql5dx0d71rhbxqc0000gn/T/ipykernel_46878/2356110029.py:20: FutureWarning: The frame.append method is deprecated and will be removed from pandas in a future version. Use pandas.concat instead.\n",
      "  target_weibos = target_weibos.append(new_row, ignore_index=True)\n"
     ]
    },
    {
     "name": "stdout",
     "output_type": "stream",
     "text": [
      "http://t.cn/A6lhEqET\n"
     ]
    },
    {
     "name": "stderr",
     "output_type": "stream",
     "text": [
      "/var/folders/4h/zm_bwfv11ql5dx0d71rhbxqc0000gn/T/ipykernel_46878/2356110029.py:20: FutureWarning: The frame.append method is deprecated and will be removed from pandas in a future version. Use pandas.concat instead.\n",
      "  target_weibos = target_weibos.append(new_row, ignore_index=True)\n"
     ]
    },
    {
     "name": "stdout",
     "output_type": "stream",
     "text": [
      "http://t.cn/A6lhuttU\n"
     ]
    },
    {
     "name": "stderr",
     "output_type": "stream",
     "text": [
      "/var/folders/4h/zm_bwfv11ql5dx0d71rhbxqc0000gn/T/ipykernel_46878/2356110029.py:23: FutureWarning: The frame.append method is deprecated and will be removed from pandas in a future version. Use pandas.concat instead.\n",
      "  target_weibos = target_weibos.append(new_row, ignore_index=True)\n"
     ]
    },
    {
     "name": "stdout",
     "output_type": "stream",
     "text": [
      "http://t.cn/A6lPEO16\n"
     ]
    },
    {
     "name": "stderr",
     "output_type": "stream",
     "text": [
      "/var/folders/4h/zm_bwfv11ql5dx0d71rhbxqc0000gn/T/ipykernel_46878/2356110029.py:27: FutureWarning: The frame.append method is deprecated and will be removed from pandas in a future version. Use pandas.concat instead.\n",
      "  target_weibos = target_weibos.append(new_row, ignore_index=True)\n"
     ]
    },
    {
     "name": "stdout",
     "output_type": "stream",
     "text": [
      "http://t.cn/A6lh4AvE\n"
     ]
    },
    {
     "name": "stderr",
     "output_type": "stream",
     "text": [
      "/var/folders/4h/zm_bwfv11ql5dx0d71rhbxqc0000gn/T/ipykernel_46878/2356110029.py:27: FutureWarning: The frame.append method is deprecated and will be removed from pandas in a future version. Use pandas.concat instead.\n",
      "  target_weibos = target_weibos.append(new_row, ignore_index=True)\n"
     ]
    },
    {
     "name": "stdout",
     "output_type": "stream",
     "text": [
      "http://t.cn/A6lntkjk\n"
     ]
    },
    {
     "name": "stderr",
     "output_type": "stream",
     "text": [
      "/var/folders/4h/zm_bwfv11ql5dx0d71rhbxqc0000gn/T/ipykernel_46878/2356110029.py:23: FutureWarning: The frame.append method is deprecated and will be removed from pandas in a future version. Use pandas.concat instead.\n",
      "  target_weibos = target_weibos.append(new_row, ignore_index=True)\n"
     ]
    },
    {
     "name": "stdout",
     "output_type": "stream",
     "text": [
      "http://t.cn/A6l7PbUb\n"
     ]
    },
    {
     "name": "stderr",
     "output_type": "stream",
     "text": [
      "/var/folders/4h/zm_bwfv11ql5dx0d71rhbxqc0000gn/T/ipykernel_46878/2356110029.py:23: FutureWarning: The frame.append method is deprecated and will be removed from pandas in a future version. Use pandas.concat instead.\n",
      "  target_weibos = target_weibos.append(new_row, ignore_index=True)\n"
     ]
    },
    {
     "name": "stdout",
     "output_type": "stream",
     "text": [
      "http://t.cn/A6lnyhO2\n"
     ]
    },
    {
     "name": "stderr",
     "output_type": "stream",
     "text": [
      "/var/folders/4h/zm_bwfv11ql5dx0d71rhbxqc0000gn/T/ipykernel_46878/2356110029.py:23: FutureWarning: The frame.append method is deprecated and will be removed from pandas in a future version. Use pandas.concat instead.\n",
      "  target_weibos = target_weibos.append(new_row, ignore_index=True)\n"
     ]
    },
    {
     "name": "stdout",
     "output_type": "stream",
     "text": [
      "http://t.cn/A6lPa04A\n"
     ]
    },
    {
     "name": "stderr",
     "output_type": "stream",
     "text": [
      "/var/folders/4h/zm_bwfv11ql5dx0d71rhbxqc0000gn/T/ipykernel_46878/2356110029.py:20: FutureWarning: The frame.append method is deprecated and will be removed from pandas in a future version. Use pandas.concat instead.\n",
      "  target_weibos = target_weibos.append(new_row, ignore_index=True)\n"
     ]
    },
    {
     "name": "stdout",
     "output_type": "stream",
     "text": [
      "http://t.cn/A6lvQ1K2\n"
     ]
    },
    {
     "name": "stderr",
     "output_type": "stream",
     "text": [
      "/var/folders/4h/zm_bwfv11ql5dx0d71rhbxqc0000gn/T/ipykernel_46878/2356110029.py:23: FutureWarning: The frame.append method is deprecated and will be removed from pandas in a future version. Use pandas.concat instead.\n",
      "  target_weibos = target_weibos.append(new_row, ignore_index=True)\n"
     ]
    },
    {
     "name": "stdout",
     "output_type": "stream",
     "text": [
      "http://t.cn/A6l72sQJ\n"
     ]
    },
    {
     "name": "stderr",
     "output_type": "stream",
     "text": [
      "/var/folders/4h/zm_bwfv11ql5dx0d71rhbxqc0000gn/T/ipykernel_46878/2356110029.py:23: FutureWarning: The frame.append method is deprecated and will be removed from pandas in a future version. Use pandas.concat instead.\n",
      "  target_weibos = target_weibos.append(new_row, ignore_index=True)\n"
     ]
    },
    {
     "name": "stdout",
     "output_type": "stream",
     "text": [
      "http://t.cn/A6lhRQll\n"
     ]
    },
    {
     "name": "stderr",
     "output_type": "stream",
     "text": [
      "/var/folders/4h/zm_bwfv11ql5dx0d71rhbxqc0000gn/T/ipykernel_46878/2356110029.py:27: FutureWarning: The frame.append method is deprecated and will be removed from pandas in a future version. Use pandas.concat instead.\n",
      "  target_weibos = target_weibos.append(new_row, ignore_index=True)\n"
     ]
    },
    {
     "name": "stdout",
     "output_type": "stream",
     "text": [
      "http://t.cn/A6lEFT4r\n"
     ]
    },
    {
     "name": "stderr",
     "output_type": "stream",
     "text": [
      "/var/folders/4h/zm_bwfv11ql5dx0d71rhbxqc0000gn/T/ipykernel_46878/2356110029.py:23: FutureWarning: The frame.append method is deprecated and will be removed from pandas in a future version. Use pandas.concat instead.\n",
      "  target_weibos = target_weibos.append(new_row, ignore_index=True)\n"
     ]
    },
    {
     "name": "stdout",
     "output_type": "stream",
     "text": [
      "http://t.cn/A6lElo3r\n"
     ]
    },
    {
     "name": "stderr",
     "output_type": "stream",
     "text": [
      "/var/folders/4h/zm_bwfv11ql5dx0d71rhbxqc0000gn/T/ipykernel_46878/2356110029.py:23: FutureWarning: The frame.append method is deprecated and will be removed from pandas in a future version. Use pandas.concat instead.\n",
      "  target_weibos = target_weibos.append(new_row, ignore_index=True)\n"
     ]
    },
    {
     "name": "stdout",
     "output_type": "stream",
     "text": [
      "http://t.cn/A6NY0VIZ\n"
     ]
    },
    {
     "name": "stderr",
     "output_type": "stream",
     "text": [
      "/var/folders/4h/zm_bwfv11ql5dx0d71rhbxqc0000gn/T/ipykernel_46878/2356110029.py:23: FutureWarning: The frame.append method is deprecated and will be removed from pandas in a future version. Use pandas.concat instead.\n",
      "  target_weibos = target_weibos.append(new_row, ignore_index=True)\n"
     ]
    },
    {
     "name": "stdout",
     "output_type": "stream",
     "text": [
      "http://t.cn/A6lhgeSC\n"
     ]
    },
    {
     "name": "stderr",
     "output_type": "stream",
     "text": [
      "/var/folders/4h/zm_bwfv11ql5dx0d71rhbxqc0000gn/T/ipykernel_46878/2356110029.py:23: FutureWarning: The frame.append method is deprecated and will be removed from pandas in a future version. Use pandas.concat instead.\n",
      "  target_weibos = target_weibos.append(new_row, ignore_index=True)\n"
     ]
    },
    {
     "name": "stdout",
     "output_type": "stream",
     "text": [
      "http://t.cn/A6lP4HPu\n"
     ]
    },
    {
     "name": "stderr",
     "output_type": "stream",
     "text": [
      "/var/folders/4h/zm_bwfv11ql5dx0d71rhbxqc0000gn/T/ipykernel_46878/2356110029.py:23: FutureWarning: The frame.append method is deprecated and will be removed from pandas in a future version. Use pandas.concat instead.\n",
      "  target_weibos = target_weibos.append(new_row, ignore_index=True)\n"
     ]
    },
    {
     "name": "stdout",
     "output_type": "stream",
     "text": [
      "http://t.cn/A6l72lah\n"
     ]
    },
    {
     "name": "stderr",
     "output_type": "stream",
     "text": [
      "/var/folders/4h/zm_bwfv11ql5dx0d71rhbxqc0000gn/T/ipykernel_46878/2356110029.py:23: FutureWarning: The frame.append method is deprecated and will be removed from pandas in a future version. Use pandas.concat instead.\n",
      "  target_weibos = target_weibos.append(new_row, ignore_index=True)\n"
     ]
    },
    {
     "name": "stdout",
     "output_type": "stream",
     "text": [
      "http://t.cn/A6lhfytZ\n"
     ]
    },
    {
     "name": "stderr",
     "output_type": "stream",
     "text": [
      "/var/folders/4h/zm_bwfv11ql5dx0d71rhbxqc0000gn/T/ipykernel_46878/2356110029.py:23: FutureWarning: The frame.append method is deprecated and will be removed from pandas in a future version. Use pandas.concat instead.\n",
      "  target_weibos = target_weibos.append(new_row, ignore_index=True)\n"
     ]
    },
    {
     "name": "stdout",
     "output_type": "stream",
     "text": [
      "http://t.cn/A6lhPxk9\n"
     ]
    },
    {
     "name": "stderr",
     "output_type": "stream",
     "text": [
      "/var/folders/4h/zm_bwfv11ql5dx0d71rhbxqc0000gn/T/ipykernel_46878/2356110029.py:23: FutureWarning: The frame.append method is deprecated and will be removed from pandas in a future version. Use pandas.concat instead.\n",
      "  target_weibos = target_weibos.append(new_row, ignore_index=True)\n"
     ]
    },
    {
     "name": "stdout",
     "output_type": "stream",
     "text": [
      "http://t.cn/A6lhxfwq\n"
     ]
    },
    {
     "name": "stderr",
     "output_type": "stream",
     "text": [
      "/var/folders/4h/zm_bwfv11ql5dx0d71rhbxqc0000gn/T/ipykernel_46878/2356110029.py:20: FutureWarning: The frame.append method is deprecated and will be removed from pandas in a future version. Use pandas.concat instead.\n",
      "  target_weibos = target_weibos.append(new_row, ignore_index=True)\n"
     ]
    },
    {
     "name": "stdout",
     "output_type": "stream",
     "text": [
      "http://t.cn/A6lh2Hgn\n"
     ]
    },
    {
     "name": "stderr",
     "output_type": "stream",
     "text": [
      "/var/folders/4h/zm_bwfv11ql5dx0d71rhbxqc0000gn/T/ipykernel_46878/2356110029.py:27: FutureWarning: The frame.append method is deprecated and will be removed from pandas in a future version. Use pandas.concat instead.\n",
      "  target_weibos = target_weibos.append(new_row, ignore_index=True)\n"
     ]
    },
    {
     "name": "stdout",
     "output_type": "stream",
     "text": [
      "http://t.cn/A6lhcju3\n"
     ]
    },
    {
     "name": "stderr",
     "output_type": "stream",
     "text": [
      "/var/folders/4h/zm_bwfv11ql5dx0d71rhbxqc0000gn/T/ipykernel_46878/2356110029.py:27: FutureWarning: The frame.append method is deprecated and will be removed from pandas in a future version. Use pandas.concat instead.\n",
      "  target_weibos = target_weibos.append(new_row, ignore_index=True)\n"
     ]
    },
    {
     "name": "stdout",
     "output_type": "stream",
     "text": [
      "http://t.cn/A6lPF8TB\n"
     ]
    },
    {
     "name": "stderr",
     "output_type": "stream",
     "text": [
      "/var/folders/4h/zm_bwfv11ql5dx0d71rhbxqc0000gn/T/ipykernel_46878/2356110029.py:20: FutureWarning: The frame.append method is deprecated and will be removed from pandas in a future version. Use pandas.concat instead.\n",
      "  target_weibos = target_weibos.append(new_row, ignore_index=True)\n"
     ]
    },
    {
     "name": "stdout",
     "output_type": "stream",
     "text": [
      "http://t.cn/A6lvDHa1\n"
     ]
    },
    {
     "name": "stderr",
     "output_type": "stream",
     "text": [
      "/var/folders/4h/zm_bwfv11ql5dx0d71rhbxqc0000gn/T/ipykernel_46878/2356110029.py:23: FutureWarning: The frame.append method is deprecated and will be removed from pandas in a future version. Use pandas.concat instead.\n",
      "  target_weibos = target_weibos.append(new_row, ignore_index=True)\n"
     ]
    },
    {
     "name": "stdout",
     "output_type": "stream",
     "text": [
      "http://t.cn/A6lhL4Sh\n"
     ]
    },
    {
     "name": "stderr",
     "output_type": "stream",
     "text": [
      "/var/folders/4h/zm_bwfv11ql5dx0d71rhbxqc0000gn/T/ipykernel_46878/2356110029.py:27: FutureWarning: The frame.append method is deprecated and will be removed from pandas in a future version. Use pandas.concat instead.\n",
      "  target_weibos = target_weibos.append(new_row, ignore_index=True)\n"
     ]
    },
    {
     "name": "stdout",
     "output_type": "stream",
     "text": [
      "http://t.cn/A6lh78Vz\n"
     ]
    },
    {
     "name": "stderr",
     "output_type": "stream",
     "text": [
      "/var/folders/4h/zm_bwfv11ql5dx0d71rhbxqc0000gn/T/ipykernel_46878/2356110029.py:27: FutureWarning: The frame.append method is deprecated and will be removed from pandas in a future version. Use pandas.concat instead.\n",
      "  target_weibos = target_weibos.append(new_row, ignore_index=True)\n"
     ]
    },
    {
     "name": "stdout",
     "output_type": "stream",
     "text": [
      "http://t.cn/A6lPjjnI\n"
     ]
    },
    {
     "name": "stderr",
     "output_type": "stream",
     "text": [
      "/var/folders/4h/zm_bwfv11ql5dx0d71rhbxqc0000gn/T/ipykernel_46878/2356110029.py:23: FutureWarning: The frame.append method is deprecated and will be removed from pandas in a future version. Use pandas.concat instead.\n",
      "  target_weibos = target_weibos.append(new_row, ignore_index=True)\n"
     ]
    },
    {
     "name": "stdout",
     "output_type": "stream",
     "text": [
      "http://t.cn/A6lhUolx\n"
     ]
    },
    {
     "name": "stderr",
     "output_type": "stream",
     "text": [
      "/var/folders/4h/zm_bwfv11ql5dx0d71rhbxqc0000gn/T/ipykernel_46878/2356110029.py:27: FutureWarning: The frame.append method is deprecated and will be removed from pandas in a future version. Use pandas.concat instead.\n",
      "  target_weibos = target_weibos.append(new_row, ignore_index=True)\n"
     ]
    },
    {
     "name": "stdout",
     "output_type": "stream",
     "text": [
      "http://t.cn/A6CmZ93R\n"
     ]
    },
    {
     "name": "stderr",
     "output_type": "stream",
     "text": [
      "/var/folders/4h/zm_bwfv11ql5dx0d71rhbxqc0000gn/T/ipykernel_46878/2356110029.py:23: FutureWarning: The frame.append method is deprecated and will be removed from pandas in a future version. Use pandas.concat instead.\n",
      "  target_weibos = target_weibos.append(new_row, ignore_index=True)\n"
     ]
    },
    {
     "name": "stdout",
     "output_type": "stream",
     "text": [
      "http://t.cn/A6lhtVUh\n"
     ]
    },
    {
     "name": "stderr",
     "output_type": "stream",
     "text": [
      "/var/folders/4h/zm_bwfv11ql5dx0d71rhbxqc0000gn/T/ipykernel_46878/2356110029.py:27: FutureWarning: The frame.append method is deprecated and will be removed from pandas in a future version. Use pandas.concat instead.\n",
      "  target_weibos = target_weibos.append(new_row, ignore_index=True)\n"
     ]
    },
    {
     "name": "stdout",
     "output_type": "stream",
     "text": [
      "http://t.cn/A6lhEDfM\n"
     ]
    },
    {
     "name": "stderr",
     "output_type": "stream",
     "text": [
      "/var/folders/4h/zm_bwfv11ql5dx0d71rhbxqc0000gn/T/ipykernel_46878/2356110029.py:23: FutureWarning: The frame.append method is deprecated and will be removed from pandas in a future version. Use pandas.concat instead.\n",
      "  target_weibos = target_weibos.append(new_row, ignore_index=True)\n"
     ]
    },
    {
     "name": "stdout",
     "output_type": "stream",
     "text": [
      "http://t.cn/A6lh82OR\n"
     ]
    },
    {
     "name": "stderr",
     "output_type": "stream",
     "text": [
      "/var/folders/4h/zm_bwfv11ql5dx0d71rhbxqc0000gn/T/ipykernel_46878/2356110029.py:23: FutureWarning: The frame.append method is deprecated and will be removed from pandas in a future version. Use pandas.concat instead.\n",
      "  target_weibos = target_weibos.append(new_row, ignore_index=True)\n"
     ]
    },
    {
     "name": "stdout",
     "output_type": "stream",
     "text": [
      "http://t.cn/A6lhxSle\n"
     ]
    },
    {
     "name": "stderr",
     "output_type": "stream",
     "text": [
      "/var/folders/4h/zm_bwfv11ql5dx0d71rhbxqc0000gn/T/ipykernel_46878/2356110029.py:27: FutureWarning: The frame.append method is deprecated and will be removed from pandas in a future version. Use pandas.concat instead.\n",
      "  target_weibos = target_weibos.append(new_row, ignore_index=True)\n"
     ]
    },
    {
     "name": "stdout",
     "output_type": "stream",
     "text": [
      "http://t.cn/A6lPSXD6\n"
     ]
    },
    {
     "name": "stderr",
     "output_type": "stream",
     "text": [
      "/var/folders/4h/zm_bwfv11ql5dx0d71rhbxqc0000gn/T/ipykernel_46878/2356110029.py:27: FutureWarning: The frame.append method is deprecated and will be removed from pandas in a future version. Use pandas.concat instead.\n",
      "  target_weibos = target_weibos.append(new_row, ignore_index=True)\n"
     ]
    },
    {
     "name": "stdout",
     "output_type": "stream",
     "text": [
      "http://t.cn/A6lhP9pb\n"
     ]
    },
    {
     "name": "stderr",
     "output_type": "stream",
     "text": [
      "/var/folders/4h/zm_bwfv11ql5dx0d71rhbxqc0000gn/T/ipykernel_46878/2356110029.py:27: FutureWarning: The frame.append method is deprecated and will be removed from pandas in a future version. Use pandas.concat instead.\n",
      "  target_weibos = target_weibos.append(new_row, ignore_index=True)\n"
     ]
    },
    {
     "name": "stdout",
     "output_type": "stream",
     "text": [
      "http://t.cn/A6WmTDeC\n"
     ]
    },
    {
     "name": "stderr",
     "output_type": "stream",
     "text": [
      "/var/folders/4h/zm_bwfv11ql5dx0d71rhbxqc0000gn/T/ipykernel_46878/2356110029.py:23: FutureWarning: The frame.append method is deprecated and will be removed from pandas in a future version. Use pandas.concat instead.\n",
      "  target_weibos = target_weibos.append(new_row, ignore_index=True)\n"
     ]
    },
    {
     "name": "stdout",
     "output_type": "stream",
     "text": [
      "http://t.cn/A6WFApT6\n"
     ]
    },
    {
     "name": "stderr",
     "output_type": "stream",
     "text": [
      "/var/folders/4h/zm_bwfv11ql5dx0d71rhbxqc0000gn/T/ipykernel_46878/2356110029.py:23: FutureWarning: The frame.append method is deprecated and will be removed from pandas in a future version. Use pandas.concat instead.\n",
      "  target_weibos = target_weibos.append(new_row, ignore_index=True)\n"
     ]
    },
    {
     "name": "stdout",
     "output_type": "stream",
     "text": [
      "http://t.cn/A6lhLXMs\n"
     ]
    },
    {
     "name": "stderr",
     "output_type": "stream",
     "text": [
      "/var/folders/4h/zm_bwfv11ql5dx0d71rhbxqc0000gn/T/ipykernel_46878/2356110029.py:27: FutureWarning: The frame.append method is deprecated and will be removed from pandas in a future version. Use pandas.concat instead.\n",
      "  target_weibos = target_weibos.append(new_row, ignore_index=True)\n"
     ]
    },
    {
     "name": "stdout",
     "output_type": "stream",
     "text": [
      "http://t.cn/A6lh7Jwv\n"
     ]
    },
    {
     "name": "stderr",
     "output_type": "stream",
     "text": [
      "/var/folders/4h/zm_bwfv11ql5dx0d71rhbxqc0000gn/T/ipykernel_46878/2356110029.py:23: FutureWarning: The frame.append method is deprecated and will be removed from pandas in a future version. Use pandas.concat instead.\n",
      "  target_weibos = target_weibos.append(new_row, ignore_index=True)\n"
     ]
    },
    {
     "name": "stdout",
     "output_type": "stream",
     "text": [
      "http://t.cn/A6Ws4IEl\n"
     ]
    },
    {
     "name": "stderr",
     "output_type": "stream",
     "text": [
      "/var/folders/4h/zm_bwfv11ql5dx0d71rhbxqc0000gn/T/ipykernel_46878/2356110029.py:23: FutureWarning: The frame.append method is deprecated and will be removed from pandas in a future version. Use pandas.concat instead.\n",
      "  target_weibos = target_weibos.append(new_row, ignore_index=True)\n"
     ]
    },
    {
     "name": "stdout",
     "output_type": "stream",
     "text": [
      "http://t.cn/A6lhymn4\n"
     ]
    },
    {
     "name": "stderr",
     "output_type": "stream",
     "text": [
      "/var/folders/4h/zm_bwfv11ql5dx0d71rhbxqc0000gn/T/ipykernel_46878/2356110029.py:23: FutureWarning: The frame.append method is deprecated and will be removed from pandas in a future version. Use pandas.concat instead.\n",
      "  target_weibos = target_weibos.append(new_row, ignore_index=True)\n"
     ]
    },
    {
     "name": "stdout",
     "output_type": "stream",
     "text": [
      "http://t.cn/A6lPaYC4\n"
     ]
    },
    {
     "name": "stderr",
     "output_type": "stream",
     "text": [
      "/var/folders/4h/zm_bwfv11ql5dx0d71rhbxqc0000gn/T/ipykernel_46878/2356110029.py:20: FutureWarning: The frame.append method is deprecated and will be removed from pandas in a future version. Use pandas.concat instead.\n",
      "  target_weibos = target_weibos.append(new_row, ignore_index=True)\n"
     ]
    },
    {
     "name": "stdout",
     "output_type": "stream",
     "text": [
      "http://t.cn/A6lhOvlI\n"
     ]
    },
    {
     "name": "stderr",
     "output_type": "stream",
     "text": [
      "/var/folders/4h/zm_bwfv11ql5dx0d71rhbxqc0000gn/T/ipykernel_46878/2356110029.py:27: FutureWarning: The frame.append method is deprecated and will be removed from pandas in a future version. Use pandas.concat instead.\n",
      "  target_weibos = target_weibos.append(new_row, ignore_index=True)\n"
     ]
    },
    {
     "name": "stdout",
     "output_type": "stream",
     "text": [
      "http://t.cn/A6lln156\n"
     ]
    },
    {
     "name": "stderr",
     "output_type": "stream",
     "text": [
      "/var/folders/4h/zm_bwfv11ql5dx0d71rhbxqc0000gn/T/ipykernel_46878/2356110029.py:23: FutureWarning: The frame.append method is deprecated and will be removed from pandas in a future version. Use pandas.concat instead.\n",
      "  target_weibos = target_weibos.append(new_row, ignore_index=True)\n"
     ]
    },
    {
     "name": "stdout",
     "output_type": "stream",
     "text": [
      "http://t.cn/A6lvx39E\n"
     ]
    },
    {
     "name": "stderr",
     "output_type": "stream",
     "text": [
      "/var/folders/4h/zm_bwfv11ql5dx0d71rhbxqc0000gn/T/ipykernel_46878/2356110029.py:23: FutureWarning: The frame.append method is deprecated and will be removed from pandas in a future version. Use pandas.concat instead.\n",
      "  target_weibos = target_weibos.append(new_row, ignore_index=True)\n"
     ]
    },
    {
     "name": "stdout",
     "output_type": "stream",
     "text": [
      "http://t.cn/A6lP8QqI\n"
     ]
    },
    {
     "name": "stderr",
     "output_type": "stream",
     "text": [
      "/var/folders/4h/zm_bwfv11ql5dx0d71rhbxqc0000gn/T/ipykernel_46878/2356110029.py:27: FutureWarning: The frame.append method is deprecated and will be removed from pandas in a future version. Use pandas.concat instead.\n",
      "  target_weibos = target_weibos.append(new_row, ignore_index=True)\n"
     ]
    },
    {
     "name": "stdout",
     "output_type": "stream",
     "text": [
      "http://t.cn/A6lvjkuh\n"
     ]
    },
    {
     "name": "stderr",
     "output_type": "stream",
     "text": [
      "/var/folders/4h/zm_bwfv11ql5dx0d71rhbxqc0000gn/T/ipykernel_46878/2356110029.py:23: FutureWarning: The frame.append method is deprecated and will be removed from pandas in a future version. Use pandas.concat instead.\n",
      "  target_weibos = target_weibos.append(new_row, ignore_index=True)\n"
     ]
    },
    {
     "name": "stdout",
     "output_type": "stream",
     "text": [
      "http://t.cn/A6lhFNPK\n"
     ]
    },
    {
     "name": "stderr",
     "output_type": "stream",
     "text": [
      "/var/folders/4h/zm_bwfv11ql5dx0d71rhbxqc0000gn/T/ipykernel_46878/2356110029.py:23: FutureWarning: The frame.append method is deprecated and will be removed from pandas in a future version. Use pandas.concat instead.\n",
      "  target_weibos = target_weibos.append(new_row, ignore_index=True)\n"
     ]
    },
    {
     "name": "stdout",
     "output_type": "stream",
     "text": [
      "http://t.cn/A6lh86bh\n"
     ]
    },
    {
     "name": "stderr",
     "output_type": "stream",
     "text": [
      "/var/folders/4h/zm_bwfv11ql5dx0d71rhbxqc0000gn/T/ipykernel_46878/2356110029.py:27: FutureWarning: The frame.append method is deprecated and will be removed from pandas in a future version. Use pandas.concat instead.\n",
      "  target_weibos = target_weibos.append(new_row, ignore_index=True)\n"
     ]
    },
    {
     "name": "stdout",
     "output_type": "stream",
     "text": [
      "http://t.cn/A6lPl7IO\n"
     ]
    },
    {
     "name": "stderr",
     "output_type": "stream",
     "text": [
      "/var/folders/4h/zm_bwfv11ql5dx0d71rhbxqc0000gn/T/ipykernel_46878/2356110029.py:23: FutureWarning: The frame.append method is deprecated and will be removed from pandas in a future version. Use pandas.concat instead.\n",
      "  target_weibos = target_weibos.append(new_row, ignore_index=True)\n"
     ]
    },
    {
     "name": "stdout",
     "output_type": "stream",
     "text": [
      "http://t.cn/A6lhLeR0\n"
     ]
    },
    {
     "name": "stderr",
     "output_type": "stream",
     "text": [
      "/var/folders/4h/zm_bwfv11ql5dx0d71rhbxqc0000gn/T/ipykernel_46878/2356110029.py:23: FutureWarning: The frame.append method is deprecated and will be removed from pandas in a future version. Use pandas.concat instead.\n",
      "  target_weibos = target_weibos.append(new_row, ignore_index=True)\n"
     ]
    },
    {
     "name": "stdout",
     "output_type": "stream",
     "text": [
      "http://t.cn/A6lvHwgc\n"
     ]
    },
    {
     "name": "stderr",
     "output_type": "stream",
     "text": [
      "/var/folders/4h/zm_bwfv11ql5dx0d71rhbxqc0000gn/T/ipykernel_46878/2356110029.py:23: FutureWarning: The frame.append method is deprecated and will be removed from pandas in a future version. Use pandas.concat instead.\n",
      "  target_weibos = target_weibos.append(new_row, ignore_index=True)\n"
     ]
    },
    {
     "name": "stdout",
     "output_type": "stream",
     "text": [
      "http://t.cn/A6lEGQmc\n"
     ]
    },
    {
     "name": "stderr",
     "output_type": "stream",
     "text": [
      "/var/folders/4h/zm_bwfv11ql5dx0d71rhbxqc0000gn/T/ipykernel_46878/2356110029.py:23: FutureWarning: The frame.append method is deprecated and will be removed from pandas in a future version. Use pandas.concat instead.\n",
      "  target_weibos = target_weibos.append(new_row, ignore_index=True)\n"
     ]
    },
    {
     "name": "stdout",
     "output_type": "stream",
     "text": [
      "http://t.cn/A6lnhuAR\n"
     ]
    },
    {
     "name": "stderr",
     "output_type": "stream",
     "text": [
      "/var/folders/4h/zm_bwfv11ql5dx0d71rhbxqc0000gn/T/ipykernel_46878/2356110029.py:27: FutureWarning: The frame.append method is deprecated and will be removed from pandas in a future version. Use pandas.concat instead.\n",
      "  target_weibos = target_weibos.append(new_row, ignore_index=True)\n"
     ]
    },
    {
     "name": "stdout",
     "output_type": "stream",
     "text": [
      "http://t.cn/A6lPRnuB\n"
     ]
    },
    {
     "name": "stderr",
     "output_type": "stream",
     "text": [
      "/var/folders/4h/zm_bwfv11ql5dx0d71rhbxqc0000gn/T/ipykernel_46878/2356110029.py:23: FutureWarning: The frame.append method is deprecated and will be removed from pandas in a future version. Use pandas.concat instead.\n",
      "  target_weibos = target_weibos.append(new_row, ignore_index=True)\n"
     ]
    },
    {
     "name": "stdout",
     "output_type": "stream",
     "text": [
      "http://t.cn/A6lhcbAf\n"
     ]
    },
    {
     "name": "stderr",
     "output_type": "stream",
     "text": [
      "/var/folders/4h/zm_bwfv11ql5dx0d71rhbxqc0000gn/T/ipykernel_46878/2356110029.py:27: FutureWarning: The frame.append method is deprecated and will be removed from pandas in a future version. Use pandas.concat instead.\n",
      "  target_weibos = target_weibos.append(new_row, ignore_index=True)\n"
     ]
    },
    {
     "name": "stdout",
     "output_type": "stream",
     "text": [
      "http://t.cn/A6lPWao0\n"
     ]
    },
    {
     "name": "stderr",
     "output_type": "stream",
     "text": [
      "/var/folders/4h/zm_bwfv11ql5dx0d71rhbxqc0000gn/T/ipykernel_46878/2356110029.py:27: FutureWarning: The frame.append method is deprecated and will be removed from pandas in a future version. Use pandas.concat instead.\n",
      "  target_weibos = target_weibos.append(new_row, ignore_index=True)\n"
     ]
    },
    {
     "name": "stdout",
     "output_type": "stream",
     "text": [
      "http://t.cn/A6lhGABC\n"
     ]
    },
    {
     "name": "stderr",
     "output_type": "stream",
     "text": [
      "/var/folders/4h/zm_bwfv11ql5dx0d71rhbxqc0000gn/T/ipykernel_46878/2356110029.py:23: FutureWarning: The frame.append method is deprecated and will be removed from pandas in a future version. Use pandas.concat instead.\n",
      "  target_weibos = target_weibos.append(new_row, ignore_index=True)\n"
     ]
    },
    {
     "name": "stdout",
     "output_type": "stream",
     "text": [
      "http://t.cn/A6lnxija\n"
     ]
    },
    {
     "name": "stderr",
     "output_type": "stream",
     "text": [
      "/var/folders/4h/zm_bwfv11ql5dx0d71rhbxqc0000gn/T/ipykernel_46878/2356110029.py:23: FutureWarning: The frame.append method is deprecated and will be removed from pandas in a future version. Use pandas.concat instead.\n",
      "  target_weibos = target_weibos.append(new_row, ignore_index=True)\n"
     ]
    },
    {
     "name": "stdout",
     "output_type": "stream",
     "text": [
      "http://t.cn/A6lh8KDK\n"
     ]
    },
    {
     "name": "stderr",
     "output_type": "stream",
     "text": [
      "/var/folders/4h/zm_bwfv11ql5dx0d71rhbxqc0000gn/T/ipykernel_46878/2356110029.py:23: FutureWarning: The frame.append method is deprecated and will be removed from pandas in a future version. Use pandas.concat instead.\n",
      "  target_weibos = target_weibos.append(new_row, ignore_index=True)\n"
     ]
    },
    {
     "name": "stdout",
     "output_type": "stream",
     "text": [
      "http://t.cn/A6Wsqse2\n"
     ]
    },
    {
     "name": "stderr",
     "output_type": "stream",
     "text": [
      "/var/folders/4h/zm_bwfv11ql5dx0d71rhbxqc0000gn/T/ipykernel_46878/2356110029.py:23: FutureWarning: The frame.append method is deprecated and will be removed from pandas in a future version. Use pandas.concat instead.\n",
      "  target_weibos = target_weibos.append(new_row, ignore_index=True)\n"
     ]
    },
    {
     "name": "stdout",
     "output_type": "stream",
     "text": [
      "http://t.cn/A6lPKTD0\n"
     ]
    },
    {
     "name": "stderr",
     "output_type": "stream",
     "text": [
      "/var/folders/4h/zm_bwfv11ql5dx0d71rhbxqc0000gn/T/ipykernel_46878/2356110029.py:23: FutureWarning: The frame.append method is deprecated and will be removed from pandas in a future version. Use pandas.concat instead.\n",
      "  target_weibos = target_weibos.append(new_row, ignore_index=True)\n"
     ]
    },
    {
     "name": "stdout",
     "output_type": "stream",
     "text": [
      "http://t.cn/A6lPX9T9\n"
     ]
    },
    {
     "name": "stderr",
     "output_type": "stream",
     "text": [
      "/var/folders/4h/zm_bwfv11ql5dx0d71rhbxqc0000gn/T/ipykernel_46878/2356110029.py:23: FutureWarning: The frame.append method is deprecated and will be removed from pandas in a future version. Use pandas.concat instead.\n",
      "  target_weibos = target_weibos.append(new_row, ignore_index=True)\n"
     ]
    },
    {
     "name": "stdout",
     "output_type": "stream",
     "text": [
      "http://t.cn/A6lQDR3I\n"
     ]
    },
    {
     "name": "stderr",
     "output_type": "stream",
     "text": [
      "/var/folders/4h/zm_bwfv11ql5dx0d71rhbxqc0000gn/T/ipykernel_46878/2356110029.py:23: FutureWarning: The frame.append method is deprecated and will be removed from pandas in a future version. Use pandas.concat instead.\n",
      "  target_weibos = target_weibos.append(new_row, ignore_index=True)\n"
     ]
    },
    {
     "name": "stdout",
     "output_type": "stream",
     "text": [
      "http://t.cn/A6lmACxd\n"
     ]
    },
    {
     "name": "stderr",
     "output_type": "stream",
     "text": [
      "/var/folders/4h/zm_bwfv11ql5dx0d71rhbxqc0000gn/T/ipykernel_46878/2356110029.py:23: FutureWarning: The frame.append method is deprecated and will be removed from pandas in a future version. Use pandas.concat instead.\n",
      "  target_weibos = target_weibos.append(new_row, ignore_index=True)\n"
     ]
    },
    {
     "name": "stdout",
     "output_type": "stream",
     "text": [
      "http://t.cn/A6l77K63\n"
     ]
    },
    {
     "name": "stderr",
     "output_type": "stream",
     "text": [
      "/var/folders/4h/zm_bwfv11ql5dx0d71rhbxqc0000gn/T/ipykernel_46878/2356110029.py:20: FutureWarning: The frame.append method is deprecated and will be removed from pandas in a future version. Use pandas.concat instead.\n",
      "  target_weibos = target_weibos.append(new_row, ignore_index=True)\n"
     ]
    },
    {
     "name": "stdout",
     "output_type": "stream",
     "text": [
      "http://t.cn/A6Ws2y2u\n"
     ]
    },
    {
     "name": "stderr",
     "output_type": "stream",
     "text": [
      "/var/folders/4h/zm_bwfv11ql5dx0d71rhbxqc0000gn/T/ipykernel_46878/2356110029.py:23: FutureWarning: The frame.append method is deprecated and will be removed from pandas in a future version. Use pandas.concat instead.\n",
      "  target_weibos = target_weibos.append(new_row, ignore_index=True)\n"
     ]
    },
    {
     "name": "stdout",
     "output_type": "stream",
     "text": [
      "http://t.cn/A6lhRc2k\n"
     ]
    },
    {
     "name": "stderr",
     "output_type": "stream",
     "text": [
      "/var/folders/4h/zm_bwfv11ql5dx0d71rhbxqc0000gn/T/ipykernel_46878/2356110029.py:23: FutureWarning: The frame.append method is deprecated and will be removed from pandas in a future version. Use pandas.concat instead.\n",
      "  target_weibos = target_weibos.append(new_row, ignore_index=True)\n"
     ]
    },
    {
     "name": "stdout",
     "output_type": "stream",
     "text": [
      "http://t.cn/A6lnkiKZ\n"
     ]
    },
    {
     "name": "stderr",
     "output_type": "stream",
     "text": [
      "/var/folders/4h/zm_bwfv11ql5dx0d71rhbxqc0000gn/T/ipykernel_46878/2356110029.py:23: FutureWarning: The frame.append method is deprecated and will be removed from pandas in a future version. Use pandas.concat instead.\n",
      "  target_weibos = target_weibos.append(new_row, ignore_index=True)\n"
     ]
    },
    {
     "name": "stdout",
     "output_type": "stream",
     "text": [
      "http://t.cn/A6lhnzYB\n"
     ]
    },
    {
     "name": "stderr",
     "output_type": "stream",
     "text": [
      "/var/folders/4h/zm_bwfv11ql5dx0d71rhbxqc0000gn/T/ipykernel_46878/2356110029.py:27: FutureWarning: The frame.append method is deprecated and will be removed from pandas in a future version. Use pandas.concat instead.\n",
      "  target_weibos = target_weibos.append(new_row, ignore_index=True)\n"
     ]
    },
    {
     "name": "stdout",
     "output_type": "stream",
     "text": [
      "http://t.cn/A6lPCtOU\n"
     ]
    },
    {
     "name": "stderr",
     "output_type": "stream",
     "text": [
      "/var/folders/4h/zm_bwfv11ql5dx0d71rhbxqc0000gn/T/ipykernel_46878/2356110029.py:23: FutureWarning: The frame.append method is deprecated and will be removed from pandas in a future version. Use pandas.concat instead.\n",
      "  target_weibos = target_weibos.append(new_row, ignore_index=True)\n"
     ]
    },
    {
     "name": "stdout",
     "output_type": "stream",
     "text": [
      "http://t.cn/A6lPgxr1\n"
     ]
    },
    {
     "name": "stderr",
     "output_type": "stream",
     "text": [
      "/var/folders/4h/zm_bwfv11ql5dx0d71rhbxqc0000gn/T/ipykernel_46878/2356110029.py:27: FutureWarning: The frame.append method is deprecated and will be removed from pandas in a future version. Use pandas.concat instead.\n",
      "  target_weibos = target_weibos.append(new_row, ignore_index=True)\n"
     ]
    },
    {
     "name": "stdout",
     "output_type": "stream",
     "text": [
      "http://t.cn/A6lE0kzi\n"
     ]
    },
    {
     "name": "stderr",
     "output_type": "stream",
     "text": [
      "/var/folders/4h/zm_bwfv11ql5dx0d71rhbxqc0000gn/T/ipykernel_46878/2356110029.py:20: FutureWarning: The frame.append method is deprecated and will be removed from pandas in a future version. Use pandas.concat instead.\n",
      "  target_weibos = target_weibos.append(new_row, ignore_index=True)\n"
     ]
    },
    {
     "name": "stdout",
     "output_type": "stream",
     "text": [
      "http://t.cn/A6lPAcZF\n"
     ]
    },
    {
     "name": "stderr",
     "output_type": "stream",
     "text": [
      "/var/folders/4h/zm_bwfv11ql5dx0d71rhbxqc0000gn/T/ipykernel_46878/2356110029.py:27: FutureWarning: The frame.append method is deprecated and will be removed from pandas in a future version. Use pandas.concat instead.\n",
      "  target_weibos = target_weibos.append(new_row, ignore_index=True)\n"
     ]
    },
    {
     "name": "stdout",
     "output_type": "stream",
     "text": [
      "http://t.cn/A6lPzwuN\n"
     ]
    },
    {
     "name": "stderr",
     "output_type": "stream",
     "text": [
      "/var/folders/4h/zm_bwfv11ql5dx0d71rhbxqc0000gn/T/ipykernel_46878/2356110029.py:27: FutureWarning: The frame.append method is deprecated and will be removed from pandas in a future version. Use pandas.concat instead.\n",
      "  target_weibos = target_weibos.append(new_row, ignore_index=True)\n"
     ]
    }
   ],
   "source": [
    "for i in range(len(CommunityNotes_targets)):\n",
    "    if CommunityNotes_targets[i].startswith('http://t.cn'):\n",
    "        driver.get(CommunityNotes_targets[i])\n",
    "        time.sleep(10)\n",
    "        print(CommunityNotes_targets[i])\n",
    "        soup = BeautifulSoup(driver.page_source, 'html.parser')\n",
    "        user=soup.find('a',{'class':'ALink_default_2ibt1 head_cut_2Zcft head_name_24eEB'})\n",
    "        if user:\n",
    "            user_id=user.get('usercard')\n",
    "            user_name=user.find('span').get_text()\n",
    "            post=soup.find('div',{'class':'detail_wbtext_4CRf9'})\n",
    "            post_time=soup.find('a',{'class':'head-info_time_6sFQg'}).get_text(strip=True)\n",
    "            notes=soup.find_all('div',{'class':'community-note-detail_item_2kRdt'})\n",
    "            if len(notes)!=0:\n",
    "                for note in notes:\n",
    "                    note_author=note.find('div',{'class':'community-note-detail_t11_14-ls community-note-detail_pointer_3Ro0s'}).get_text(strip=True)\n",
    "                    note_type=note.find('div',{'class':'community-note-detail_t12_2O51m'}).get_text(strip=True)\n",
    "                    note_content=note.find('div',{'class':'community-note-detail_t2_NIKuE community-note-detail_es_1U-kA community-note-detail_pointer_3Ro0s'}).get_text(strip=True)\n",
    "                    new_row = {'target':CommunityNotes_targets[i],'user_id':user_id,'user_name':user_name,'post_time':post_time,'post':post,'note_author':note_author,'note_type':note_type,'note_content':note_content}\n",
    "                    target_weibos = target_weibos.append(new_row, ignore_index=True)\n",
    "            else:\n",
    "                new_row = {'target':CommunityNotes_targets[i],'user_id':user_id,'user_name':user_name,'post_time':post_time,'post':post,'note_author':None,'note_type':None,'note_content':None}\n",
    "                target_weibos = target_weibos.append(new_row, ignore_index=True)\n",
    "\n",
    "        else:\n",
    "            new_row = {'target':CommunityNotes_targets[i],'user_id':None,'user_name':None,'post_time':None,'post':None,'note_author':None,'note_type':None,'note_content':None}\n",
    "            target_weibos = target_weibos.append(new_row, ignore_index=True)\n",
    "        target_weibos.to_csv(\"TargetWeibos.csv\",index=False)\n"
   ]
  },
  {
   "cell_type": "code",
   "execution_count": null,
   "metadata": {},
   "outputs": [],
   "source": []
  },
  {
   "cell_type": "code",
   "execution_count": null,
   "metadata": {},
   "outputs": [],
   "source": []
  },
  {
   "cell_type": "code",
   "execution_count": null,
   "metadata": {},
   "outputs": [],
   "source": []
  }
 ],
 "metadata": {
  "kernelspec": {
   "display_name": "Python 3 (ipykernel)",
   "language": "python",
   "name": "python3"
  },
  "language_info": {
   "codemirror_mode": {
    "name": "ipython",
    "version": 3
   },
   "file_extension": ".py",
   "mimetype": "text/x-python",
   "name": "python",
   "nbconvert_exporter": "python",
   "pygments_lexer": "ipython3",
   "version": "3.11.2"
  }
 },
 "nbformat": 4,
 "nbformat_minor": 2
}
