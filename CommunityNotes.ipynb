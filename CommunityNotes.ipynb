{
 "cells": [
  {
   "cell_type": "code",
   "execution_count": 21,
   "metadata": {},
   "outputs": [],
   "source": [
    "import pandas as pd\n",
    "from selenium import webdriver\n",
    "from selenium.webdriver.chrome.service import Service\n",
    "from bs4 import BeautifulSoup\n",
    "from selenium.webdriver.common.by import By\n",
    "import numpy as np\n",
    "import time\n",
    "\n",
    "# Specify the path to ChromeDriver\n",
    "chrome_driver_path ='chromedriver-mac-x64/chromedriver'\n",
    "url = 'https://s.weibo.com/weibo?q=%23%E5%BE%AE%E5%8D%9A%E9%99%84%E6%B3%A8%23&typeall=1&suball=1&timescope=custom'\n"
   ]
  },
  {
   "cell_type": "code",
   "execution_count": 25,
   "metadata": {},
   "outputs": [],
   "source": [
    "time_range=[('','2023-08-31'),('2023-09-01','2023-09-30'),('2023-10-01','2023-10-31')]\n",
    "sinceNov=np.arange('2023-11-01', '2023-12-01', dtype='datetime64[D]')\n",
    "for i in range(len(sinceNov)-1):\n",
    "    time_range.append((str(sinceNov[i]),str(sinceNov[i+1])))\n",
    "    \n",
    "#communitynotes=pd.DataFrame(columns=['post_id','post_link','user_name','user_link','time','target','post_content','like'])\n"
   ]
  },
  {
   "cell_type": "code",
   "execution_count": 55,
   "metadata": {},
   "outputs": [],
   "source": [
    "time_range=[]\n",
    "#sinceLast=np.arange('2023-12-01','2024-01-01', dtype='datetime64[D]')\n",
    "sinceLast=np.arange('2024-08-20','2024-09-01', dtype='datetime64[D]')\n",
    "\n",
    "for i in range(len(sinceLast)):\n",
    "    time_range.append(str(sinceLast[i]))\n",
    "    \n",
    "#communitynotes=pd.DataFrame(columns=['post_id','post_link','user_name','user_link','time','target','post_content','like'])\n",
    "\n",
    "communitynotes=pd.read_csv(\"CommunityNotes.csv\")\n"
   ]
  },
  {
   "cell_type": "code",
   "execution_count": 56,
   "metadata": {},
   "outputs": [],
   "source": [
    "from datetime import datetime,timedelta\n",
    "hourly_time_range=[]\n",
    "hours=list(range(24))\n",
    "for t in time_range:\n",
    "    i=0\n",
    "    while i<23:\n",
    "        hourly_time_range.append((t+'-'+str(hours[i]),t+'-'+str(hours[i+1])))\n",
    "        i+=1\n",
    "    if i==23:\n",
    "        next_day = (datetime.strptime(t, \"%Y-%m-%d\")+timedelta(days=1)).strftime(\"%Y-%m-%d\")\n",
    "        hourly_time_range.append((t+'-23',next_day+'-0'))"
   ]
  },
  {
   "cell_type": "code",
   "execution_count": 84,
   "metadata": {},
   "outputs": [],
   "source": [
    "service = Service(chrome_driver_path)\n",
    "driver = webdriver.Chrome(service=service)\n",
    "driver.get('https://weibo.com/newlogin')\n",
    "\n"
   ]
  },
  {
   "cell_type": "code",
   "execution_count": null,
   "metadata": {},
   "outputs": [],
   "source": []
  },
  {
   "cell_type": "code",
   "execution_count": 83,
   "metadata": {},
   "outputs": [
    {
     "data": {
      "text/plain": [
       "284"
      ]
     },
     "execution_count": 83,
     "metadata": {},
     "output_type": "execute_result"
    }
   ],
   "source": [
    "hourly_time_range.index(('2024-08-31-20', '2024-08-31-21'))"
   ]
  },
  {
   "cell_type": "code",
   "execution_count": 85,
   "metadata": {
    "scrolled": true
   },
   "outputs": [
    {
     "name": "stdout",
     "output_type": "stream",
     "text": [
      "https://s.weibo.com/weibo?q=%23%E5%BE%AE%E5%8D%9A%E9%99%84%E6%B3%A8%23&typeall=1&suball=1&timescope=custom%3A2024-08-31-20%3A2024-08-31-21\n"
     ]
    },
    {
     "name": "stderr",
     "output_type": "stream",
     "text": [
      "/var/folders/4h/zm_bwfv11ql5dx0d71rhbxqc0000gn/T/ipykernel_62820/2317484556.py:29: FutureWarning: The frame.append method is deprecated and will be removed from pandas in a future version. Use pandas.concat instead.\n",
      "  communitynotes = communitynotes.append(new_row, ignore_index=True)\n",
      "/var/folders/4h/zm_bwfv11ql5dx0d71rhbxqc0000gn/T/ipykernel_62820/2317484556.py:29: FutureWarning: The frame.append method is deprecated and will be removed from pandas in a future version. Use pandas.concat instead.\n",
      "  communitynotes = communitynotes.append(new_row, ignore_index=True)\n"
     ]
    },
    {
     "name": "stdout",
     "output_type": "stream",
     "text": [
      "https://s.weibo.com/weibo?q=%23%E5%BE%AE%E5%8D%9A%E9%99%84%E6%B3%A8%23&typeall=1&suball=1&timescope=custom%3A2024-08-31-21%3A2024-08-31-22\n"
     ]
    },
    {
     "name": "stderr",
     "output_type": "stream",
     "text": [
      "/var/folders/4h/zm_bwfv11ql5dx0d71rhbxqc0000gn/T/ipykernel_62820/2317484556.py:29: FutureWarning: The frame.append method is deprecated and will be removed from pandas in a future version. Use pandas.concat instead.\n",
      "  communitynotes = communitynotes.append(new_row, ignore_index=True)\n"
     ]
    },
    {
     "name": "stdout",
     "output_type": "stream",
     "text": [
      "https://s.weibo.com/weibo?q=%23%E5%BE%AE%E5%8D%9A%E9%99%84%E6%B3%A8%23&typeall=1&suball=1&timescope=custom%3A2024-08-31-22%3A2024-08-31-23\n",
      "https://s.weibo.com/weibo?q=%23%E5%BE%AE%E5%8D%9A%E9%99%84%E6%B3%A8%23&typeall=1&suball=1&timescope=custom%3A2024-08-31-23%3A2024-09-01-0\n"
     ]
    },
    {
     "name": "stderr",
     "output_type": "stream",
     "text": [
      "/var/folders/4h/zm_bwfv11ql5dx0d71rhbxqc0000gn/T/ipykernel_62820/2317484556.py:29: FutureWarning: The frame.append method is deprecated and will be removed from pandas in a future version. Use pandas.concat instead.\n",
      "  communitynotes = communitynotes.append(new_row, ignore_index=True)\n",
      "/var/folders/4h/zm_bwfv11ql5dx0d71rhbxqc0000gn/T/ipykernel_62820/2317484556.py:29: FutureWarning: The frame.append method is deprecated and will be removed from pandas in a future version. Use pandas.concat instead.\n",
      "  communitynotes = communitynotes.append(new_row, ignore_index=True)\n"
     ]
    }
   ],
   "source": [
    "\n",
    "#for t in time_range:\n",
    "for ts in hourly_time_range[284:]:\n",
    "    #keyword_url=url+\"%3A\"+t+\"%3A\"+t\n",
    "    keyword_url=url+\"%3A\"+ts[0]+\"%3A\"+ts[1]\n",
    "    driver.get(keyword_url)\n",
    "    print(keyword_url)\n",
    "    page_count=1\n",
    "    finish=False\n",
    "    while finish==False:\n",
    "        html_content = driver.page_source\n",
    "        soup = BeautifulSoup(html_content, 'html.parser')\n",
    "        divs = soup.find_all(lambda tag: tag.name == 'div' and tag.get('action-type') == 'feed_list_item')\n",
    "        for div in divs:\n",
    "            a_tagname = div.find('a', {'class': 'name'})\n",
    "\n",
    "            user_name = a_tagname.get_text(strip=True)\n",
    "            user_link = a_tagname.get('href')\n",
    "\n",
    "            post_id=div.get('mid')\n",
    "            a_tagfrom=div.find('div', {'class': 'from'}).find('a')\n",
    "            date_time=a_tagfrom.get_text(strip=True)\n",
    "            post_link=a_tagfrom.get('href')\n",
    "            like=div.find('span',{'class':'woo-like-count'}).get_text()\n",
    "            post=div.find('p',{'node-type':'feed_list_content'}).decode_contents()\n",
    "            embedded=div.find('div',{'class':'content'}).find('div', {'class': 'media media-item-a'}, recursive=False)\n",
    "            if embedded:\n",
    "                target=embedded.find('a').get('href')\n",
    "                new_row = {'post_id':post_id,'post_link':post_link,'user_name':user_name,'user_link':user_link,'time':date_time,'target':target,'post_content':post,'like':like}\n",
    "                communitynotes = communitynotes.append(new_row, ignore_index=True)\n",
    "\n",
    "        communitynotes.to_csv(\"CommunityNotes.csv\",index=False)\n",
    "        time.sleep(10)\n",
    "        try:\n",
    "            next_page_button = driver.find_element(By.XPATH,  \"//a[@class='next']\")\n",
    "            next_page_button.click()\n",
    "            page_count+=1\n",
    "        except:\n",
    "            finish=True\n",
    "        if page_count>50:\n",
    "            finish=True\n",
    "        "
   ]
  },
  {
   "cell_type": "code",
   "execution_count": 72,
   "metadata": {},
   "outputs": [
    {
     "data": {
      "text/plain": [
       "'https://s.weibo.com/weibo?q=%23%E5%BE%AE%E5%8D%9A%E9%99%84%E6%B3%A8%23&typeall=1&suball=1&timescope=custom%3A2024-08-24-13%3A2024-08-24-14'"
      ]
     },
     "execution_count": 72,
     "metadata": {},
     "output_type": "execute_result"
    }
   ],
   "source": [
    "keyword_url"
   ]
  },
  {
   "cell_type": "code",
   "execution_count": 44,
   "metadata": {
    "scrolled": false
   },
   "outputs": [
    {
     "data": {
      "text/plain": [
       "(18973, 8)"
      ]
     },
     "execution_count": 44,
     "metadata": {},
     "output_type": "execute_result"
    }
   ],
   "source": [
    "communitynotes.drop_duplicates().shape"
   ]
  },
  {
   "cell_type": "code",
   "execution_count": 134,
   "metadata": {},
   "outputs": [],
   "source": [
    "communitynotes=pd.read_csv(\"CommunityNotes.csv\")"
   ]
  },
  {
   "cell_type": "code",
   "execution_count": 135,
   "metadata": {},
   "outputs": [],
   "source": [
    "communitynotes=communitynotes.drop_duplicates().sort_values('post_id').reset_index(drop=True)"
   ]
  },
  {
   "cell_type": "code",
   "execution_count": 138,
   "metadata": {},
   "outputs": [],
   "source": [
    "#communitynotes.to_csv(\"CommunityNotes.csv\",index=False)"
   ]
  },
  {
   "cell_type": "code",
   "execution_count": 122,
   "metadata": {},
   "outputs": [],
   "source": [
    "def get_month_date_time(dt):\n",
    "    month=dt[:2]\n",
    "    date=dt[3:5]\n",
    "    time=dt[-5:]\n",
    "    if month<='08':\n",
    "        return '2024-'+month+'-'+date+' '+time\n",
    "    else:\n",
    "        return '2023-'+month+'-'+date+' '+time\n",
    "\n",
    "def get_23thhour(dt):\n",
    "    hour=dt[-5:-3]\n",
    "    if hour=='23':\n",
    "        return True\n",
    "    else:\n",
    "        return False\n",
    "\n",
    "def only_day(dt):\n",
    "    return dt[:10]\n",
    "    \n",
    "communitynotes['datetime']=communitynotes['time'].apply(get_month_date_time)\n",
    "communitynotes['hour23']=communitynotes['time'].apply(get_23thhour)\n",
    "communitynotes['day']=communitynotes['datetime'].apply(only_day)"
   ]
  },
  {
   "cell_type": "code",
   "execution_count": 125,
   "metadata": {},
   "outputs": [
    {
     "data": {
      "text/plain": [
       "array(['2023-11-03', '2023-11-04', '2023-11-05', '2023-11-06',\n",
       "       '2023-11-07', '2023-11-08', '2023-11-09', '2023-11-10',\n",
       "       '2023-11-11', '2023-11-12', '2023-11-13', '2023-11-14',\n",
       "       '2023-11-15', '2023-11-16', '2023-11-17', '2023-11-18',\n",
       "       '2023-11-19', '2023-11-20', '2023-11-21', '2023-11-22',\n",
       "       '2023-11-23', '2023-11-24', '2023-11-25', '2023-11-26',\n",
       "       '2023-11-27', '2023-11-28', '2023-11-29', '2023-20-3年',\n",
       "       '2024-08-20', '2024-08-21', '2024-08-22', '2024-08-23',\n",
       "       '2024-08-24', '2024-08-26', '2024-08-27', '2024-08-28',\n",
       "       '2024-08-29', '2024-08-30', '2024-08-31'], dtype=object)"
      ]
     },
     "execution_count": 125,
     "metadata": {},
     "output_type": "execute_result"
    }
   ],
   "source": [
    "communitynotes[communitynotes.hour23==True].day.unique()"
   ]
  },
  {
   "cell_type": "code",
   "execution_count": null,
   "metadata": {},
   "outputs": [],
   "source": []
  },
  {
   "cell_type": "markdown",
   "metadata": {},
   "source": [
    "### need some re-collection to find the notes happened between 23:00 to 0:00"
   ]
  },
  {
   "cell_type": "code",
   "execution_count": 131,
   "metadata": {},
   "outputs": [],
   "source": [
    "\n",
    "time_range=[]\n",
    "#sinceLast=np.arange('2023-12-01','2024-01-01', dtype='datetime64[D]')\n",
    "sinceLast=np.arange('2024-06-08','2024-08-20', dtype='datetime64[D]')\n",
    "\n",
    "for i in range(len(sinceLast)):\n",
    "    time_range.append(str(sinceLast[i]))\n",
    "    \n",
    "#communitynotes=pd.DataFrame(columns=['post_id','post_link','user_name','user_link','time','target','post_content','like'])\n",
    "\n",
    "communitynotes=pd.read_csv(\"CommunityNotes.csv\")\n",
    "\n",
    "hourly_time_range=[]\n",
    "for t in time_range:\n",
    "    next_day = (datetime.strptime(t, \"%Y-%m-%d\")+timedelta(days=1)).strftime(\"%Y-%m-%d\")\n",
    "    hourly_time_range.append((t+'-23',next_day+'-0'))"
   ]
  },
  {
   "cell_type": "code",
   "execution_count": 132,
   "metadata": {},
   "outputs": [],
   "source": [
    "service = Service(chrome_driver_path)\n",
    "driver = webdriver.Chrome(service=service)\n",
    "driver.get('https://weibo.com/newlogin')"
   ]
  },
  {
   "cell_type": "code",
   "execution_count": 133,
   "metadata": {
    "scrolled": true
   },
   "outputs": [
    {
     "name": "stdout",
     "output_type": "stream",
     "text": [
      "https://s.weibo.com/weibo?q=%23%E5%BE%AE%E5%8D%9A%E9%99%84%E6%B3%A8%23&typeall=1&suball=1&timescope=custom%3A2024-06-08-23%3A2024-06-09-0\n"
     ]
    },
    {
     "name": "stderr",
     "output_type": "stream",
     "text": [
      "/var/folders/4h/zm_bwfv11ql5dx0d71rhbxqc0000gn/T/ipykernel_62820/549123605.py:29: FutureWarning: The frame.append method is deprecated and will be removed from pandas in a future version. Use pandas.concat instead.\n",
      "  communitynotes = communitynotes.append(new_row, ignore_index=True)\n",
      "/var/folders/4h/zm_bwfv11ql5dx0d71rhbxqc0000gn/T/ipykernel_62820/549123605.py:29: FutureWarning: The frame.append method is deprecated and will be removed from pandas in a future version. Use pandas.concat instead.\n",
      "  communitynotes = communitynotes.append(new_row, ignore_index=True)\n",
      "/var/folders/4h/zm_bwfv11ql5dx0d71rhbxqc0000gn/T/ipykernel_62820/549123605.py:29: FutureWarning: The frame.append method is deprecated and will be removed from pandas in a future version. Use pandas.concat instead.\n",
      "  communitynotes = communitynotes.append(new_row, ignore_index=True)\n"
     ]
    },
    {
     "name": "stdout",
     "output_type": "stream",
     "text": [
      "https://s.weibo.com/weibo?q=%23%E5%BE%AE%E5%8D%9A%E9%99%84%E6%B3%A8%23&typeall=1&suball=1&timescope=custom%3A2024-06-09-23%3A2024-06-10-0\n"
     ]
    },
    {
     "name": "stderr",
     "output_type": "stream",
     "text": [
      "/var/folders/4h/zm_bwfv11ql5dx0d71rhbxqc0000gn/T/ipykernel_62820/549123605.py:29: FutureWarning: The frame.append method is deprecated and will be removed from pandas in a future version. Use pandas.concat instead.\n",
      "  communitynotes = communitynotes.append(new_row, ignore_index=True)\n"
     ]
    },
    {
     "name": "stdout",
     "output_type": "stream",
     "text": [
      "https://s.weibo.com/weibo?q=%23%E5%BE%AE%E5%8D%9A%E9%99%84%E6%B3%A8%23&typeall=1&suball=1&timescope=custom%3A2024-06-10-23%3A2024-06-11-0\n"
     ]
    },
    {
     "name": "stderr",
     "output_type": "stream",
     "text": [
      "/var/folders/4h/zm_bwfv11ql5dx0d71rhbxqc0000gn/T/ipykernel_62820/549123605.py:29: FutureWarning: The frame.append method is deprecated and will be removed from pandas in a future version. Use pandas.concat instead.\n",
      "  communitynotes = communitynotes.append(new_row, ignore_index=True)\n",
      "/var/folders/4h/zm_bwfv11ql5dx0d71rhbxqc0000gn/T/ipykernel_62820/549123605.py:29: FutureWarning: The frame.append method is deprecated and will be removed from pandas in a future version. Use pandas.concat instead.\n",
      "  communitynotes = communitynotes.append(new_row, ignore_index=True)\n"
     ]
    },
    {
     "name": "stdout",
     "output_type": "stream",
     "text": [
      "https://s.weibo.com/weibo?q=%23%E5%BE%AE%E5%8D%9A%E9%99%84%E6%B3%A8%23&typeall=1&suball=1&timescope=custom%3A2024-06-11-23%3A2024-06-12-0\n"
     ]
    },
    {
     "name": "stderr",
     "output_type": "stream",
     "text": [
      "/var/folders/4h/zm_bwfv11ql5dx0d71rhbxqc0000gn/T/ipykernel_62820/549123605.py:29: FutureWarning: The frame.append method is deprecated and will be removed from pandas in a future version. Use pandas.concat instead.\n",
      "  communitynotes = communitynotes.append(new_row, ignore_index=True)\n"
     ]
    },
    {
     "name": "stdout",
     "output_type": "stream",
     "text": [
      "https://s.weibo.com/weibo?q=%23%E5%BE%AE%E5%8D%9A%E9%99%84%E6%B3%A8%23&typeall=1&suball=1&timescope=custom%3A2024-06-12-23%3A2024-06-13-0\n"
     ]
    },
    {
     "name": "stderr",
     "output_type": "stream",
     "text": [
      "/var/folders/4h/zm_bwfv11ql5dx0d71rhbxqc0000gn/T/ipykernel_62820/549123605.py:29: FutureWarning: The frame.append method is deprecated and will be removed from pandas in a future version. Use pandas.concat instead.\n",
      "  communitynotes = communitynotes.append(new_row, ignore_index=True)\n",
      "/var/folders/4h/zm_bwfv11ql5dx0d71rhbxqc0000gn/T/ipykernel_62820/549123605.py:29: FutureWarning: The frame.append method is deprecated and will be removed from pandas in a future version. Use pandas.concat instead.\n",
      "  communitynotes = communitynotes.append(new_row, ignore_index=True)\n",
      "/var/folders/4h/zm_bwfv11ql5dx0d71rhbxqc0000gn/T/ipykernel_62820/549123605.py:29: FutureWarning: The frame.append method is deprecated and will be removed from pandas in a future version. Use pandas.concat instead.\n",
      "  communitynotes = communitynotes.append(new_row, ignore_index=True)\n"
     ]
    },
    {
     "name": "stdout",
     "output_type": "stream",
     "text": [
      "https://s.weibo.com/weibo?q=%23%E5%BE%AE%E5%8D%9A%E9%99%84%E6%B3%A8%23&typeall=1&suball=1&timescope=custom%3A2024-06-13-23%3A2024-06-14-0\n"
     ]
    },
    {
     "name": "stderr",
     "output_type": "stream",
     "text": [
      "/var/folders/4h/zm_bwfv11ql5dx0d71rhbxqc0000gn/T/ipykernel_62820/549123605.py:29: FutureWarning: The frame.append method is deprecated and will be removed from pandas in a future version. Use pandas.concat instead.\n",
      "  communitynotes = communitynotes.append(new_row, ignore_index=True)\n"
     ]
    },
    {
     "name": "stdout",
     "output_type": "stream",
     "text": [
      "https://s.weibo.com/weibo?q=%23%E5%BE%AE%E5%8D%9A%E9%99%84%E6%B3%A8%23&typeall=1&suball=1&timescope=custom%3A2024-06-14-23%3A2024-06-15-0\n"
     ]
    },
    {
     "name": "stderr",
     "output_type": "stream",
     "text": [
      "/var/folders/4h/zm_bwfv11ql5dx0d71rhbxqc0000gn/T/ipykernel_62820/549123605.py:29: FutureWarning: The frame.append method is deprecated and will be removed from pandas in a future version. Use pandas.concat instead.\n",
      "  communitynotes = communitynotes.append(new_row, ignore_index=True)\n",
      "/var/folders/4h/zm_bwfv11ql5dx0d71rhbxqc0000gn/T/ipykernel_62820/549123605.py:29: FutureWarning: The frame.append method is deprecated and will be removed from pandas in a future version. Use pandas.concat instead.\n",
      "  communitynotes = communitynotes.append(new_row, ignore_index=True)\n"
     ]
    },
    {
     "name": "stdout",
     "output_type": "stream",
     "text": [
      "https://s.weibo.com/weibo?q=%23%E5%BE%AE%E5%8D%9A%E9%99%84%E6%B3%A8%23&typeall=1&suball=1&timescope=custom%3A2024-06-15-23%3A2024-06-16-0\n"
     ]
    },
    {
     "name": "stderr",
     "output_type": "stream",
     "text": [
      "/var/folders/4h/zm_bwfv11ql5dx0d71rhbxqc0000gn/T/ipykernel_62820/549123605.py:29: FutureWarning: The frame.append method is deprecated and will be removed from pandas in a future version. Use pandas.concat instead.\n",
      "  communitynotes = communitynotes.append(new_row, ignore_index=True)\n",
      "/var/folders/4h/zm_bwfv11ql5dx0d71rhbxqc0000gn/T/ipykernel_62820/549123605.py:29: FutureWarning: The frame.append method is deprecated and will be removed from pandas in a future version. Use pandas.concat instead.\n",
      "  communitynotes = communitynotes.append(new_row, ignore_index=True)\n",
      "/var/folders/4h/zm_bwfv11ql5dx0d71rhbxqc0000gn/T/ipykernel_62820/549123605.py:29: FutureWarning: The frame.append method is deprecated and will be removed from pandas in a future version. Use pandas.concat instead.\n",
      "  communitynotes = communitynotes.append(new_row, ignore_index=True)\n",
      "/var/folders/4h/zm_bwfv11ql5dx0d71rhbxqc0000gn/T/ipykernel_62820/549123605.py:29: FutureWarning: The frame.append method is deprecated and will be removed from pandas in a future version. Use pandas.concat instead.\n",
      "  communitynotes = communitynotes.append(new_row, ignore_index=True)\n"
     ]
    },
    {
     "name": "stdout",
     "output_type": "stream",
     "text": [
      "https://s.weibo.com/weibo?q=%23%E5%BE%AE%E5%8D%9A%E9%99%84%E6%B3%A8%23&typeall=1&suball=1&timescope=custom%3A2024-06-16-23%3A2024-06-17-0\n"
     ]
    },
    {
     "name": "stderr",
     "output_type": "stream",
     "text": [
      "/var/folders/4h/zm_bwfv11ql5dx0d71rhbxqc0000gn/T/ipykernel_62820/549123605.py:29: FutureWarning: The frame.append method is deprecated and will be removed from pandas in a future version. Use pandas.concat instead.\n",
      "  communitynotes = communitynotes.append(new_row, ignore_index=True)\n"
     ]
    },
    {
     "name": "stdout",
     "output_type": "stream",
     "text": [
      "https://s.weibo.com/weibo?q=%23%E5%BE%AE%E5%8D%9A%E9%99%84%E6%B3%A8%23&typeall=1&suball=1&timescope=custom%3A2024-06-17-23%3A2024-06-18-0\n",
      "https://s.weibo.com/weibo?q=%23%E5%BE%AE%E5%8D%9A%E9%99%84%E6%B3%A8%23&typeall=1&suball=1&timescope=custom%3A2024-06-18-23%3A2024-06-19-0\n"
     ]
    },
    {
     "name": "stderr",
     "output_type": "stream",
     "text": [
      "/var/folders/4h/zm_bwfv11ql5dx0d71rhbxqc0000gn/T/ipykernel_62820/549123605.py:29: FutureWarning: The frame.append method is deprecated and will be removed from pandas in a future version. Use pandas.concat instead.\n",
      "  communitynotes = communitynotes.append(new_row, ignore_index=True)\n",
      "/var/folders/4h/zm_bwfv11ql5dx0d71rhbxqc0000gn/T/ipykernel_62820/549123605.py:29: FutureWarning: The frame.append method is deprecated and will be removed from pandas in a future version. Use pandas.concat instead.\n",
      "  communitynotes = communitynotes.append(new_row, ignore_index=True)\n",
      "/var/folders/4h/zm_bwfv11ql5dx0d71rhbxqc0000gn/T/ipykernel_62820/549123605.py:29: FutureWarning: The frame.append method is deprecated and will be removed from pandas in a future version. Use pandas.concat instead.\n",
      "  communitynotes = communitynotes.append(new_row, ignore_index=True)\n"
     ]
    },
    {
     "name": "stdout",
     "output_type": "stream",
     "text": [
      "https://s.weibo.com/weibo?q=%23%E5%BE%AE%E5%8D%9A%E9%99%84%E6%B3%A8%23&typeall=1&suball=1&timescope=custom%3A2024-06-19-23%3A2024-06-20-0\n"
     ]
    },
    {
     "name": "stderr",
     "output_type": "stream",
     "text": [
      "/var/folders/4h/zm_bwfv11ql5dx0d71rhbxqc0000gn/T/ipykernel_62820/549123605.py:29: FutureWarning: The frame.append method is deprecated and will be removed from pandas in a future version. Use pandas.concat instead.\n",
      "  communitynotes = communitynotes.append(new_row, ignore_index=True)\n"
     ]
    },
    {
     "name": "stdout",
     "output_type": "stream",
     "text": [
      "https://s.weibo.com/weibo?q=%23%E5%BE%AE%E5%8D%9A%E9%99%84%E6%B3%A8%23&typeall=1&suball=1&timescope=custom%3A2024-06-20-23%3A2024-06-21-0\n"
     ]
    },
    {
     "name": "stderr",
     "output_type": "stream",
     "text": [
      "/var/folders/4h/zm_bwfv11ql5dx0d71rhbxqc0000gn/T/ipykernel_62820/549123605.py:29: FutureWarning: The frame.append method is deprecated and will be removed from pandas in a future version. Use pandas.concat instead.\n",
      "  communitynotes = communitynotes.append(new_row, ignore_index=True)\n",
      "/var/folders/4h/zm_bwfv11ql5dx0d71rhbxqc0000gn/T/ipykernel_62820/549123605.py:29: FutureWarning: The frame.append method is deprecated and will be removed from pandas in a future version. Use pandas.concat instead.\n",
      "  communitynotes = communitynotes.append(new_row, ignore_index=True)\n"
     ]
    },
    {
     "name": "stdout",
     "output_type": "stream",
     "text": [
      "https://s.weibo.com/weibo?q=%23%E5%BE%AE%E5%8D%9A%E9%99%84%E6%B3%A8%23&typeall=1&suball=1&timescope=custom%3A2024-06-21-23%3A2024-06-22-0\n"
     ]
    },
    {
     "name": "stderr",
     "output_type": "stream",
     "text": [
      "/var/folders/4h/zm_bwfv11ql5dx0d71rhbxqc0000gn/T/ipykernel_62820/549123605.py:29: FutureWarning: The frame.append method is deprecated and will be removed from pandas in a future version. Use pandas.concat instead.\n",
      "  communitynotes = communitynotes.append(new_row, ignore_index=True)\n",
      "/var/folders/4h/zm_bwfv11ql5dx0d71rhbxqc0000gn/T/ipykernel_62820/549123605.py:29: FutureWarning: The frame.append method is deprecated and will be removed from pandas in a future version. Use pandas.concat instead.\n",
      "  communitynotes = communitynotes.append(new_row, ignore_index=True)\n"
     ]
    },
    {
     "name": "stdout",
     "output_type": "stream",
     "text": [
      "https://s.weibo.com/weibo?q=%23%E5%BE%AE%E5%8D%9A%E9%99%84%E6%B3%A8%23&typeall=1&suball=1&timescope=custom%3A2024-06-22-23%3A2024-06-23-0\n"
     ]
    },
    {
     "name": "stderr",
     "output_type": "stream",
     "text": [
      "/var/folders/4h/zm_bwfv11ql5dx0d71rhbxqc0000gn/T/ipykernel_62820/549123605.py:29: FutureWarning: The frame.append method is deprecated and will be removed from pandas in a future version. Use pandas.concat instead.\n",
      "  communitynotes = communitynotes.append(new_row, ignore_index=True)\n"
     ]
    },
    {
     "name": "stdout",
     "output_type": "stream",
     "text": [
      "https://s.weibo.com/weibo?q=%23%E5%BE%AE%E5%8D%9A%E9%99%84%E6%B3%A8%23&typeall=1&suball=1&timescope=custom%3A2024-06-23-23%3A2024-06-24-0\n",
      "https://s.weibo.com/weibo?q=%23%E5%BE%AE%E5%8D%9A%E9%99%84%E6%B3%A8%23&typeall=1&suball=1&timescope=custom%3A2024-06-24-23%3A2024-06-25-0\n"
     ]
    },
    {
     "name": "stderr",
     "output_type": "stream",
     "text": [
      "/var/folders/4h/zm_bwfv11ql5dx0d71rhbxqc0000gn/T/ipykernel_62820/549123605.py:29: FutureWarning: The frame.append method is deprecated and will be removed from pandas in a future version. Use pandas.concat instead.\n",
      "  communitynotes = communitynotes.append(new_row, ignore_index=True)\n",
      "/var/folders/4h/zm_bwfv11ql5dx0d71rhbxqc0000gn/T/ipykernel_62820/549123605.py:29: FutureWarning: The frame.append method is deprecated and will be removed from pandas in a future version. Use pandas.concat instead.\n",
      "  communitynotes = communitynotes.append(new_row, ignore_index=True)\n"
     ]
    },
    {
     "name": "stdout",
     "output_type": "stream",
     "text": [
      "https://s.weibo.com/weibo?q=%23%E5%BE%AE%E5%8D%9A%E9%99%84%E6%B3%A8%23&typeall=1&suball=1&timescope=custom%3A2024-06-25-23%3A2024-06-26-0\n"
     ]
    },
    {
     "name": "stderr",
     "output_type": "stream",
     "text": [
      "/var/folders/4h/zm_bwfv11ql5dx0d71rhbxqc0000gn/T/ipykernel_62820/549123605.py:29: FutureWarning: The frame.append method is deprecated and will be removed from pandas in a future version. Use pandas.concat instead.\n",
      "  communitynotes = communitynotes.append(new_row, ignore_index=True)\n"
     ]
    },
    {
     "name": "stdout",
     "output_type": "stream",
     "text": [
      "https://s.weibo.com/weibo?q=%23%E5%BE%AE%E5%8D%9A%E9%99%84%E6%B3%A8%23&typeall=1&suball=1&timescope=custom%3A2024-06-26-23%3A2024-06-27-0\n",
      "https://s.weibo.com/weibo?q=%23%E5%BE%AE%E5%8D%9A%E9%99%84%E6%B3%A8%23&typeall=1&suball=1&timescope=custom%3A2024-06-27-23%3A2024-06-28-0\n"
     ]
    },
    {
     "name": "stderr",
     "output_type": "stream",
     "text": [
      "/var/folders/4h/zm_bwfv11ql5dx0d71rhbxqc0000gn/T/ipykernel_62820/549123605.py:29: FutureWarning: The frame.append method is deprecated and will be removed from pandas in a future version. Use pandas.concat instead.\n",
      "  communitynotes = communitynotes.append(new_row, ignore_index=True)\n"
     ]
    },
    {
     "name": "stdout",
     "output_type": "stream",
     "text": [
      "https://s.weibo.com/weibo?q=%23%E5%BE%AE%E5%8D%9A%E9%99%84%E6%B3%A8%23&typeall=1&suball=1&timescope=custom%3A2024-06-28-23%3A2024-06-29-0\n"
     ]
    },
    {
     "name": "stderr",
     "output_type": "stream",
     "text": [
      "/var/folders/4h/zm_bwfv11ql5dx0d71rhbxqc0000gn/T/ipykernel_62820/549123605.py:29: FutureWarning: The frame.append method is deprecated and will be removed from pandas in a future version. Use pandas.concat instead.\n",
      "  communitynotes = communitynotes.append(new_row, ignore_index=True)\n"
     ]
    },
    {
     "name": "stdout",
     "output_type": "stream",
     "text": [
      "https://s.weibo.com/weibo?q=%23%E5%BE%AE%E5%8D%9A%E9%99%84%E6%B3%A8%23&typeall=1&suball=1&timescope=custom%3A2024-06-29-23%3A2024-06-30-0\n"
     ]
    },
    {
     "name": "stderr",
     "output_type": "stream",
     "text": [
      "/var/folders/4h/zm_bwfv11ql5dx0d71rhbxqc0000gn/T/ipykernel_62820/549123605.py:29: FutureWarning: The frame.append method is deprecated and will be removed from pandas in a future version. Use pandas.concat instead.\n",
      "  communitynotes = communitynotes.append(new_row, ignore_index=True)\n",
      "/var/folders/4h/zm_bwfv11ql5dx0d71rhbxqc0000gn/T/ipykernel_62820/549123605.py:29: FutureWarning: The frame.append method is deprecated and will be removed from pandas in a future version. Use pandas.concat instead.\n",
      "  communitynotes = communitynotes.append(new_row, ignore_index=True)\n",
      "/var/folders/4h/zm_bwfv11ql5dx0d71rhbxqc0000gn/T/ipykernel_62820/549123605.py:29: FutureWarning: The frame.append method is deprecated and will be removed from pandas in a future version. Use pandas.concat instead.\n",
      "  communitynotes = communitynotes.append(new_row, ignore_index=True)\n"
     ]
    },
    {
     "name": "stdout",
     "output_type": "stream",
     "text": [
      "https://s.weibo.com/weibo?q=%23%E5%BE%AE%E5%8D%9A%E9%99%84%E6%B3%A8%23&typeall=1&suball=1&timescope=custom%3A2024-06-30-23%3A2024-07-01-0\n"
     ]
    },
    {
     "name": "stderr",
     "output_type": "stream",
     "text": [
      "/var/folders/4h/zm_bwfv11ql5dx0d71rhbxqc0000gn/T/ipykernel_62820/549123605.py:29: FutureWarning: The frame.append method is deprecated and will be removed from pandas in a future version. Use pandas.concat instead.\n",
      "  communitynotes = communitynotes.append(new_row, ignore_index=True)\n",
      "/var/folders/4h/zm_bwfv11ql5dx0d71rhbxqc0000gn/T/ipykernel_62820/549123605.py:29: FutureWarning: The frame.append method is deprecated and will be removed from pandas in a future version. Use pandas.concat instead.\n",
      "  communitynotes = communitynotes.append(new_row, ignore_index=True)\n",
      "/var/folders/4h/zm_bwfv11ql5dx0d71rhbxqc0000gn/T/ipykernel_62820/549123605.py:29: FutureWarning: The frame.append method is deprecated and will be removed from pandas in a future version. Use pandas.concat instead.\n",
      "  communitynotes = communitynotes.append(new_row, ignore_index=True)\n"
     ]
    },
    {
     "name": "stdout",
     "output_type": "stream",
     "text": [
      "https://s.weibo.com/weibo?q=%23%E5%BE%AE%E5%8D%9A%E9%99%84%E6%B3%A8%23&typeall=1&suball=1&timescope=custom%3A2024-07-01-23%3A2024-07-02-0\n"
     ]
    },
    {
     "name": "stderr",
     "output_type": "stream",
     "text": [
      "/var/folders/4h/zm_bwfv11ql5dx0d71rhbxqc0000gn/T/ipykernel_62820/549123605.py:29: FutureWarning: The frame.append method is deprecated and will be removed from pandas in a future version. Use pandas.concat instead.\n",
      "  communitynotes = communitynotes.append(new_row, ignore_index=True)\n",
      "/var/folders/4h/zm_bwfv11ql5dx0d71rhbxqc0000gn/T/ipykernel_62820/549123605.py:29: FutureWarning: The frame.append method is deprecated and will be removed from pandas in a future version. Use pandas.concat instead.\n",
      "  communitynotes = communitynotes.append(new_row, ignore_index=True)\n",
      "/var/folders/4h/zm_bwfv11ql5dx0d71rhbxqc0000gn/T/ipykernel_62820/549123605.py:29: FutureWarning: The frame.append method is deprecated and will be removed from pandas in a future version. Use pandas.concat instead.\n",
      "  communitynotes = communitynotes.append(new_row, ignore_index=True)\n",
      "/var/folders/4h/zm_bwfv11ql5dx0d71rhbxqc0000gn/T/ipykernel_62820/549123605.py:29: FutureWarning: The frame.append method is deprecated and will be removed from pandas in a future version. Use pandas.concat instead.\n",
      "  communitynotes = communitynotes.append(new_row, ignore_index=True)\n",
      "/var/folders/4h/zm_bwfv11ql5dx0d71rhbxqc0000gn/T/ipykernel_62820/549123605.py:29: FutureWarning: The frame.append method is deprecated and will be removed from pandas in a future version. Use pandas.concat instead.\n",
      "  communitynotes = communitynotes.append(new_row, ignore_index=True)\n"
     ]
    },
    {
     "name": "stdout",
     "output_type": "stream",
     "text": [
      "https://s.weibo.com/weibo?q=%23%E5%BE%AE%E5%8D%9A%E9%99%84%E6%B3%A8%23&typeall=1&suball=1&timescope=custom%3A2024-07-02-23%3A2024-07-03-0\n"
     ]
    },
    {
     "name": "stderr",
     "output_type": "stream",
     "text": [
      "/var/folders/4h/zm_bwfv11ql5dx0d71rhbxqc0000gn/T/ipykernel_62820/549123605.py:29: FutureWarning: The frame.append method is deprecated and will be removed from pandas in a future version. Use pandas.concat instead.\n",
      "  communitynotes = communitynotes.append(new_row, ignore_index=True)\n",
      "/var/folders/4h/zm_bwfv11ql5dx0d71rhbxqc0000gn/T/ipykernel_62820/549123605.py:29: FutureWarning: The frame.append method is deprecated and will be removed from pandas in a future version. Use pandas.concat instead.\n",
      "  communitynotes = communitynotes.append(new_row, ignore_index=True)\n",
      "/var/folders/4h/zm_bwfv11ql5dx0d71rhbxqc0000gn/T/ipykernel_62820/549123605.py:29: FutureWarning: The frame.append method is deprecated and will be removed from pandas in a future version. Use pandas.concat instead.\n",
      "  communitynotes = communitynotes.append(new_row, ignore_index=True)\n",
      "/var/folders/4h/zm_bwfv11ql5dx0d71rhbxqc0000gn/T/ipykernel_62820/549123605.py:29: FutureWarning: The frame.append method is deprecated and will be removed from pandas in a future version. Use pandas.concat instead.\n",
      "  communitynotes = communitynotes.append(new_row, ignore_index=True)\n",
      "/var/folders/4h/zm_bwfv11ql5dx0d71rhbxqc0000gn/T/ipykernel_62820/549123605.py:29: FutureWarning: The frame.append method is deprecated and will be removed from pandas in a future version. Use pandas.concat instead.\n",
      "  communitynotes = communitynotes.append(new_row, ignore_index=True)\n"
     ]
    },
    {
     "name": "stdout",
     "output_type": "stream",
     "text": [
      "https://s.weibo.com/weibo?q=%23%E5%BE%AE%E5%8D%9A%E9%99%84%E6%B3%A8%23&typeall=1&suball=1&timescope=custom%3A2024-07-03-23%3A2024-07-04-0\n",
      "https://s.weibo.com/weibo?q=%23%E5%BE%AE%E5%8D%9A%E9%99%84%E6%B3%A8%23&typeall=1&suball=1&timescope=custom%3A2024-07-04-23%3A2024-07-05-0\n"
     ]
    },
    {
     "name": "stderr",
     "output_type": "stream",
     "text": [
      "/var/folders/4h/zm_bwfv11ql5dx0d71rhbxqc0000gn/T/ipykernel_62820/549123605.py:29: FutureWarning: The frame.append method is deprecated and will be removed from pandas in a future version. Use pandas.concat instead.\n",
      "  communitynotes = communitynotes.append(new_row, ignore_index=True)\n",
      "/var/folders/4h/zm_bwfv11ql5dx0d71rhbxqc0000gn/T/ipykernel_62820/549123605.py:29: FutureWarning: The frame.append method is deprecated and will be removed from pandas in a future version. Use pandas.concat instead.\n",
      "  communitynotes = communitynotes.append(new_row, ignore_index=True)\n",
      "/var/folders/4h/zm_bwfv11ql5dx0d71rhbxqc0000gn/T/ipykernel_62820/549123605.py:29: FutureWarning: The frame.append method is deprecated and will be removed from pandas in a future version. Use pandas.concat instead.\n",
      "  communitynotes = communitynotes.append(new_row, ignore_index=True)\n"
     ]
    },
    {
     "name": "stdout",
     "output_type": "stream",
     "text": [
      "https://s.weibo.com/weibo?q=%23%E5%BE%AE%E5%8D%9A%E9%99%84%E6%B3%A8%23&typeall=1&suball=1&timescope=custom%3A2024-07-05-23%3A2024-07-06-0\n",
      "https://s.weibo.com/weibo?q=%23%E5%BE%AE%E5%8D%9A%E9%99%84%E6%B3%A8%23&typeall=1&suball=1&timescope=custom%3A2024-07-06-23%3A2024-07-07-0\n",
      "https://s.weibo.com/weibo?q=%23%E5%BE%AE%E5%8D%9A%E9%99%84%E6%B3%A8%23&typeall=1&suball=1&timescope=custom%3A2024-07-07-23%3A2024-07-08-0\n"
     ]
    },
    {
     "name": "stderr",
     "output_type": "stream",
     "text": [
      "/var/folders/4h/zm_bwfv11ql5dx0d71rhbxqc0000gn/T/ipykernel_62820/549123605.py:29: FutureWarning: The frame.append method is deprecated and will be removed from pandas in a future version. Use pandas.concat instead.\n",
      "  communitynotes = communitynotes.append(new_row, ignore_index=True)\n",
      "/var/folders/4h/zm_bwfv11ql5dx0d71rhbxqc0000gn/T/ipykernel_62820/549123605.py:29: FutureWarning: The frame.append method is deprecated and will be removed from pandas in a future version. Use pandas.concat instead.\n",
      "  communitynotes = communitynotes.append(new_row, ignore_index=True)\n",
      "/var/folders/4h/zm_bwfv11ql5dx0d71rhbxqc0000gn/T/ipykernel_62820/549123605.py:29: FutureWarning: The frame.append method is deprecated and will be removed from pandas in a future version. Use pandas.concat instead.\n",
      "  communitynotes = communitynotes.append(new_row, ignore_index=True)\n"
     ]
    },
    {
     "name": "stdout",
     "output_type": "stream",
     "text": [
      "https://s.weibo.com/weibo?q=%23%E5%BE%AE%E5%8D%9A%E9%99%84%E6%B3%A8%23&typeall=1&suball=1&timescope=custom%3A2024-07-08-23%3A2024-07-09-0\n"
     ]
    },
    {
     "name": "stderr",
     "output_type": "stream",
     "text": [
      "/var/folders/4h/zm_bwfv11ql5dx0d71rhbxqc0000gn/T/ipykernel_62820/549123605.py:29: FutureWarning: The frame.append method is deprecated and will be removed from pandas in a future version. Use pandas.concat instead.\n",
      "  communitynotes = communitynotes.append(new_row, ignore_index=True)\n",
      "/var/folders/4h/zm_bwfv11ql5dx0d71rhbxqc0000gn/T/ipykernel_62820/549123605.py:29: FutureWarning: The frame.append method is deprecated and will be removed from pandas in a future version. Use pandas.concat instead.\n",
      "  communitynotes = communitynotes.append(new_row, ignore_index=True)\n"
     ]
    },
    {
     "name": "stdout",
     "output_type": "stream",
     "text": [
      "https://s.weibo.com/weibo?q=%23%E5%BE%AE%E5%8D%9A%E9%99%84%E6%B3%A8%23&typeall=1&suball=1&timescope=custom%3A2024-07-09-23%3A2024-07-10-0\n"
     ]
    },
    {
     "name": "stderr",
     "output_type": "stream",
     "text": [
      "/var/folders/4h/zm_bwfv11ql5dx0d71rhbxqc0000gn/T/ipykernel_62820/549123605.py:29: FutureWarning: The frame.append method is deprecated and will be removed from pandas in a future version. Use pandas.concat instead.\n",
      "  communitynotes = communitynotes.append(new_row, ignore_index=True)\n",
      "/var/folders/4h/zm_bwfv11ql5dx0d71rhbxqc0000gn/T/ipykernel_62820/549123605.py:29: FutureWarning: The frame.append method is deprecated and will be removed from pandas in a future version. Use pandas.concat instead.\n",
      "  communitynotes = communitynotes.append(new_row, ignore_index=True)\n"
     ]
    },
    {
     "name": "stdout",
     "output_type": "stream",
     "text": [
      "https://s.weibo.com/weibo?q=%23%E5%BE%AE%E5%8D%9A%E9%99%84%E6%B3%A8%23&typeall=1&suball=1&timescope=custom%3A2024-07-10-23%3A2024-07-11-0\n"
     ]
    },
    {
     "name": "stderr",
     "output_type": "stream",
     "text": [
      "/var/folders/4h/zm_bwfv11ql5dx0d71rhbxqc0000gn/T/ipykernel_62820/549123605.py:29: FutureWarning: The frame.append method is deprecated and will be removed from pandas in a future version. Use pandas.concat instead.\n",
      "  communitynotes = communitynotes.append(new_row, ignore_index=True)\n",
      "/var/folders/4h/zm_bwfv11ql5dx0d71rhbxqc0000gn/T/ipykernel_62820/549123605.py:29: FutureWarning: The frame.append method is deprecated and will be removed from pandas in a future version. Use pandas.concat instead.\n",
      "  communitynotes = communitynotes.append(new_row, ignore_index=True)\n"
     ]
    },
    {
     "name": "stdout",
     "output_type": "stream",
     "text": [
      "https://s.weibo.com/weibo?q=%23%E5%BE%AE%E5%8D%9A%E9%99%84%E6%B3%A8%23&typeall=1&suball=1&timescope=custom%3A2024-07-11-23%3A2024-07-12-0\n"
     ]
    },
    {
     "name": "stderr",
     "output_type": "stream",
     "text": [
      "/var/folders/4h/zm_bwfv11ql5dx0d71rhbxqc0000gn/T/ipykernel_62820/549123605.py:29: FutureWarning: The frame.append method is deprecated and will be removed from pandas in a future version. Use pandas.concat instead.\n",
      "  communitynotes = communitynotes.append(new_row, ignore_index=True)\n",
      "/var/folders/4h/zm_bwfv11ql5dx0d71rhbxqc0000gn/T/ipykernel_62820/549123605.py:29: FutureWarning: The frame.append method is deprecated and will be removed from pandas in a future version. Use pandas.concat instead.\n",
      "  communitynotes = communitynotes.append(new_row, ignore_index=True)\n",
      "/var/folders/4h/zm_bwfv11ql5dx0d71rhbxqc0000gn/T/ipykernel_62820/549123605.py:29: FutureWarning: The frame.append method is deprecated and will be removed from pandas in a future version. Use pandas.concat instead.\n",
      "  communitynotes = communitynotes.append(new_row, ignore_index=True)\n",
      "/var/folders/4h/zm_bwfv11ql5dx0d71rhbxqc0000gn/T/ipykernel_62820/549123605.py:29: FutureWarning: The frame.append method is deprecated and will be removed from pandas in a future version. Use pandas.concat instead.\n",
      "  communitynotes = communitynotes.append(new_row, ignore_index=True)\n"
     ]
    },
    {
     "name": "stdout",
     "output_type": "stream",
     "text": [
      "https://s.weibo.com/weibo?q=%23%E5%BE%AE%E5%8D%9A%E9%99%84%E6%B3%A8%23&typeall=1&suball=1&timescope=custom%3A2024-07-12-23%3A2024-07-13-0\n"
     ]
    },
    {
     "name": "stderr",
     "output_type": "stream",
     "text": [
      "/var/folders/4h/zm_bwfv11ql5dx0d71rhbxqc0000gn/T/ipykernel_62820/549123605.py:29: FutureWarning: The frame.append method is deprecated and will be removed from pandas in a future version. Use pandas.concat instead.\n",
      "  communitynotes = communitynotes.append(new_row, ignore_index=True)\n",
      "/var/folders/4h/zm_bwfv11ql5dx0d71rhbxqc0000gn/T/ipykernel_62820/549123605.py:29: FutureWarning: The frame.append method is deprecated and will be removed from pandas in a future version. Use pandas.concat instead.\n",
      "  communitynotes = communitynotes.append(new_row, ignore_index=True)\n",
      "/var/folders/4h/zm_bwfv11ql5dx0d71rhbxqc0000gn/T/ipykernel_62820/549123605.py:29: FutureWarning: The frame.append method is deprecated and will be removed from pandas in a future version. Use pandas.concat instead.\n",
      "  communitynotes = communitynotes.append(new_row, ignore_index=True)\n"
     ]
    },
    {
     "name": "stdout",
     "output_type": "stream",
     "text": [
      "https://s.weibo.com/weibo?q=%23%E5%BE%AE%E5%8D%9A%E9%99%84%E6%B3%A8%23&typeall=1&suball=1&timescope=custom%3A2024-07-13-23%3A2024-07-14-0\n"
     ]
    },
    {
     "name": "stderr",
     "output_type": "stream",
     "text": [
      "/var/folders/4h/zm_bwfv11ql5dx0d71rhbxqc0000gn/T/ipykernel_62820/549123605.py:29: FutureWarning: The frame.append method is deprecated and will be removed from pandas in a future version. Use pandas.concat instead.\n",
      "  communitynotes = communitynotes.append(new_row, ignore_index=True)\n",
      "/var/folders/4h/zm_bwfv11ql5dx0d71rhbxqc0000gn/T/ipykernel_62820/549123605.py:29: FutureWarning: The frame.append method is deprecated and will be removed from pandas in a future version. Use pandas.concat instead.\n",
      "  communitynotes = communitynotes.append(new_row, ignore_index=True)\n",
      "/var/folders/4h/zm_bwfv11ql5dx0d71rhbxqc0000gn/T/ipykernel_62820/549123605.py:29: FutureWarning: The frame.append method is deprecated and will be removed from pandas in a future version. Use pandas.concat instead.\n",
      "  communitynotes = communitynotes.append(new_row, ignore_index=True)\n",
      "/var/folders/4h/zm_bwfv11ql5dx0d71rhbxqc0000gn/T/ipykernel_62820/549123605.py:29: FutureWarning: The frame.append method is deprecated and will be removed from pandas in a future version. Use pandas.concat instead.\n",
      "  communitynotes = communitynotes.append(new_row, ignore_index=True)\n",
      "/var/folders/4h/zm_bwfv11ql5dx0d71rhbxqc0000gn/T/ipykernel_62820/549123605.py:29: FutureWarning: The frame.append method is deprecated and will be removed from pandas in a future version. Use pandas.concat instead.\n",
      "  communitynotes = communitynotes.append(new_row, ignore_index=True)\n",
      "/var/folders/4h/zm_bwfv11ql5dx0d71rhbxqc0000gn/T/ipykernel_62820/549123605.py:29: FutureWarning: The frame.append method is deprecated and will be removed from pandas in a future version. Use pandas.concat instead.\n",
      "  communitynotes = communitynotes.append(new_row, ignore_index=True)\n",
      "/var/folders/4h/zm_bwfv11ql5dx0d71rhbxqc0000gn/T/ipykernel_62820/549123605.py:29: FutureWarning: The frame.append method is deprecated and will be removed from pandas in a future version. Use pandas.concat instead.\n",
      "  communitynotes = communitynotes.append(new_row, ignore_index=True)\n"
     ]
    },
    {
     "name": "stdout",
     "output_type": "stream",
     "text": [
      "https://s.weibo.com/weibo?q=%23%E5%BE%AE%E5%8D%9A%E9%99%84%E6%B3%A8%23&typeall=1&suball=1&timescope=custom%3A2024-07-14-23%3A2024-07-15-0\n"
     ]
    },
    {
     "name": "stderr",
     "output_type": "stream",
     "text": [
      "/var/folders/4h/zm_bwfv11ql5dx0d71rhbxqc0000gn/T/ipykernel_62820/549123605.py:29: FutureWarning: The frame.append method is deprecated and will be removed from pandas in a future version. Use pandas.concat instead.\n",
      "  communitynotes = communitynotes.append(new_row, ignore_index=True)\n",
      "/var/folders/4h/zm_bwfv11ql5dx0d71rhbxqc0000gn/T/ipykernel_62820/549123605.py:29: FutureWarning: The frame.append method is deprecated and will be removed from pandas in a future version. Use pandas.concat instead.\n",
      "  communitynotes = communitynotes.append(new_row, ignore_index=True)\n",
      "/var/folders/4h/zm_bwfv11ql5dx0d71rhbxqc0000gn/T/ipykernel_62820/549123605.py:29: FutureWarning: The frame.append method is deprecated and will be removed from pandas in a future version. Use pandas.concat instead.\n",
      "  communitynotes = communitynotes.append(new_row, ignore_index=True)\n"
     ]
    },
    {
     "name": "stdout",
     "output_type": "stream",
     "text": [
      "https://s.weibo.com/weibo?q=%23%E5%BE%AE%E5%8D%9A%E9%99%84%E6%B3%A8%23&typeall=1&suball=1&timescope=custom%3A2024-07-15-23%3A2024-07-16-0\n"
     ]
    },
    {
     "name": "stderr",
     "output_type": "stream",
     "text": [
      "/var/folders/4h/zm_bwfv11ql5dx0d71rhbxqc0000gn/T/ipykernel_62820/549123605.py:29: FutureWarning: The frame.append method is deprecated and will be removed from pandas in a future version. Use pandas.concat instead.\n",
      "  communitynotes = communitynotes.append(new_row, ignore_index=True)\n",
      "/var/folders/4h/zm_bwfv11ql5dx0d71rhbxqc0000gn/T/ipykernel_62820/549123605.py:29: FutureWarning: The frame.append method is deprecated and will be removed from pandas in a future version. Use pandas.concat instead.\n",
      "  communitynotes = communitynotes.append(new_row, ignore_index=True)\n"
     ]
    },
    {
     "name": "stdout",
     "output_type": "stream",
     "text": [
      "https://s.weibo.com/weibo?q=%23%E5%BE%AE%E5%8D%9A%E9%99%84%E6%B3%A8%23&typeall=1&suball=1&timescope=custom%3A2024-07-16-23%3A2024-07-17-0\n"
     ]
    },
    {
     "name": "stderr",
     "output_type": "stream",
     "text": [
      "/var/folders/4h/zm_bwfv11ql5dx0d71rhbxqc0000gn/T/ipykernel_62820/549123605.py:29: FutureWarning: The frame.append method is deprecated and will be removed from pandas in a future version. Use pandas.concat instead.\n",
      "  communitynotes = communitynotes.append(new_row, ignore_index=True)\n",
      "/var/folders/4h/zm_bwfv11ql5dx0d71rhbxqc0000gn/T/ipykernel_62820/549123605.py:29: FutureWarning: The frame.append method is deprecated and will be removed from pandas in a future version. Use pandas.concat instead.\n",
      "  communitynotes = communitynotes.append(new_row, ignore_index=True)\n"
     ]
    },
    {
     "name": "stdout",
     "output_type": "stream",
     "text": [
      "https://s.weibo.com/weibo?q=%23%E5%BE%AE%E5%8D%9A%E9%99%84%E6%B3%A8%23&typeall=1&suball=1&timescope=custom%3A2024-07-17-23%3A2024-07-18-0\n"
     ]
    },
    {
     "name": "stderr",
     "output_type": "stream",
     "text": [
      "/var/folders/4h/zm_bwfv11ql5dx0d71rhbxqc0000gn/T/ipykernel_62820/549123605.py:29: FutureWarning: The frame.append method is deprecated and will be removed from pandas in a future version. Use pandas.concat instead.\n",
      "  communitynotes = communitynotes.append(new_row, ignore_index=True)\n",
      "/var/folders/4h/zm_bwfv11ql5dx0d71rhbxqc0000gn/T/ipykernel_62820/549123605.py:29: FutureWarning: The frame.append method is deprecated and will be removed from pandas in a future version. Use pandas.concat instead.\n",
      "  communitynotes = communitynotes.append(new_row, ignore_index=True)\n"
     ]
    },
    {
     "name": "stdout",
     "output_type": "stream",
     "text": [
      "https://s.weibo.com/weibo?q=%23%E5%BE%AE%E5%8D%9A%E9%99%84%E6%B3%A8%23&typeall=1&suball=1&timescope=custom%3A2024-07-18-23%3A2024-07-19-0\n"
     ]
    },
    {
     "name": "stderr",
     "output_type": "stream",
     "text": [
      "/var/folders/4h/zm_bwfv11ql5dx0d71rhbxqc0000gn/T/ipykernel_62820/549123605.py:29: FutureWarning: The frame.append method is deprecated and will be removed from pandas in a future version. Use pandas.concat instead.\n",
      "  communitynotes = communitynotes.append(new_row, ignore_index=True)\n"
     ]
    },
    {
     "name": "stdout",
     "output_type": "stream",
     "text": [
      "https://s.weibo.com/weibo?q=%23%E5%BE%AE%E5%8D%9A%E9%99%84%E6%B3%A8%23&typeall=1&suball=1&timescope=custom%3A2024-07-19-23%3A2024-07-20-0\n"
     ]
    },
    {
     "name": "stderr",
     "output_type": "stream",
     "text": [
      "/var/folders/4h/zm_bwfv11ql5dx0d71rhbxqc0000gn/T/ipykernel_62820/549123605.py:29: FutureWarning: The frame.append method is deprecated and will be removed from pandas in a future version. Use pandas.concat instead.\n",
      "  communitynotes = communitynotes.append(new_row, ignore_index=True)\n"
     ]
    },
    {
     "name": "stdout",
     "output_type": "stream",
     "text": [
      "https://s.weibo.com/weibo?q=%23%E5%BE%AE%E5%8D%9A%E9%99%84%E6%B3%A8%23&typeall=1&suball=1&timescope=custom%3A2024-07-20-23%3A2024-07-21-0\n"
     ]
    },
    {
     "name": "stderr",
     "output_type": "stream",
     "text": [
      "/var/folders/4h/zm_bwfv11ql5dx0d71rhbxqc0000gn/T/ipykernel_62820/549123605.py:29: FutureWarning: The frame.append method is deprecated and will be removed from pandas in a future version. Use pandas.concat instead.\n",
      "  communitynotes = communitynotes.append(new_row, ignore_index=True)\n",
      "/var/folders/4h/zm_bwfv11ql5dx0d71rhbxqc0000gn/T/ipykernel_62820/549123605.py:29: FutureWarning: The frame.append method is deprecated and will be removed from pandas in a future version. Use pandas.concat instead.\n",
      "  communitynotes = communitynotes.append(new_row, ignore_index=True)\n",
      "/var/folders/4h/zm_bwfv11ql5dx0d71rhbxqc0000gn/T/ipykernel_62820/549123605.py:29: FutureWarning: The frame.append method is deprecated and will be removed from pandas in a future version. Use pandas.concat instead.\n",
      "  communitynotes = communitynotes.append(new_row, ignore_index=True)\n",
      "/var/folders/4h/zm_bwfv11ql5dx0d71rhbxqc0000gn/T/ipykernel_62820/549123605.py:29: FutureWarning: The frame.append method is deprecated and will be removed from pandas in a future version. Use pandas.concat instead.\n",
      "  communitynotes = communitynotes.append(new_row, ignore_index=True)\n",
      "/var/folders/4h/zm_bwfv11ql5dx0d71rhbxqc0000gn/T/ipykernel_62820/549123605.py:29: FutureWarning: The frame.append method is deprecated and will be removed from pandas in a future version. Use pandas.concat instead.\n",
      "  communitynotes = communitynotes.append(new_row, ignore_index=True)\n",
      "/var/folders/4h/zm_bwfv11ql5dx0d71rhbxqc0000gn/T/ipykernel_62820/549123605.py:29: FutureWarning: The frame.append method is deprecated and will be removed from pandas in a future version. Use pandas.concat instead.\n",
      "  communitynotes = communitynotes.append(new_row, ignore_index=True)\n",
      "/var/folders/4h/zm_bwfv11ql5dx0d71rhbxqc0000gn/T/ipykernel_62820/549123605.py:29: FutureWarning: The frame.append method is deprecated and will be removed from pandas in a future version. Use pandas.concat instead.\n",
      "  communitynotes = communitynotes.append(new_row, ignore_index=True)\n"
     ]
    },
    {
     "name": "stdout",
     "output_type": "stream",
     "text": [
      "https://s.weibo.com/weibo?q=%23%E5%BE%AE%E5%8D%9A%E9%99%84%E6%B3%A8%23&typeall=1&suball=1&timescope=custom%3A2024-07-21-23%3A2024-07-22-0\n"
     ]
    },
    {
     "name": "stderr",
     "output_type": "stream",
     "text": [
      "/var/folders/4h/zm_bwfv11ql5dx0d71rhbxqc0000gn/T/ipykernel_62820/549123605.py:29: FutureWarning: The frame.append method is deprecated and will be removed from pandas in a future version. Use pandas.concat instead.\n",
      "  communitynotes = communitynotes.append(new_row, ignore_index=True)\n"
     ]
    },
    {
     "name": "stdout",
     "output_type": "stream",
     "text": [
      "https://s.weibo.com/weibo?q=%23%E5%BE%AE%E5%8D%9A%E9%99%84%E6%B3%A8%23&typeall=1&suball=1&timescope=custom%3A2024-07-22-23%3A2024-07-23-0\n"
     ]
    },
    {
     "name": "stderr",
     "output_type": "stream",
     "text": [
      "/var/folders/4h/zm_bwfv11ql5dx0d71rhbxqc0000gn/T/ipykernel_62820/549123605.py:29: FutureWarning: The frame.append method is deprecated and will be removed from pandas in a future version. Use pandas.concat instead.\n",
      "  communitynotes = communitynotes.append(new_row, ignore_index=True)\n",
      "/var/folders/4h/zm_bwfv11ql5dx0d71rhbxqc0000gn/T/ipykernel_62820/549123605.py:29: FutureWarning: The frame.append method is deprecated and will be removed from pandas in a future version. Use pandas.concat instead.\n",
      "  communitynotes = communitynotes.append(new_row, ignore_index=True)\n"
     ]
    },
    {
     "name": "stdout",
     "output_type": "stream",
     "text": [
      "https://s.weibo.com/weibo?q=%23%E5%BE%AE%E5%8D%9A%E9%99%84%E6%B3%A8%23&typeall=1&suball=1&timescope=custom%3A2024-07-23-23%3A2024-07-24-0\n"
     ]
    },
    {
     "name": "stderr",
     "output_type": "stream",
     "text": [
      "/var/folders/4h/zm_bwfv11ql5dx0d71rhbxqc0000gn/T/ipykernel_62820/549123605.py:29: FutureWarning: The frame.append method is deprecated and will be removed from pandas in a future version. Use pandas.concat instead.\n",
      "  communitynotes = communitynotes.append(new_row, ignore_index=True)\n"
     ]
    },
    {
     "name": "stdout",
     "output_type": "stream",
     "text": [
      "https://s.weibo.com/weibo?q=%23%E5%BE%AE%E5%8D%9A%E9%99%84%E6%B3%A8%23&typeall=1&suball=1&timescope=custom%3A2024-07-24-23%3A2024-07-25-0\n"
     ]
    },
    {
     "name": "stderr",
     "output_type": "stream",
     "text": [
      "/var/folders/4h/zm_bwfv11ql5dx0d71rhbxqc0000gn/T/ipykernel_62820/549123605.py:29: FutureWarning: The frame.append method is deprecated and will be removed from pandas in a future version. Use pandas.concat instead.\n",
      "  communitynotes = communitynotes.append(new_row, ignore_index=True)\n",
      "/var/folders/4h/zm_bwfv11ql5dx0d71rhbxqc0000gn/T/ipykernel_62820/549123605.py:29: FutureWarning: The frame.append method is deprecated and will be removed from pandas in a future version. Use pandas.concat instead.\n",
      "  communitynotes = communitynotes.append(new_row, ignore_index=True)\n",
      "/var/folders/4h/zm_bwfv11ql5dx0d71rhbxqc0000gn/T/ipykernel_62820/549123605.py:29: FutureWarning: The frame.append method is deprecated and will be removed from pandas in a future version. Use pandas.concat instead.\n",
      "  communitynotes = communitynotes.append(new_row, ignore_index=True)\n"
     ]
    },
    {
     "name": "stdout",
     "output_type": "stream",
     "text": [
      "https://s.weibo.com/weibo?q=%23%E5%BE%AE%E5%8D%9A%E9%99%84%E6%B3%A8%23&typeall=1&suball=1&timescope=custom%3A2024-07-25-23%3A2024-07-26-0\n"
     ]
    },
    {
     "name": "stderr",
     "output_type": "stream",
     "text": [
      "/var/folders/4h/zm_bwfv11ql5dx0d71rhbxqc0000gn/T/ipykernel_62820/549123605.py:29: FutureWarning: The frame.append method is deprecated and will be removed from pandas in a future version. Use pandas.concat instead.\n",
      "  communitynotes = communitynotes.append(new_row, ignore_index=True)\n"
     ]
    },
    {
     "name": "stdout",
     "output_type": "stream",
     "text": [
      "https://s.weibo.com/weibo?q=%23%E5%BE%AE%E5%8D%9A%E9%99%84%E6%B3%A8%23&typeall=1&suball=1&timescope=custom%3A2024-07-26-23%3A2024-07-27-0\n"
     ]
    },
    {
     "name": "stderr",
     "output_type": "stream",
     "text": [
      "/var/folders/4h/zm_bwfv11ql5dx0d71rhbxqc0000gn/T/ipykernel_62820/549123605.py:29: FutureWarning: The frame.append method is deprecated and will be removed from pandas in a future version. Use pandas.concat instead.\n",
      "  communitynotes = communitynotes.append(new_row, ignore_index=True)\n",
      "/var/folders/4h/zm_bwfv11ql5dx0d71rhbxqc0000gn/T/ipykernel_62820/549123605.py:29: FutureWarning: The frame.append method is deprecated and will be removed from pandas in a future version. Use pandas.concat instead.\n",
      "  communitynotes = communitynotes.append(new_row, ignore_index=True)\n",
      "/var/folders/4h/zm_bwfv11ql5dx0d71rhbxqc0000gn/T/ipykernel_62820/549123605.py:29: FutureWarning: The frame.append method is deprecated and will be removed from pandas in a future version. Use pandas.concat instead.\n",
      "  communitynotes = communitynotes.append(new_row, ignore_index=True)\n",
      "/var/folders/4h/zm_bwfv11ql5dx0d71rhbxqc0000gn/T/ipykernel_62820/549123605.py:29: FutureWarning: The frame.append method is deprecated and will be removed from pandas in a future version. Use pandas.concat instead.\n",
      "  communitynotes = communitynotes.append(new_row, ignore_index=True)\n"
     ]
    },
    {
     "name": "stdout",
     "output_type": "stream",
     "text": [
      "https://s.weibo.com/weibo?q=%23%E5%BE%AE%E5%8D%9A%E9%99%84%E6%B3%A8%23&typeall=1&suball=1&timescope=custom%3A2024-07-27-23%3A2024-07-28-0\n"
     ]
    },
    {
     "name": "stderr",
     "output_type": "stream",
     "text": [
      "/var/folders/4h/zm_bwfv11ql5dx0d71rhbxqc0000gn/T/ipykernel_62820/549123605.py:29: FutureWarning: The frame.append method is deprecated and will be removed from pandas in a future version. Use pandas.concat instead.\n",
      "  communitynotes = communitynotes.append(new_row, ignore_index=True)\n",
      "/var/folders/4h/zm_bwfv11ql5dx0d71rhbxqc0000gn/T/ipykernel_62820/549123605.py:29: FutureWarning: The frame.append method is deprecated and will be removed from pandas in a future version. Use pandas.concat instead.\n",
      "  communitynotes = communitynotes.append(new_row, ignore_index=True)\n",
      "/var/folders/4h/zm_bwfv11ql5dx0d71rhbxqc0000gn/T/ipykernel_62820/549123605.py:29: FutureWarning: The frame.append method is deprecated and will be removed from pandas in a future version. Use pandas.concat instead.\n",
      "  communitynotes = communitynotes.append(new_row, ignore_index=True)\n"
     ]
    },
    {
     "name": "stdout",
     "output_type": "stream",
     "text": [
      "https://s.weibo.com/weibo?q=%23%E5%BE%AE%E5%8D%9A%E9%99%84%E6%B3%A8%23&typeall=1&suball=1&timescope=custom%3A2024-07-28-23%3A2024-07-29-0\n",
      "https://s.weibo.com/weibo?q=%23%E5%BE%AE%E5%8D%9A%E9%99%84%E6%B3%A8%23&typeall=1&suball=1&timescope=custom%3A2024-07-29-23%3A2024-07-30-0\n"
     ]
    },
    {
     "name": "stderr",
     "output_type": "stream",
     "text": [
      "/var/folders/4h/zm_bwfv11ql5dx0d71rhbxqc0000gn/T/ipykernel_62820/549123605.py:29: FutureWarning: The frame.append method is deprecated and will be removed from pandas in a future version. Use pandas.concat instead.\n",
      "  communitynotes = communitynotes.append(new_row, ignore_index=True)\n",
      "/var/folders/4h/zm_bwfv11ql5dx0d71rhbxqc0000gn/T/ipykernel_62820/549123605.py:29: FutureWarning: The frame.append method is deprecated and will be removed from pandas in a future version. Use pandas.concat instead.\n",
      "  communitynotes = communitynotes.append(new_row, ignore_index=True)\n",
      "/var/folders/4h/zm_bwfv11ql5dx0d71rhbxqc0000gn/T/ipykernel_62820/549123605.py:29: FutureWarning: The frame.append method is deprecated and will be removed from pandas in a future version. Use pandas.concat instead.\n",
      "  communitynotes = communitynotes.append(new_row, ignore_index=True)\n"
     ]
    },
    {
     "name": "stdout",
     "output_type": "stream",
     "text": [
      "https://s.weibo.com/weibo?q=%23%E5%BE%AE%E5%8D%9A%E9%99%84%E6%B3%A8%23&typeall=1&suball=1&timescope=custom%3A2024-07-30-23%3A2024-07-31-0\n"
     ]
    },
    {
     "name": "stderr",
     "output_type": "stream",
     "text": [
      "/var/folders/4h/zm_bwfv11ql5dx0d71rhbxqc0000gn/T/ipykernel_62820/549123605.py:29: FutureWarning: The frame.append method is deprecated and will be removed from pandas in a future version. Use pandas.concat instead.\n",
      "  communitynotes = communitynotes.append(new_row, ignore_index=True)\n"
     ]
    },
    {
     "name": "stdout",
     "output_type": "stream",
     "text": [
      "https://s.weibo.com/weibo?q=%23%E5%BE%AE%E5%8D%9A%E9%99%84%E6%B3%A8%23&typeall=1&suball=1&timescope=custom%3A2024-07-31-23%3A2024-08-01-0\n"
     ]
    },
    {
     "name": "stderr",
     "output_type": "stream",
     "text": [
      "/var/folders/4h/zm_bwfv11ql5dx0d71rhbxqc0000gn/T/ipykernel_62820/549123605.py:29: FutureWarning: The frame.append method is deprecated and will be removed from pandas in a future version. Use pandas.concat instead.\n",
      "  communitynotes = communitynotes.append(new_row, ignore_index=True)\n"
     ]
    },
    {
     "name": "stdout",
     "output_type": "stream",
     "text": [
      "https://s.weibo.com/weibo?q=%23%E5%BE%AE%E5%8D%9A%E9%99%84%E6%B3%A8%23&typeall=1&suball=1&timescope=custom%3A2024-08-01-23%3A2024-08-02-0\n"
     ]
    },
    {
     "name": "stderr",
     "output_type": "stream",
     "text": [
      "/var/folders/4h/zm_bwfv11ql5dx0d71rhbxqc0000gn/T/ipykernel_62820/549123605.py:29: FutureWarning: The frame.append method is deprecated and will be removed from pandas in a future version. Use pandas.concat instead.\n",
      "  communitynotes = communitynotes.append(new_row, ignore_index=True)\n",
      "/var/folders/4h/zm_bwfv11ql5dx0d71rhbxqc0000gn/T/ipykernel_62820/549123605.py:29: FutureWarning: The frame.append method is deprecated and will be removed from pandas in a future version. Use pandas.concat instead.\n",
      "  communitynotes = communitynotes.append(new_row, ignore_index=True)\n",
      "/var/folders/4h/zm_bwfv11ql5dx0d71rhbxqc0000gn/T/ipykernel_62820/549123605.py:29: FutureWarning: The frame.append method is deprecated and will be removed from pandas in a future version. Use pandas.concat instead.\n",
      "  communitynotes = communitynotes.append(new_row, ignore_index=True)\n",
      "/var/folders/4h/zm_bwfv11ql5dx0d71rhbxqc0000gn/T/ipykernel_62820/549123605.py:29: FutureWarning: The frame.append method is deprecated and will be removed from pandas in a future version. Use pandas.concat instead.\n",
      "  communitynotes = communitynotes.append(new_row, ignore_index=True)\n",
      "/var/folders/4h/zm_bwfv11ql5dx0d71rhbxqc0000gn/T/ipykernel_62820/549123605.py:29: FutureWarning: The frame.append method is deprecated and will be removed from pandas in a future version. Use pandas.concat instead.\n",
      "  communitynotes = communitynotes.append(new_row, ignore_index=True)\n"
     ]
    },
    {
     "name": "stdout",
     "output_type": "stream",
     "text": [
      "https://s.weibo.com/weibo?q=%23%E5%BE%AE%E5%8D%9A%E9%99%84%E6%B3%A8%23&typeall=1&suball=1&timescope=custom%3A2024-08-02-23%3A2024-08-03-0\n"
     ]
    },
    {
     "name": "stderr",
     "output_type": "stream",
     "text": [
      "/var/folders/4h/zm_bwfv11ql5dx0d71rhbxqc0000gn/T/ipykernel_62820/549123605.py:29: FutureWarning: The frame.append method is deprecated and will be removed from pandas in a future version. Use pandas.concat instead.\n",
      "  communitynotes = communitynotes.append(new_row, ignore_index=True)\n"
     ]
    },
    {
     "name": "stdout",
     "output_type": "stream",
     "text": [
      "https://s.weibo.com/weibo?q=%23%E5%BE%AE%E5%8D%9A%E9%99%84%E6%B3%A8%23&typeall=1&suball=1&timescope=custom%3A2024-08-03-23%3A2024-08-04-0\n"
     ]
    },
    {
     "name": "stderr",
     "output_type": "stream",
     "text": [
      "/var/folders/4h/zm_bwfv11ql5dx0d71rhbxqc0000gn/T/ipykernel_62820/549123605.py:29: FutureWarning: The frame.append method is deprecated and will be removed from pandas in a future version. Use pandas.concat instead.\n",
      "  communitynotes = communitynotes.append(new_row, ignore_index=True)\n",
      "/var/folders/4h/zm_bwfv11ql5dx0d71rhbxqc0000gn/T/ipykernel_62820/549123605.py:29: FutureWarning: The frame.append method is deprecated and will be removed from pandas in a future version. Use pandas.concat instead.\n",
      "  communitynotes = communitynotes.append(new_row, ignore_index=True)\n"
     ]
    },
    {
     "name": "stdout",
     "output_type": "stream",
     "text": [
      "https://s.weibo.com/weibo?q=%23%E5%BE%AE%E5%8D%9A%E9%99%84%E6%B3%A8%23&typeall=1&suball=1&timescope=custom%3A2024-08-04-23%3A2024-08-05-0\n"
     ]
    },
    {
     "name": "stderr",
     "output_type": "stream",
     "text": [
      "/var/folders/4h/zm_bwfv11ql5dx0d71rhbxqc0000gn/T/ipykernel_62820/549123605.py:29: FutureWarning: The frame.append method is deprecated and will be removed from pandas in a future version. Use pandas.concat instead.\n",
      "  communitynotes = communitynotes.append(new_row, ignore_index=True)\n"
     ]
    },
    {
     "name": "stdout",
     "output_type": "stream",
     "text": [
      "https://s.weibo.com/weibo?q=%23%E5%BE%AE%E5%8D%9A%E9%99%84%E6%B3%A8%23&typeall=1&suball=1&timescope=custom%3A2024-08-05-23%3A2024-08-06-0\n"
     ]
    },
    {
     "name": "stderr",
     "output_type": "stream",
     "text": [
      "/var/folders/4h/zm_bwfv11ql5dx0d71rhbxqc0000gn/T/ipykernel_62820/549123605.py:29: FutureWarning: The frame.append method is deprecated and will be removed from pandas in a future version. Use pandas.concat instead.\n",
      "  communitynotes = communitynotes.append(new_row, ignore_index=True)\n"
     ]
    },
    {
     "name": "stdout",
     "output_type": "stream",
     "text": [
      "https://s.weibo.com/weibo?q=%23%E5%BE%AE%E5%8D%9A%E9%99%84%E6%B3%A8%23&typeall=1&suball=1&timescope=custom%3A2024-08-06-23%3A2024-08-07-0\n"
     ]
    },
    {
     "name": "stderr",
     "output_type": "stream",
     "text": [
      "/var/folders/4h/zm_bwfv11ql5dx0d71rhbxqc0000gn/T/ipykernel_62820/549123605.py:29: FutureWarning: The frame.append method is deprecated and will be removed from pandas in a future version. Use pandas.concat instead.\n",
      "  communitynotes = communitynotes.append(new_row, ignore_index=True)\n",
      "/var/folders/4h/zm_bwfv11ql5dx0d71rhbxqc0000gn/T/ipykernel_62820/549123605.py:29: FutureWarning: The frame.append method is deprecated and will be removed from pandas in a future version. Use pandas.concat instead.\n",
      "  communitynotes = communitynotes.append(new_row, ignore_index=True)\n",
      "/var/folders/4h/zm_bwfv11ql5dx0d71rhbxqc0000gn/T/ipykernel_62820/549123605.py:29: FutureWarning: The frame.append method is deprecated and will be removed from pandas in a future version. Use pandas.concat instead.\n",
      "  communitynotes = communitynotes.append(new_row, ignore_index=True)\n",
      "/var/folders/4h/zm_bwfv11ql5dx0d71rhbxqc0000gn/T/ipykernel_62820/549123605.py:29: FutureWarning: The frame.append method is deprecated and will be removed from pandas in a future version. Use pandas.concat instead.\n",
      "  communitynotes = communitynotes.append(new_row, ignore_index=True)\n"
     ]
    },
    {
     "name": "stdout",
     "output_type": "stream",
     "text": [
      "https://s.weibo.com/weibo?q=%23%E5%BE%AE%E5%8D%9A%E9%99%84%E6%B3%A8%23&typeall=1&suball=1&timescope=custom%3A2024-08-07-23%3A2024-08-08-0\n"
     ]
    },
    {
     "name": "stderr",
     "output_type": "stream",
     "text": [
      "/var/folders/4h/zm_bwfv11ql5dx0d71rhbxqc0000gn/T/ipykernel_62820/549123605.py:29: FutureWarning: The frame.append method is deprecated and will be removed from pandas in a future version. Use pandas.concat instead.\n",
      "  communitynotes = communitynotes.append(new_row, ignore_index=True)\n",
      "/var/folders/4h/zm_bwfv11ql5dx0d71rhbxqc0000gn/T/ipykernel_62820/549123605.py:29: FutureWarning: The frame.append method is deprecated and will be removed from pandas in a future version. Use pandas.concat instead.\n",
      "  communitynotes = communitynotes.append(new_row, ignore_index=True)\n",
      "/var/folders/4h/zm_bwfv11ql5dx0d71rhbxqc0000gn/T/ipykernel_62820/549123605.py:29: FutureWarning: The frame.append method is deprecated and will be removed from pandas in a future version. Use pandas.concat instead.\n",
      "  communitynotes = communitynotes.append(new_row, ignore_index=True)\n",
      "/var/folders/4h/zm_bwfv11ql5dx0d71rhbxqc0000gn/T/ipykernel_62820/549123605.py:29: FutureWarning: The frame.append method is deprecated and will be removed from pandas in a future version. Use pandas.concat instead.\n",
      "  communitynotes = communitynotes.append(new_row, ignore_index=True)\n"
     ]
    },
    {
     "name": "stdout",
     "output_type": "stream",
     "text": [
      "https://s.weibo.com/weibo?q=%23%E5%BE%AE%E5%8D%9A%E9%99%84%E6%B3%A8%23&typeall=1&suball=1&timescope=custom%3A2024-08-08-23%3A2024-08-09-0\n"
     ]
    },
    {
     "name": "stderr",
     "output_type": "stream",
     "text": [
      "/var/folders/4h/zm_bwfv11ql5dx0d71rhbxqc0000gn/T/ipykernel_62820/549123605.py:29: FutureWarning: The frame.append method is deprecated and will be removed from pandas in a future version. Use pandas.concat instead.\n",
      "  communitynotes = communitynotes.append(new_row, ignore_index=True)\n",
      "/var/folders/4h/zm_bwfv11ql5dx0d71rhbxqc0000gn/T/ipykernel_62820/549123605.py:29: FutureWarning: The frame.append method is deprecated and will be removed from pandas in a future version. Use pandas.concat instead.\n",
      "  communitynotes = communitynotes.append(new_row, ignore_index=True)\n",
      "/var/folders/4h/zm_bwfv11ql5dx0d71rhbxqc0000gn/T/ipykernel_62820/549123605.py:29: FutureWarning: The frame.append method is deprecated and will be removed from pandas in a future version. Use pandas.concat instead.\n",
      "  communitynotes = communitynotes.append(new_row, ignore_index=True)\n",
      "/var/folders/4h/zm_bwfv11ql5dx0d71rhbxqc0000gn/T/ipykernel_62820/549123605.py:29: FutureWarning: The frame.append method is deprecated and will be removed from pandas in a future version. Use pandas.concat instead.\n",
      "  communitynotes = communitynotes.append(new_row, ignore_index=True)\n",
      "/var/folders/4h/zm_bwfv11ql5dx0d71rhbxqc0000gn/T/ipykernel_62820/549123605.py:29: FutureWarning: The frame.append method is deprecated and will be removed from pandas in a future version. Use pandas.concat instead.\n",
      "  communitynotes = communitynotes.append(new_row, ignore_index=True)\n"
     ]
    },
    {
     "name": "stdout",
     "output_type": "stream",
     "text": [
      "https://s.weibo.com/weibo?q=%23%E5%BE%AE%E5%8D%9A%E9%99%84%E6%B3%A8%23&typeall=1&suball=1&timescope=custom%3A2024-08-09-23%3A2024-08-10-0\n"
     ]
    },
    {
     "name": "stderr",
     "output_type": "stream",
     "text": [
      "/var/folders/4h/zm_bwfv11ql5dx0d71rhbxqc0000gn/T/ipykernel_62820/549123605.py:29: FutureWarning: The frame.append method is deprecated and will be removed from pandas in a future version. Use pandas.concat instead.\n",
      "  communitynotes = communitynotes.append(new_row, ignore_index=True)\n",
      "/var/folders/4h/zm_bwfv11ql5dx0d71rhbxqc0000gn/T/ipykernel_62820/549123605.py:29: FutureWarning: The frame.append method is deprecated and will be removed from pandas in a future version. Use pandas.concat instead.\n",
      "  communitynotes = communitynotes.append(new_row, ignore_index=True)\n"
     ]
    },
    {
     "name": "stdout",
     "output_type": "stream",
     "text": [
      "https://s.weibo.com/weibo?q=%23%E5%BE%AE%E5%8D%9A%E9%99%84%E6%B3%A8%23&typeall=1&suball=1&timescope=custom%3A2024-08-10-23%3A2024-08-11-0\n"
     ]
    },
    {
     "name": "stderr",
     "output_type": "stream",
     "text": [
      "/var/folders/4h/zm_bwfv11ql5dx0d71rhbxqc0000gn/T/ipykernel_62820/549123605.py:29: FutureWarning: The frame.append method is deprecated and will be removed from pandas in a future version. Use pandas.concat instead.\n",
      "  communitynotes = communitynotes.append(new_row, ignore_index=True)\n",
      "/var/folders/4h/zm_bwfv11ql5dx0d71rhbxqc0000gn/T/ipykernel_62820/549123605.py:29: FutureWarning: The frame.append method is deprecated and will be removed from pandas in a future version. Use pandas.concat instead.\n",
      "  communitynotes = communitynotes.append(new_row, ignore_index=True)\n",
      "/var/folders/4h/zm_bwfv11ql5dx0d71rhbxqc0000gn/T/ipykernel_62820/549123605.py:29: FutureWarning: The frame.append method is deprecated and will be removed from pandas in a future version. Use pandas.concat instead.\n",
      "  communitynotes = communitynotes.append(new_row, ignore_index=True)\n"
     ]
    },
    {
     "name": "stdout",
     "output_type": "stream",
     "text": [
      "https://s.weibo.com/weibo?q=%23%E5%BE%AE%E5%8D%9A%E9%99%84%E6%B3%A8%23&typeall=1&suball=1&timescope=custom%3A2024-08-11-23%3A2024-08-12-0\n"
     ]
    },
    {
     "name": "stderr",
     "output_type": "stream",
     "text": [
      "/var/folders/4h/zm_bwfv11ql5dx0d71rhbxqc0000gn/T/ipykernel_62820/549123605.py:29: FutureWarning: The frame.append method is deprecated and will be removed from pandas in a future version. Use pandas.concat instead.\n",
      "  communitynotes = communitynotes.append(new_row, ignore_index=True)\n",
      "/var/folders/4h/zm_bwfv11ql5dx0d71rhbxqc0000gn/T/ipykernel_62820/549123605.py:29: FutureWarning: The frame.append method is deprecated and will be removed from pandas in a future version. Use pandas.concat instead.\n",
      "  communitynotes = communitynotes.append(new_row, ignore_index=True)\n"
     ]
    },
    {
     "name": "stdout",
     "output_type": "stream",
     "text": [
      "https://s.weibo.com/weibo?q=%23%E5%BE%AE%E5%8D%9A%E9%99%84%E6%B3%A8%23&typeall=1&suball=1&timescope=custom%3A2024-08-12-23%3A2024-08-13-0\n"
     ]
    },
    {
     "name": "stderr",
     "output_type": "stream",
     "text": [
      "/var/folders/4h/zm_bwfv11ql5dx0d71rhbxqc0000gn/T/ipykernel_62820/549123605.py:29: FutureWarning: The frame.append method is deprecated and will be removed from pandas in a future version. Use pandas.concat instead.\n",
      "  communitynotes = communitynotes.append(new_row, ignore_index=True)\n",
      "/var/folders/4h/zm_bwfv11ql5dx0d71rhbxqc0000gn/T/ipykernel_62820/549123605.py:29: FutureWarning: The frame.append method is deprecated and will be removed from pandas in a future version. Use pandas.concat instead.\n",
      "  communitynotes = communitynotes.append(new_row, ignore_index=True)\n",
      "/var/folders/4h/zm_bwfv11ql5dx0d71rhbxqc0000gn/T/ipykernel_62820/549123605.py:29: FutureWarning: The frame.append method is deprecated and will be removed from pandas in a future version. Use pandas.concat instead.\n",
      "  communitynotes = communitynotes.append(new_row, ignore_index=True)\n",
      "/var/folders/4h/zm_bwfv11ql5dx0d71rhbxqc0000gn/T/ipykernel_62820/549123605.py:29: FutureWarning: The frame.append method is deprecated and will be removed from pandas in a future version. Use pandas.concat instead.\n",
      "  communitynotes = communitynotes.append(new_row, ignore_index=True)\n"
     ]
    },
    {
     "name": "stdout",
     "output_type": "stream",
     "text": [
      "https://s.weibo.com/weibo?q=%23%E5%BE%AE%E5%8D%9A%E9%99%84%E6%B3%A8%23&typeall=1&suball=1&timescope=custom%3A2024-08-13-23%3A2024-08-14-0\n"
     ]
    },
    {
     "name": "stderr",
     "output_type": "stream",
     "text": [
      "/var/folders/4h/zm_bwfv11ql5dx0d71rhbxqc0000gn/T/ipykernel_62820/549123605.py:29: FutureWarning: The frame.append method is deprecated and will be removed from pandas in a future version. Use pandas.concat instead.\n",
      "  communitynotes = communitynotes.append(new_row, ignore_index=True)\n",
      "/var/folders/4h/zm_bwfv11ql5dx0d71rhbxqc0000gn/T/ipykernel_62820/549123605.py:29: FutureWarning: The frame.append method is deprecated and will be removed from pandas in a future version. Use pandas.concat instead.\n",
      "  communitynotes = communitynotes.append(new_row, ignore_index=True)\n",
      "/var/folders/4h/zm_bwfv11ql5dx0d71rhbxqc0000gn/T/ipykernel_62820/549123605.py:29: FutureWarning: The frame.append method is deprecated and will be removed from pandas in a future version. Use pandas.concat instead.\n",
      "  communitynotes = communitynotes.append(new_row, ignore_index=True)\n"
     ]
    },
    {
     "name": "stdout",
     "output_type": "stream",
     "text": [
      "https://s.weibo.com/weibo?q=%23%E5%BE%AE%E5%8D%9A%E9%99%84%E6%B3%A8%23&typeall=1&suball=1&timescope=custom%3A2024-08-14-23%3A2024-08-15-0\n"
     ]
    },
    {
     "name": "stderr",
     "output_type": "stream",
     "text": [
      "/var/folders/4h/zm_bwfv11ql5dx0d71rhbxqc0000gn/T/ipykernel_62820/549123605.py:29: FutureWarning: The frame.append method is deprecated and will be removed from pandas in a future version. Use pandas.concat instead.\n",
      "  communitynotes = communitynotes.append(new_row, ignore_index=True)\n"
     ]
    },
    {
     "name": "stdout",
     "output_type": "stream",
     "text": [
      "https://s.weibo.com/weibo?q=%23%E5%BE%AE%E5%8D%9A%E9%99%84%E6%B3%A8%23&typeall=1&suball=1&timescope=custom%3A2024-08-15-23%3A2024-08-16-0\n"
     ]
    },
    {
     "name": "stderr",
     "output_type": "stream",
     "text": [
      "/var/folders/4h/zm_bwfv11ql5dx0d71rhbxqc0000gn/T/ipykernel_62820/549123605.py:29: FutureWarning: The frame.append method is deprecated and will be removed from pandas in a future version. Use pandas.concat instead.\n",
      "  communitynotes = communitynotes.append(new_row, ignore_index=True)\n",
      "/var/folders/4h/zm_bwfv11ql5dx0d71rhbxqc0000gn/T/ipykernel_62820/549123605.py:29: FutureWarning: The frame.append method is deprecated and will be removed from pandas in a future version. Use pandas.concat instead.\n",
      "  communitynotes = communitynotes.append(new_row, ignore_index=True)\n"
     ]
    },
    {
     "name": "stdout",
     "output_type": "stream",
     "text": [
      "https://s.weibo.com/weibo?q=%23%E5%BE%AE%E5%8D%9A%E9%99%84%E6%B3%A8%23&typeall=1&suball=1&timescope=custom%3A2024-08-16-23%3A2024-08-17-0\n"
     ]
    },
    {
     "name": "stderr",
     "output_type": "stream",
     "text": [
      "/var/folders/4h/zm_bwfv11ql5dx0d71rhbxqc0000gn/T/ipykernel_62820/549123605.py:29: FutureWarning: The frame.append method is deprecated and will be removed from pandas in a future version. Use pandas.concat instead.\n",
      "  communitynotes = communitynotes.append(new_row, ignore_index=True)\n",
      "/var/folders/4h/zm_bwfv11ql5dx0d71rhbxqc0000gn/T/ipykernel_62820/549123605.py:29: FutureWarning: The frame.append method is deprecated and will be removed from pandas in a future version. Use pandas.concat instead.\n",
      "  communitynotes = communitynotes.append(new_row, ignore_index=True)\n"
     ]
    },
    {
     "name": "stdout",
     "output_type": "stream",
     "text": [
      "https://s.weibo.com/weibo?q=%23%E5%BE%AE%E5%8D%9A%E9%99%84%E6%B3%A8%23&typeall=1&suball=1&timescope=custom%3A2024-08-17-23%3A2024-08-18-0\n"
     ]
    },
    {
     "name": "stderr",
     "output_type": "stream",
     "text": [
      "/var/folders/4h/zm_bwfv11ql5dx0d71rhbxqc0000gn/T/ipykernel_62820/549123605.py:29: FutureWarning: The frame.append method is deprecated and will be removed from pandas in a future version. Use pandas.concat instead.\n",
      "  communitynotes = communitynotes.append(new_row, ignore_index=True)\n",
      "/var/folders/4h/zm_bwfv11ql5dx0d71rhbxqc0000gn/T/ipykernel_62820/549123605.py:29: FutureWarning: The frame.append method is deprecated and will be removed from pandas in a future version. Use pandas.concat instead.\n",
      "  communitynotes = communitynotes.append(new_row, ignore_index=True)\n",
      "/var/folders/4h/zm_bwfv11ql5dx0d71rhbxqc0000gn/T/ipykernel_62820/549123605.py:29: FutureWarning: The frame.append method is deprecated and will be removed from pandas in a future version. Use pandas.concat instead.\n",
      "  communitynotes = communitynotes.append(new_row, ignore_index=True)\n",
      "/var/folders/4h/zm_bwfv11ql5dx0d71rhbxqc0000gn/T/ipykernel_62820/549123605.py:29: FutureWarning: The frame.append method is deprecated and will be removed from pandas in a future version. Use pandas.concat instead.\n",
      "  communitynotes = communitynotes.append(new_row, ignore_index=True)\n"
     ]
    },
    {
     "name": "stdout",
     "output_type": "stream",
     "text": [
      "https://s.weibo.com/weibo?q=%23%E5%BE%AE%E5%8D%9A%E9%99%84%E6%B3%A8%23&typeall=1&suball=1&timescope=custom%3A2024-08-18-23%3A2024-08-19-0\n"
     ]
    },
    {
     "name": "stderr",
     "output_type": "stream",
     "text": [
      "/var/folders/4h/zm_bwfv11ql5dx0d71rhbxqc0000gn/T/ipykernel_62820/549123605.py:29: FutureWarning: The frame.append method is deprecated and will be removed from pandas in a future version. Use pandas.concat instead.\n",
      "  communitynotes = communitynotes.append(new_row, ignore_index=True)\n",
      "/var/folders/4h/zm_bwfv11ql5dx0d71rhbxqc0000gn/T/ipykernel_62820/549123605.py:29: FutureWarning: The frame.append method is deprecated and will be removed from pandas in a future version. Use pandas.concat instead.\n",
      "  communitynotes = communitynotes.append(new_row, ignore_index=True)\n"
     ]
    },
    {
     "name": "stdout",
     "output_type": "stream",
     "text": [
      "https://s.weibo.com/weibo?q=%23%E5%BE%AE%E5%8D%9A%E9%99%84%E6%B3%A8%23&typeall=1&suball=1&timescope=custom%3A2024-08-19-23%3A2024-08-20-0\n"
     ]
    },
    {
     "name": "stderr",
     "output_type": "stream",
     "text": [
      "/var/folders/4h/zm_bwfv11ql5dx0d71rhbxqc0000gn/T/ipykernel_62820/549123605.py:29: FutureWarning: The frame.append method is deprecated and will be removed from pandas in a future version. Use pandas.concat instead.\n",
      "  communitynotes = communitynotes.append(new_row, ignore_index=True)\n"
     ]
    }
   ],
   "source": [
    "#for t in time_range:\n",
    "for ts in hourly_time_range:\n",
    "    #keyword_url=url+\"%3A\"+t+\"%3A\"+t\n",
    "    keyword_url=url+\"%3A\"+ts[0]+\"%3A\"+ts[1]\n",
    "    driver.get(keyword_url)\n",
    "    print(keyword_url)\n",
    "    page_count=1\n",
    "    finish=False\n",
    "    while finish==False:\n",
    "        html_content = driver.page_source\n",
    "        soup = BeautifulSoup(html_content, 'html.parser')\n",
    "        divs = soup.find_all(lambda tag: tag.name == 'div' and tag.get('action-type') == 'feed_list_item')\n",
    "        for div in divs:\n",
    "            a_tagname = div.find('a', {'class': 'name'})\n",
    "\n",
    "            user_name = a_tagname.get_text(strip=True)\n",
    "            user_link = a_tagname.get('href')\n",
    "\n",
    "            post_id=div.get('mid')\n",
    "            a_tagfrom=div.find('div', {'class': 'from'}).find('a')\n",
    "            date_time=a_tagfrom.get_text(strip=True)\n",
    "            post_link=a_tagfrom.get('href')\n",
    "            like=div.find('span',{'class':'woo-like-count'}).get_text()\n",
    "            post=div.find('p',{'node-type':'feed_list_content'}).decode_contents()\n",
    "            embedded=div.find('div',{'class':'content'}).find('div', {'class': 'media media-item-a'}, recursive=False)\n",
    "            if embedded:\n",
    "                target=embedded.find('a').get('href')\n",
    "                new_row = {'post_id':post_id,'post_link':post_link,'user_name':user_name,'user_link':user_link,'time':date_time,'target':target,'post_content':post,'like':like}\n",
    "                communitynotes = communitynotes.append(new_row, ignore_index=True)\n",
    "\n",
    "        communitynotes.to_csv(\"CommunityNotes.csv\",index=False)\n",
    "        time.sleep(10)\n",
    "        try:\n",
    "            next_page_button = driver.find_element(By.XPATH,  \"//a[@class='next']\")\n",
    "            next_page_button.click()\n",
    "            page_count+=1\n",
    "        except:\n",
    "            finish=True\n",
    "        if page_count>50:\n",
    "            finish=True\n",
    "        "
   ]
  },
  {
   "cell_type": "code",
   "execution_count": null,
   "metadata": {},
   "outputs": [],
   "source": []
  }
 ],
 "metadata": {
  "kernelspec": {
   "display_name": "Python 3 (ipykernel)",
   "language": "python",
   "name": "python3"
  },
  "language_info": {
   "codemirror_mode": {
    "name": "ipython",
    "version": 3
   },
   "file_extension": ".py",
   "mimetype": "text/x-python",
   "name": "python",
   "nbconvert_exporter": "python",
   "pygments_lexer": "ipython3",
   "version": "3.11.2"
  }
 },
 "nbformat": 4,
 "nbformat_minor": 2
}
